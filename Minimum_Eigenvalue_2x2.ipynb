{
 "cells": [
  {
   "cell_type": "markdown",
   "metadata": {},
   "source": [
    "# Data_Generator"
   ]
  },
  {
   "cell_type": "code",
   "execution_count": 428,
   "metadata": {},
   "outputs": [],
   "source": [
    "from qiskit import QuantumRegister, ClassicalRegister\n",
    "from qiskit import QuantumCircuit, execute, Aer\n",
    "import pennylane as qml\n",
    "import numpy as np\n",
    "from numpy import pi\n",
    "simulator = Aer.get_backend('qasm_simulator')\n",
    "\n",
    "from scipy.linalg import expm, sinm, cosm"
   ]
  },
  {
   "cell_type": "markdown",
   "metadata": {},
   "source": [
    "# Ansatz"
   ]
  },
  {
   "cell_type": "code",
   "execution_count": 907,
   "metadata": {},
   "outputs": [],
   "source": [
    "def Operational_circuit(params):\n",
    "    qc = QuantumCircuit(1)\n",
    "    \n",
    "    #qc.h(range(2))\n",
    "    qc.u3(params[0],params[1],params[2],0)\n",
    "    #qc.rx(pi/2,0)\n",
    "    \n",
    "    return qc\n",
    "    "
   ]
  },
  {
   "cell_type": "code",
   "execution_count": 908,
   "metadata": {},
   "outputs": [],
   "source": [
    "Operational_circuit_try = Operational_circuit([0,1,2])"
   ]
  },
  {
   "cell_type": "code",
   "execution_count": 909,
   "metadata": {},
   "outputs": [
    {
     "data": {
      "text/html": [
       "<pre style=\"word-wrap: normal;white-space: pre;background: #fff0;line-height: 1.1;font-family: &quot;Courier New&quot;,Courier,monospace\">     ┌───────────┐\n",
       "q_0: ┤ U3(0,1,2) ├\n",
       "     └───────────┘</pre>"
      ],
      "text/plain": [
       "     ┌───────────┐\n",
       "q_0: ┤ U3(0,1,2) ├\n",
       "     └───────────┘"
      ]
     },
     "execution_count": 909,
     "metadata": {},
     "output_type": "execute_result"
    }
   ],
   "source": [
    "Operational_circuit_try.draw()"
   ]
  },
  {
   "cell_type": "markdown",
   "metadata": {},
   "source": [
    "# Measurments for different components of H"
   ]
  },
  {
   "cell_type": "markdown",
   "metadata": {},
   "source": [
    "# 1. Z"
   ]
  },
  {
   "cell_type": "code",
   "execution_count": 910,
   "metadata": {},
   "outputs": [
    {
     "data": {
      "text/html": [
       "<pre style=\"word-wrap: normal;white-space: pre;background: #fff0;line-height: 1.1;font-family: &quot;Courier New&quot;,Courier,monospace\">        ┌───────────┐ ░ ┌─┐\n",
       "   q_0: ┤ U3(0,1,2) ├─░─┤M├\n",
       "        └───────────┘ ░ └╥┘\n",
       "meas_0: ═════════════════╩═\n",
       "                           </pre>"
      ],
      "text/plain": [
       "        ┌───────────┐ ░ ┌─┐\n",
       "   q_0: ┤ U3(0,1,2) ├─░─┤M├\n",
       "        └───────────┘ ░ └╥┘\n",
       "meas_0: ═════════════════╩═\n",
       "                           "
      ]
     },
     "execution_count": 910,
     "metadata": {},
     "output_type": "execute_result"
    }
   ],
   "source": [
    "def measure_z_circuit(given_circuit):\n",
    "    z_meas = given_circuit.copy()\n",
    "    z_meas.measure_all()\n",
    "    return z_meas\n",
    "\n",
    "z_meas = measure_z_circuit(Operational_circuit_try)\n",
    "z_meas.draw()"
   ]
  },
  {
   "cell_type": "code",
   "execution_count": 911,
   "metadata": {},
   "outputs": [],
   "source": [
    "def measure_z(given_circuit, num_shots = 10000):\n",
    "\n",
    "    z_meas = measure_z_circuit(given_circuit)\n",
    "    \n",
    "    result = execute(z_meas, backend = simulator, shots = num_shots).result()\n",
    "    counts = result.get_counts(z_meas)\n",
    "\n",
    "    if '0' not in counts:\n",
    "        counts['0'] = 0\n",
    "    if '1' not in counts:\n",
    "        counts['1'] = 0\n",
    "\n",
    "    total_counts = counts['0'] + counts['1']\n",
    "    z = counts['0'] - counts['1']\n",
    "    z = z / total_counts\n",
    "    \n",
    "    return z"
   ]
  },
  {
   "cell_type": "code",
   "execution_count": 912,
   "metadata": {},
   "outputs": [
    {
     "name": "stdout",
     "output_type": "stream",
     "text": [
      "<Z> = 1.0\n"
     ]
    }
   ],
   "source": [
    "z = measure_z(Operational_circuit_try)\n",
    "print(\"<Z> =\", str(z))"
   ]
  },
  {
   "cell_type": "markdown",
   "metadata": {},
   "source": [
    "# 2. X"
   ]
  },
  {
   "cell_type": "code",
   "execution_count": 913,
   "metadata": {},
   "outputs": [],
   "source": [
    "def measure_x_circuit(given_circuit):\n",
    "    x_meas = given_circuit.copy()\n",
    "    x_meas.h(0)\n",
    "    x_meas.measure_all()\n",
    "\n",
    "    return x_meas"
   ]
  },
  {
   "cell_type": "code",
   "execution_count": 914,
   "metadata": {},
   "outputs": [
    {
     "data": {
      "text/html": [
       "<pre style=\"word-wrap: normal;white-space: pre;background: #fff0;line-height: 1.1;font-family: &quot;Courier New&quot;,Courier,monospace\">        ┌───────────┐┌───┐ ░ ┌─┐\n",
       "   q_0: ┤ U3(0,1,2) ├┤ H ├─░─┤M├\n",
       "        └───────────┘└───┘ ░ └╥┘\n",
       "meas_0: ══════════════════════╩═\n",
       "                                </pre>"
      ],
      "text/plain": [
       "        ┌───────────┐┌───┐ ░ ┌─┐\n",
       "   q_0: ┤ U3(0,1,2) ├┤ H ├─░─┤M├\n",
       "        └───────────┘└───┘ ░ └╥┘\n",
       "meas_0: ══════════════════════╩═\n",
       "                                "
      ]
     },
     "execution_count": 914,
     "metadata": {},
     "output_type": "execute_result"
    }
   ],
   "source": [
    "x_meas = measure_x_circuit(Operational_circuit_try)\n",
    "x_meas.draw()"
   ]
  },
  {
   "cell_type": "code",
   "execution_count": 915,
   "metadata": {},
   "outputs": [],
   "source": [
    "def measure_x(given_circuit, num_shots = 10000):\n",
    "    \n",
    "    x_meas = measure_x_circuit(given_circuit)\n",
    "    \n",
    "    result = execute(x_meas, backend = simulator, shots = num_shots).result()\n",
    "    counts = result.get_counts(x_meas)\n",
    "\n",
    "    if '0' not in counts:\n",
    "        counts['0'] = 0\n",
    "    if '1' not in counts:\n",
    "        counts['1'] = 0\n",
    "\n",
    "    total_counts = counts['0'] + counts['1'] \n",
    "    x = counts['0'] - counts['1']\n",
    "    x = x / total_counts\n",
    "    \n",
    "    return x"
   ]
  },
  {
   "cell_type": "code",
   "execution_count": 916,
   "metadata": {},
   "outputs": [
    {
     "name": "stdout",
     "output_type": "stream",
     "text": [
      "<X> = 0.0022\n"
     ]
    }
   ],
   "source": [
    "x = measure_x(Operational_circuit_try)\n",
    "print(\"<X> =\", str(x))"
   ]
  },
  {
   "cell_type": "markdown",
   "metadata": {},
   "source": [
    "# 3. Y"
   ]
  },
  {
   "cell_type": "code",
   "execution_count": 917,
   "metadata": {},
   "outputs": [],
   "source": [
    "def measure_y_circuit(given_circuit):\n",
    "    y_meas = given_circuit.copy()\n",
    "    y_meas.rz(-pi/2,0)\n",
    "    y_meas.h(0)\n",
    "\n",
    "    y_meas.measure_all()\n",
    "\n",
    "    return y_meas"
   ]
  },
  {
   "cell_type": "code",
   "execution_count": 918,
   "metadata": {},
   "outputs": [
    {
     "data": {
      "text/html": [
       "<pre style=\"word-wrap: normal;white-space: pre;background: #fff0;line-height: 1.1;font-family: &quot;Courier New&quot;,Courier,monospace\">        ┌───────────┐┌───────────┐┌───┐ ░ ┌─┐\n",
       "   q_0: ┤ U3(0,1,2) ├┤ RZ(-pi/2) ├┤ H ├─░─┤M├\n",
       "        └───────────┘└───────────┘└───┘ ░ └╥┘\n",
       "meas_0: ═══════════════════════════════════╩═\n",
       "                                             </pre>"
      ],
      "text/plain": [
       "        ┌───────────┐┌───────────┐┌───┐ ░ ┌─┐\n",
       "   q_0: ┤ U3(0,1,2) ├┤ RZ(-pi/2) ├┤ H ├─░─┤M├\n",
       "        └───────────┘└───────────┘└───┘ ░ └╥┘\n",
       "meas_0: ═══════════════════════════════════╩═\n",
       "                                             "
      ]
     },
     "execution_count": 918,
     "metadata": {},
     "output_type": "execute_result"
    }
   ],
   "source": [
    "y_meas = measure_y_circuit(Operational_circuit_try)\n",
    "y_meas.draw()"
   ]
  },
  {
   "cell_type": "code",
   "execution_count": 948,
   "metadata": {},
   "outputs": [],
   "source": [
    "def measure_y(given_circuit, num_shots = 10000):\n",
    "    \n",
    "    y_meas = measure_y_circuit(given_circuit)\n",
    "    \n",
    "    result = execute(y_meas, backend = simulator, shots = num_shots).result()\n",
    "    counts = result.get_counts(y_meas)\n",
    "\n",
    "    if '0' not in counts:\n",
    "        counts['0'] = 0\n",
    "    if '1' not in counts:\n",
    "        counts['1'] = 0\n",
    "\n",
    "    total_counts = counts['0'] + counts['1'] \n",
    "    y = counts['0']  - counts['1']\n",
    "    y = y / total_counts\n",
    "    \n",
    "    return y"
   ]
  },
  {
   "cell_type": "code",
   "execution_count": 949,
   "metadata": {},
   "outputs": [
    {
     "name": "stdout",
     "output_type": "stream",
     "text": [
      "<y> = -0.0016\n"
     ]
    }
   ],
   "source": [
    "y = measure_y(Operational_circuit_try)\n",
    "print(\"<y> =\", str(y))"
   ]
  },
  {
   "cell_type": "markdown",
   "metadata": {},
   "source": [
    "# Matrix and Decomposition"
   ]
  },
  {
   "cell_type": "code",
   "execution_count": 950,
   "metadata": {},
   "outputs": [],
   "source": [
    "M= np.matrix('0 -1j  ;1j 0 ')\n",
    "M=1*M"
   ]
  },
  {
   "cell_type": "code",
   "execution_count": 951,
   "metadata": {},
   "outputs": [],
   "source": [
    "coeffs, obs_list = qml.utils.decompose_hamiltonian(M)\n",
    "H = qml.Hamiltonian(coeffs, obs_list)"
   ]
  },
  {
   "cell_type": "code",
   "execution_count": 952,
   "metadata": {},
   "outputs": [
    {
     "name": "stdout",
     "output_type": "stream",
     "text": [
      "(1.0) [Y0]\n"
     ]
    }
   ],
   "source": [
    "print(H)"
   ]
  },
  {
   "cell_type": "code",
   "execution_count": 953,
   "metadata": {},
   "outputs": [],
   "source": [
    "def coef(H):\n",
    "    coeff = [0,0,0,0]\n",
    "    h = str(H)\n",
    "    for i in range (len(h)):\n",
    "        p = \"\"\n",
    "        if h[i] ==\"(\":\n",
    "            j = i+1 \n",
    "            while h[j]!=\")\" :\n",
    "                p=p+h[j]\n",
    "                j+=1\n",
    "            \n",
    "            if h[j+3] == \"I\":\n",
    "                coeff[0] = float(p)\n",
    "                \n",
    "            if h[j+3] == \"X\":\n",
    "                coeff[1] = float(p)\n",
    "                \n",
    "            if h[j+3] == \"Y\":\n",
    "                coeff[2] = float(p)\n",
    "                \n",
    "            if h[j+3] == \"Z\":\n",
    "                coeff[3] = float(p)\n",
    "    \n",
    "    return(coeff)\n",
    "            \n",
    "            "
   ]
  },
  {
   "cell_type": "markdown",
   "metadata": {},
   "source": [
    "# Cost_Function"
   ]
  },
  {
   "cell_type": "code",
   "execution_count": 954,
   "metadata": {},
   "outputs": [
    {
     "data": {
      "text/plain": [
       "[0, 0, 1.0, 0]"
      ]
     },
     "execution_count": 954,
     "metadata": {},
     "output_type": "execute_result"
    }
   ],
   "source": [
    "coef(H) "
   ]
  },
  {
   "cell_type": "code",
   "execution_count": 955,
   "metadata": {},
   "outputs": [],
   "source": [
    "def eigen_value(params):\n",
    "    num_shots = 100000\n",
    "    z = measure_z(Operational_circuit(params), num_shots = num_shots)\n",
    "    x = measure_x(Operational_circuit(params), num_shots = num_shots)\n",
    "    y = measure_y(Operational_circuit(params), num_shots = num_shots)\n",
    "    coeff =coef(H) \n",
    "    ev = coeff[0]+coeff[1]*x+coeff[2]*y+coeff[3]*z\n",
    "    \n",
    "    return ev"
   ]
  },
  {
   "cell_type": "code",
   "execution_count": 958,
   "metadata": {},
   "outputs": [],
   "source": [
    "params = [pi/2,-pi/2,pi/2]"
   ]
  },
  {
   "cell_type": "code",
   "execution_count": 959,
   "metadata": {
    "scrolled": true
   },
   "outputs": [
    {
     "name": "stdout",
     "output_type": "stream",
     "text": [
      "The Eigen_Value of the trial state is -1.0\n"
     ]
    }
   ],
   "source": [
    "ev = eigen_value(params)    \n",
    "print(\"The Eigen_Value of the trial state is\", str(ev))"
   ]
  },
  {
   "cell_type": "markdown",
   "metadata": {},
   "source": [
    "# Finding Lowest Eignevalue"
   ]
  },
  {
   "cell_type": "code",
   "execution_count": 960,
   "metadata": {},
   "outputs": [],
   "source": [
    "from qiskit.aqua.components.optimizers import COBYLA,SLSQP,SPSA\n",
    "\n",
    "optimizer = COBYLA(50,0.001)"
   ]
  },
  {
   "cell_type": "code",
   "execution_count": 961,
   "metadata": {},
   "outputs": [],
   "source": [
    "ret = optimizer.optimize(num_vars=3, objective_function=eigen_value, initial_point=params)"
   ]
  },
  {
   "cell_type": "code",
   "execution_count": 962,
   "metadata": {},
   "outputs": [
    {
     "data": {
      "text/plain": [
       "-1.0"
      ]
     },
     "execution_count": 962,
     "metadata": {},
     "output_type": "execute_result"
    }
   ],
   "source": [
    "eigen_value(ret[0])"
   ]
  },
  {
   "cell_type": "code",
   "execution_count": 963,
   "metadata": {},
   "outputs": [
    {
     "data": {
      "text/plain": [
       "(array([ 1.57079633, -1.57079633,  1.57079633]), -1.0, 28)"
      ]
     },
     "execution_count": 963,
     "metadata": {},
     "output_type": "execute_result"
    }
   ],
   "source": [
    "ret"
   ]
  },
  {
   "cell_type": "markdown",
   "metadata": {},
   "source": [
    "# Eigen State"
   ]
  },
  {
   "cell_type": "code",
   "execution_count": 964,
   "metadata": {},
   "outputs": [],
   "source": [
    "backend_state = Aer.get_backend('statevector_simulator')"
   ]
  },
  {
   "cell_type": "code",
   "execution_count": 965,
   "metadata": {},
   "outputs": [],
   "source": [
    "\n",
    "result = execute(Operational_circuit(ret[0]),backend_state).result()\n",
    "out_state = result.get_statevector()\n"
   ]
  },
  {
   "cell_type": "code",
   "execution_count": 966,
   "metadata": {
    "scrolled": true
   },
   "outputs": [
    {
     "name": "stdout",
     "output_type": "stream",
     "text": [
      "[7.07106781e-01+0.j         4.32978028e-17-0.70710678j]\n"
     ]
    }
   ],
   "source": [
    "print(out_state)"
   ]
  },
  {
   "cell_type": "markdown",
   "metadata": {},
   "source": [
    "# Check"
   ]
  },
  {
   "cell_type": "code",
   "execution_count": 967,
   "metadata": {},
   "outputs": [
    {
     "data": {
      "text/plain": [
       "<qiskit.circuit.instructionset.InstructionSet at 0x1ee2a8f72e8>"
      ]
     },
     "execution_count": 967,
     "metadata": {},
     "output_type": "execute_result"
    }
   ],
   "source": [
    "qc = QuantumCircuit(1)\n",
    "qc.initialize(out_state,0)"
   ]
  },
  {
   "cell_type": "code",
   "execution_count": 968,
   "metadata": {},
   "outputs": [],
   "source": [
    "def eigen_value_state(qc):\n",
    "    num_shots = 100000\n",
    "    z = measure_z(qc, num_shots = num_shots)\n",
    "    x = measure_x(qc, num_shots = num_shots)\n",
    "    y = measure_y(qc, num_shots = num_shots)\n",
    "    coeff =coef(H) \n",
    "    ev = coeff[0]+coeff[1]*x+coeff[2]*y+coeff[3]*z\n",
    "    \n",
    "    return ev"
   ]
  },
  {
   "cell_type": "code",
   "execution_count": 969,
   "metadata": {},
   "outputs": [
    {
     "data": {
      "text/plain": [
       "-1.0"
      ]
     },
     "execution_count": 969,
     "metadata": {},
     "output_type": "execute_result"
    }
   ],
   "source": [
    " eigen_value_state(qc)"
   ]
  },
  {
   "cell_type": "markdown",
   "metadata": {},
   "source": [
    "# Exponential Matrix "
   ]
  },
  {
   "cell_type": "code",
   "execution_count": 970,
   "metadata": {},
   "outputs": [],
   "source": [
    "from scipy.linalg import expm, sinm, cosm"
   ]
  },
  {
   "cell_type": "code",
   "execution_count": 971,
   "metadata": {},
   "outputs": [],
   "source": [
    "def mult(X,Y):\n",
    "    Z = [0,0,0,0]\n",
    "    Z[0] = round(expm(X)[0][0]*expm(Y)[0][0]+expm(X)[0][1]*expm(Y)[1][0])\n",
    "    Z[1] = round(expm(X)[0][0]*expm(Y)[0][1]+expm(X)[0][1]*expm(Y)[1][1])\n",
    "    Z[2] = round(expm(X)[1][0]*expm(Y)[0][0]+expm(X)[1][1]*expm(Y)[1][0])\n",
    "    Z[3] = round(expm(X)[1][0]*expm(Y)[0][1]+expm(X)[1][1]*expm(Y)[1][1])\n",
    "    return(Z)"
   ]
  },
  {
   "cell_type": "code",
   "execution_count": 972,
   "metadata": {},
   "outputs": [],
   "source": [
    "had = [(0.5)**2, (0.5)**2]\n",
    "initial_h = np.dot(expm(1j*M),had)\n",
    "initial = np.dot(expm(1j*M),[1,0])"
   ]
  },
  {
   "cell_type": "code",
   "execution_count": 973,
   "metadata": {
    "scrolled": true
   },
   "outputs": [
    {
     "name": "stdout",
     "output_type": "stream",
     "text": [
      "Matrix:- [[0.+0.j 0.-1.j]\n",
      " [0.+1.j 0.+0.j]]\n",
      "\n",
      "e^iH:- [[ 0.54030231+0.j  0.84147098+0.j]\n",
      " [-0.84147098+0.j  0.54030231+0.j]]\n",
      "\n",
      "Initial_H:- [ 0.34544332+0.j -0.07529217+0.j]\n",
      "\n",
      "Initial_Down:- [ 0.54030231+0.j -0.84147098+0.j]\n",
      "\n",
      "Output:- [7.07106781e-01+0.j         4.32978028e-17-0.70710678j]\n"
     ]
    }
   ],
   "source": [
    "print(\"Matrix:-\", M)\n",
    "print()\n",
    "print(\"e^iH:-\",expm(1j*M) )\n",
    "print()\n",
    "print(\"Initial_H:-\", initial_h)\n",
    "print()\n",
    "print(\"Initial_Down:-\", initial)\n",
    "print()\n",
    "print(\"Output:-\",out_state)"
   ]
  },
  {
   "cell_type": "code",
   "execution_count": null,
   "metadata": {},
   "outputs": [],
   "source": []
  },
  {
   "cell_type": "code",
   "execution_count": null,
   "metadata": {},
   "outputs": [],
   "source": []
  },
  {
   "cell_type": "code",
   "execution_count": null,
   "metadata": {},
   "outputs": [],
   "source": []
  },
  {
   "cell_type": "code",
   "execution_count": null,
   "metadata": {},
   "outputs": [],
   "source": []
  },
  {
   "cell_type": "code",
   "execution_count": null,
   "metadata": {},
   "outputs": [],
   "source": []
  },
  {
   "cell_type": "code",
   "execution_count": null,
   "metadata": {},
   "outputs": [],
   "source": []
  },
  {
   "cell_type": "code",
   "execution_count": null,
   "metadata": {},
   "outputs": [],
   "source": []
  },
  {
   "cell_type": "code",
   "execution_count": null,
   "metadata": {},
   "outputs": [],
   "source": []
  },
  {
   "cell_type": "code",
   "execution_count": null,
   "metadata": {},
   "outputs": [],
   "source": []
  }
 ],
 "metadata": {
  "kernelspec": {
   "display_name": "Python 3",
   "language": "python",
   "name": "python3"
  },
  "language_info": {
   "codemirror_mode": {
    "name": "ipython",
    "version": 3
   },
   "file_extension": ".py",
   "mimetype": "text/x-python",
   "name": "python",
   "nbconvert_exporter": "python",
   "pygments_lexer": "ipython3",
   "version": "3.7.1"
  }
 },
 "nbformat": 4,
 "nbformat_minor": 4
}
