{
 "cells": [
  {
   "cell_type": "markdown",
   "metadata": {},
   "source": [
    "# Task4"
   ]
  },
  {
   "cell_type": "code",
   "execution_count": 1,
   "metadata": {},
   "outputs": [],
   "source": [
    "from qiskit import QuantumRegister, ClassicalRegister\n",
    "from qiskit import QuantumCircuit, execute, Aer\n",
    "import pennylane as qml\n",
    "import numpy as np\n",
    "from numpy import pi\n",
    "simulator = Aer.get_backend('qasm_simulator')\n",
    "\n"
   ]
  },
  {
   "cell_type": "markdown",
   "metadata": {},
   "source": [
    "# Matrix and Decomposition"
   ]
  },
  {
   "cell_type": "code",
   "execution_count": 59,
   "metadata": {},
   "outputs": [],
   "source": [
    "M= np.matrix('0 -1  ;-1 0')"
   ]
  },
  {
   "cell_type": "code",
   "execution_count": 60,
   "metadata": {},
   "outputs": [],
   "source": [
    "coeffs, obs_list = qml.utils.decompose_hamiltonian(M)\n",
    "H = qml.Hamiltonian(coeffs, obs_list)"
   ]
  },
  {
   "cell_type": "code",
   "execution_count": 61,
   "metadata": {
    "scrolled": false
   },
   "outputs": [
    {
     "name": "stdout",
     "output_type": "stream",
     "text": [
      "(-1.0) [X0]\n"
     ]
    }
   ],
   "source": [
    "print(H)"
   ]
  },
  {
   "cell_type": "markdown",
   "metadata": {},
   "source": [
    "# Ansatz"
   ]
  },
  {
   "cell_type": "code",
   "execution_count": 9,
   "metadata": {},
   "outputs": [],
   "source": [
    "def Operational_circuit(params):\n",
    "    qc = QuantumCircuit(1)\n",
    "    \n",
    "    #qc.h(range(2))\n",
    "    qc.ry(params[0],0)\n",
    "    \n",
    "    return qc\n",
    "    "
   ]
  },
  {
   "cell_type": "code",
   "execution_count": 21,
   "metadata": {},
   "outputs": [],
   "source": [
    "Operational_circuit_try = Operational_circuit([0])"
   ]
  },
  {
   "cell_type": "code",
   "execution_count": 22,
   "metadata": {},
   "outputs": [
    {
     "data": {
      "text/html": [
       "<pre style=\"word-wrap: normal;white-space: pre;background: #fff0;line-height: 1.1;font-family: &quot;Courier New&quot;,Courier,monospace\">     ┌───────┐\n",
       "q_0: ┤ RY(0) ├\n",
       "     └───────┘</pre>"
      ],
      "text/plain": [
       "     ┌───────┐\n",
       "q_0: ┤ RY(0) ├\n",
       "     └───────┘"
      ]
     },
     "execution_count": 22,
     "metadata": {},
     "output_type": "execute_result"
    }
   ],
   "source": [
    "Operational_circuit_try.draw()"
   ]
  },
  {
   "cell_type": "markdown",
   "metadata": {},
   "source": [
    "# Measurments for different components of H"
   ]
  },
  {
   "cell_type": "markdown",
   "metadata": {},
   "source": [
    "# 1. Z"
   ]
  },
  {
   "cell_type": "code",
   "execution_count": 23,
   "metadata": {},
   "outputs": [
    {
     "data": {
      "text/html": [
       "<pre style=\"word-wrap: normal;white-space: pre;background: #fff0;line-height: 1.1;font-family: &quot;Courier New&quot;,Courier,monospace\">        ┌───────┐ ░ ┌─┐\n",
       "   q_0: ┤ RY(0) ├─░─┤M├\n",
       "        └───────┘ ░ └╥┘\n",
       "meas_0: ═════════════╩═\n",
       "                       </pre>"
      ],
      "text/plain": [
       "        ┌───────┐ ░ ┌─┐\n",
       "   q_0: ┤ RY(0) ├─░─┤M├\n",
       "        └───────┘ ░ └╥┘\n",
       "meas_0: ═════════════╩═\n",
       "                       "
      ]
     },
     "execution_count": 23,
     "metadata": {},
     "output_type": "execute_result"
    }
   ],
   "source": [
    "def measure_z_circuit(given_circuit):\n",
    "    z_meas = given_circuit.copy()\n",
    "    z_meas.measure_all()\n",
    "    return z_meas\n",
    "\n",
    "z_meas = measure_z_circuit(Operational_circuit_try)\n",
    "z_meas.draw()"
   ]
  },
  {
   "cell_type": "code",
   "execution_count": 24,
   "metadata": {},
   "outputs": [],
   "source": [
    "def measure_z(given_circuit, num_shots = 10000):\n",
    "\n",
    "    z_meas = measure_z_circuit(given_circuit)\n",
    "    \n",
    "    result = execute(z_meas, backend = simulator, shots = num_shots).result()\n",
    "    counts = result.get_counts(z_meas)\n",
    "\n",
    "    if '0' not in counts:\n",
    "        counts['0'] = 0\n",
    "    if '1' not in counts:\n",
    "        counts['1'] = 0\n",
    "\n",
    "    total_counts = counts['0'] + counts['1']\n",
    "    z = counts['0'] - counts['1']\n",
    "    z = z / total_counts\n",
    "    \n",
    "    return z"
   ]
  },
  {
   "cell_type": "code",
   "execution_count": 25,
   "metadata": {},
   "outputs": [
    {
     "name": "stdout",
     "output_type": "stream",
     "text": [
      "<Z> = 1.0\n"
     ]
    }
   ],
   "source": [
    "z = measure_z(Operational_circuit_try)\n",
    "print(\"<Z> =\", str(z))"
   ]
  },
  {
   "cell_type": "markdown",
   "metadata": {},
   "source": [
    "# 2. X"
   ]
  },
  {
   "cell_type": "code",
   "execution_count": 28,
   "metadata": {},
   "outputs": [],
   "source": [
    "def measure_x_circuit(given_circuit):\n",
    "    x_meas = given_circuit.copy()\n",
    "    x_meas.h(0)\n",
    "    x_meas.measure_all()\n",
    "\n",
    "    return x_meas"
   ]
  },
  {
   "cell_type": "code",
   "execution_count": 29,
   "metadata": {},
   "outputs": [
    {
     "data": {
      "text/html": [
       "<pre style=\"word-wrap: normal;white-space: pre;background: #fff0;line-height: 1.1;font-family: &quot;Courier New&quot;,Courier,monospace\">        ┌───────┐┌───┐ ░ ┌─┐\n",
       "   q_0: ┤ RY(0) ├┤ H ├─░─┤M├\n",
       "        └───────┘└───┘ ░ └╥┘\n",
       "meas_0: ══════════════════╩═\n",
       "                            </pre>"
      ],
      "text/plain": [
       "        ┌───────┐┌───┐ ░ ┌─┐\n",
       "   q_0: ┤ RY(0) ├┤ H ├─░─┤M├\n",
       "        └───────┘└───┘ ░ └╥┘\n",
       "meas_0: ══════════════════╩═\n",
       "                            "
      ]
     },
     "execution_count": 29,
     "metadata": {},
     "output_type": "execute_result"
    }
   ],
   "source": [
    "x_meas = measure_x_circuit(Operational_circuit_try)\n",
    "x_meas.draw()"
   ]
  },
  {
   "cell_type": "code",
   "execution_count": 32,
   "metadata": {},
   "outputs": [],
   "source": [
    "def measure_x(given_circuit, num_shots = 10000):\n",
    "    \n",
    "    x_meas = measure_x_circuit(given_circuit)\n",
    "    \n",
    "    result = execute(x_meas, backend = simulator, shots = num_shots).result()\n",
    "    counts = result.get_counts(x_meas)\n",
    "\n",
    "    if '0' not in counts:\n",
    "        counts['0'] = 0\n",
    "    if '1' not in counts:\n",
    "        counts['1'] = 0\n",
    "\n",
    "    total_counts = counts['0'] + counts['1'] \n",
    "    x = counts['0'] - counts['1']\n",
    "    x = x / total_counts\n",
    "    \n",
    "    return x"
   ]
  },
  {
   "cell_type": "code",
   "execution_count": 33,
   "metadata": {},
   "outputs": [
    {
     "name": "stdout",
     "output_type": "stream",
     "text": [
      "<X> = -0.0182\n"
     ]
    }
   ],
   "source": [
    "x = measure_x(Operational_circuit_try)\n",
    "print(\"<X> =\", str(x))"
   ]
  },
  {
   "cell_type": "markdown",
   "metadata": {},
   "source": [
    "# 3. Y"
   ]
  },
  {
   "cell_type": "code",
   "execution_count": 34,
   "metadata": {},
   "outputs": [],
   "source": [
    "def measure_y_circuit(given_circuit):\n",
    "    y_meas = given_circuit.copy()\n",
    "    y_meas.rz(-pi/2,0)\n",
    "    y_meas.h(0)\n",
    "\n",
    "    y_meas.measure_all()\n",
    "\n",
    "    return y_meas"
   ]
  },
  {
   "cell_type": "code",
   "execution_count": 35,
   "metadata": {},
   "outputs": [
    {
     "data": {
      "text/html": [
       "<pre style=\"word-wrap: normal;white-space: pre;background: #fff0;line-height: 1.1;font-family: &quot;Courier New&quot;,Courier,monospace\">        ┌───────┐┌───────────┐┌───┐ ░ ┌─┐\n",
       "   q_0: ┤ RY(0) ├┤ RZ(-pi/2) ├┤ H ├─░─┤M├\n",
       "        └───────┘└───────────┘└───┘ ░ └╥┘\n",
       "meas_0: ═══════════════════════════════╩═\n",
       "                                         </pre>"
      ],
      "text/plain": [
       "        ┌───────┐┌───────────┐┌───┐ ░ ┌─┐\n",
       "   q_0: ┤ RY(0) ├┤ RZ(-pi/2) ├┤ H ├─░─┤M├\n",
       "        └───────┘└───────────┘└───┘ ░ └╥┘\n",
       "meas_0: ═══════════════════════════════╩═\n",
       "                                         "
      ]
     },
     "execution_count": 35,
     "metadata": {},
     "output_type": "execute_result"
    }
   ],
   "source": [
    "y_meas = measure_y_circuit(Operational_circuit_try)\n",
    "y_meas.draw()"
   ]
  },
  {
   "cell_type": "code",
   "execution_count": 36,
   "metadata": {},
   "outputs": [],
   "source": [
    "def measure_y(given_circuit, num_shots = 10000):\n",
    "    \n",
    "    yy_meas = measure_y_circuit(given_circuit)\n",
    "    \n",
    "    result = execute(y_meas, backend = simulator, shots = num_shots).result()\n",
    "    counts = result.get_counts(y_meas)\n",
    "\n",
    "    if '0' not in counts:\n",
    "        counts['00'] = 0\n",
    "    if '1' not in counts:\n",
    "        counts['01'] = 0\n",
    "\n",
    "    total_counts = counts['0'] + counts['1'] \n",
    "    y = counts['0']  - counts['1']\n",
    "    y = y / total_counts\n",
    "    \n",
    "    return y"
   ]
  },
  {
   "cell_type": "code",
   "execution_count": 37,
   "metadata": {},
   "outputs": [
    {
     "name": "stdout",
     "output_type": "stream",
     "text": [
      "<y> = 0.0148\n"
     ]
    }
   ],
   "source": [
    "y = measure_y(Operational_circuit_try)\n",
    "print(\"<y> =\", str(y))"
   ]
  },
  {
   "cell_type": "markdown",
   "metadata": {},
   "source": [
    "# Cost_Function"
   ]
  },
  {
   "cell_type": "code",
   "execution_count": 63,
   "metadata": {},
   "outputs": [
    {
     "name": "stdout",
     "output_type": "stream",
     "text": [
      "(-1.0) [X0]\n"
     ]
    }
   ],
   "source": [
    "print(H)"
   ]
  },
  {
   "cell_type": "code",
   "execution_count": 62,
   "metadata": {},
   "outputs": [],
   "source": [
    "def eigen_value(params):\n",
    "    num_shots = 10000\n",
    "    x = measure_x(Operational_circuit(params), num_shots = num_shots)\n",
    "    ev = -x\n",
    "    \n",
    "    return ev"
   ]
  },
  {
   "cell_type": "code",
   "execution_count": 64,
   "metadata": {},
   "outputs": [],
   "source": [
    "params = [0]"
   ]
  },
  {
   "cell_type": "code",
   "execution_count": 65,
   "metadata": {
    "scrolled": true
   },
   "outputs": [
    {
     "name": "stdout",
     "output_type": "stream",
     "text": [
      "The Eigen_Value of the trial state is 0.0104\n"
     ]
    }
   ],
   "source": [
    "ev = eigen_value(params)     #Try energy with params = [0,0,0,0,0,0]\n",
    "print(\"The Eigen_Value of the trial state is\", str(ev))"
   ]
  },
  {
   "cell_type": "markdown",
   "metadata": {},
   "source": [
    "# Finding Lowest Eignevalue"
   ]
  },
  {
   "cell_type": "code",
   "execution_count": 66,
   "metadata": {},
   "outputs": [],
   "source": [
    "from qiskit.aqua.components.optimizers import COBYLA,SLSQP,SPSA\n",
    "\n",
    "optimizer = COBYLA(50,0.001)"
   ]
  },
  {
   "cell_type": "code",
   "execution_count": 67,
   "metadata": {},
   "outputs": [],
   "source": [
    "ret = optimizer.optimize(num_vars=1, objective_function=eigen_value, initial_point=params)"
   ]
  },
  {
   "cell_type": "code",
   "execution_count": 68,
   "metadata": {},
   "outputs": [
    {
     "data": {
      "text/plain": [
       "-1.0"
      ]
     },
     "execution_count": 68,
     "metadata": {},
     "output_type": "execute_result"
    }
   ],
   "source": [
    "eigen_value(ret[0])"
   ]
  },
  {
   "cell_type": "markdown",
   "metadata": {},
   "source": [
    "# Eigen State."
   ]
  },
  {
   "cell_type": "code",
   "execution_count": 52,
   "metadata": {},
   "outputs": [],
   "source": [
    "backend_state = Aer.get_backend('statevector_simulator')"
   ]
  },
  {
   "cell_type": "code",
   "execution_count": 69,
   "metadata": {},
   "outputs": [],
   "source": [
    "\n",
    "result = execute(Operational_circuit(ret[0]),backend_state).result()\n",
    "out_state = result.get_statevector()\n"
   ]
  },
  {
   "cell_type": "code",
   "execution_count": 71,
   "metadata": {},
   "outputs": [
    {
     "name": "stdout",
     "output_type": "stream",
     "text": [
      "[0.71003388+0.j 0.70416751+0.j]\n"
     ]
    }
   ],
   "source": [
    "print(out_state)"
   ]
  },
  {
   "cell_type": "code",
   "execution_count": 72,
   "metadata": {},
   "outputs": [
    {
     "data": {
      "text/plain": [
       "<qiskit.circuit.instructionset.InstructionSet at 0x1ee29509550>"
      ]
     },
     "execution_count": 72,
     "metadata": {},
     "output_type": "execute_result"
    }
   ],
   "source": [
    "qc = QuantumCircuit(1)\n",
    "qc.initialize(out_state,0)"
   ]
  },
  {
   "cell_type": "code",
   "execution_count": 75,
   "metadata": {},
   "outputs": [],
   "source": [
    "def eigen_value_state(qc):\n",
    "    num_shots = 10000\n",
    "    x = measure_x(qc, num_shots = num_shots)\n",
    "    ev = -x\n",
    "    \n",
    "    return ev"
   ]
  },
  {
   "cell_type": "code",
   "execution_count": 76,
   "metadata": {},
   "outputs": [
    {
     "data": {
      "text/plain": [
       "-1.0"
      ]
     },
     "execution_count": 76,
     "metadata": {},
     "output_type": "execute_result"
    }
   ],
   "source": [
    " eigen_value_state(qc)"
   ]
  },
  {
   "cell_type": "code",
   "execution_count": null,
   "metadata": {},
   "outputs": [],
   "source": []
  }
 ],
 "metadata": {
  "kernelspec": {
   "display_name": "Python 3",
   "language": "python",
   "name": "python3"
  },
  "language_info": {
   "codemirror_mode": {
    "name": "ipython",
    "version": 3
   },
   "file_extension": ".py",
   "mimetype": "text/x-python",
   "name": "python",
   "nbconvert_exporter": "python",
   "pygments_lexer": "ipython3",
   "version": "3.7.1"
  }
 },
 "nbformat": 4,
 "nbformat_minor": 4
}
