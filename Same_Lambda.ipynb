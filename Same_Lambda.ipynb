{
 "cells": [
  {
   "cell_type": "markdown",
   "metadata": {},
   "source": [
    "# Data_Generator"
   ]
  },
  {
   "cell_type": "code",
   "execution_count": 1,
   "metadata": {},
   "outputs": [],
   "source": [
    "from qiskit import QuantumRegister, ClassicalRegister\n",
    "from qiskit import QuantumCircuit, execute, Aer\n",
    "import pennylane as qml\n",
    "import numpy as np\n",
    "from numpy import pi\n",
    "simulator = Aer.get_backend('qasm_simulator')\n",
    "\n"
   ]
  },
  {
   "cell_type": "markdown",
   "metadata": {},
   "source": [
    "# Ansatz"
   ]
  },
  {
   "cell_type": "code",
   "execution_count": 9,
   "metadata": {},
   "outputs": [],
   "source": [
    "def Operational_circuit(params):\n",
    "    qc = QuantumCircuit(1)\n",
    "    \n",
    "    #qc.h(range(2))\n",
    "    qc.ry(params[0],0)\n",
    "    \n",
    "    return qc\n",
    "    "
   ]
  },
  {
   "cell_type": "code",
   "execution_count": 21,
   "metadata": {},
   "outputs": [],
   "source": [
    "Operational_circuit_try = Operational_circuit([0])"
   ]
  },
  {
   "cell_type": "code",
   "execution_count": 22,
   "metadata": {},
   "outputs": [
    {
     "data": {
      "text/html": [
       "<pre style=\"word-wrap: normal;white-space: pre;background: #fff0;line-height: 1.1;font-family: &quot;Courier New&quot;,Courier,monospace\">     ┌───────┐\n",
       "q_0: ┤ RY(0) ├\n",
       "     └───────┘</pre>"
      ],
      "text/plain": [
       "     ┌───────┐\n",
       "q_0: ┤ RY(0) ├\n",
       "     └───────┘"
      ]
     },
     "execution_count": 22,
     "metadata": {},
     "output_type": "execute_result"
    }
   ],
   "source": [
    "Operational_circuit_try.draw()"
   ]
  },
  {
   "cell_type": "markdown",
   "metadata": {},
   "source": [
    "# Measurments for different components of H"
   ]
  },
  {
   "cell_type": "markdown",
   "metadata": {},
   "source": [
    "# 1. Z"
   ]
  },
  {
   "cell_type": "code",
   "execution_count": 23,
   "metadata": {},
   "outputs": [
    {
     "data": {
      "text/html": [
       "<pre style=\"word-wrap: normal;white-space: pre;background: #fff0;line-height: 1.1;font-family: &quot;Courier New&quot;,Courier,monospace\">        ┌───────┐ ░ ┌─┐\n",
       "   q_0: ┤ RY(0) ├─░─┤M├\n",
       "        └───────┘ ░ └╥┘\n",
       "meas_0: ═════════════╩═\n",
       "                       </pre>"
      ],
      "text/plain": [
       "        ┌───────┐ ░ ┌─┐\n",
       "   q_0: ┤ RY(0) ├─░─┤M├\n",
       "        └───────┘ ░ └╥┘\n",
       "meas_0: ═════════════╩═\n",
       "                       "
      ]
     },
     "execution_count": 23,
     "metadata": {},
     "output_type": "execute_result"
    }
   ],
   "source": [
    "def measure_z_circuit(given_circuit):\n",
    "    z_meas = given_circuit.copy()\n",
    "    z_meas.measure_all()\n",
    "    return z_meas\n",
    "\n",
    "z_meas = measure_z_circuit(Operational_circuit_try)\n",
    "z_meas.draw()"
   ]
  },
  {
   "cell_type": "code",
   "execution_count": 24,
   "metadata": {},
   "outputs": [],
   "source": [
    "def measure_z(given_circuit, num_shots = 10000):\n",
    "\n",
    "    z_meas = measure_z_circuit(given_circuit)\n",
    "    \n",
    "    result = execute(z_meas, backend = simulator, shots = num_shots).result()\n",
    "    counts = result.get_counts(z_meas)\n",
    "\n",
    "    if '0' not in counts:\n",
    "        counts['0'] = 0\n",
    "    if '1' not in counts:\n",
    "        counts['1'] = 0\n",
    "\n",
    "    total_counts = counts['0'] + counts['1']\n",
    "    z = counts['0'] - counts['1']\n",
    "    z = z / total_counts\n",
    "    \n",
    "    return z"
   ]
  },
  {
   "cell_type": "code",
   "execution_count": 25,
   "metadata": {},
   "outputs": [
    {
     "name": "stdout",
     "output_type": "stream",
     "text": [
      "<Z> = 1.0\n"
     ]
    }
   ],
   "source": [
    "z = measure_z(Operational_circuit_try)\n",
    "print(\"<Z> =\", str(z))"
   ]
  },
  {
   "cell_type": "markdown",
   "metadata": {},
   "source": [
    "# 2. X"
   ]
  },
  {
   "cell_type": "code",
   "execution_count": 28,
   "metadata": {},
   "outputs": [],
   "source": [
    "def measure_x_circuit(given_circuit):\n",
    "    x_meas = given_circuit.copy()\n",
    "    x_meas.h(0)\n",
    "    x_meas.measure_all()\n",
    "\n",
    "    return x_meas"
   ]
  },
  {
   "cell_type": "code",
   "execution_count": 29,
   "metadata": {},
   "outputs": [
    {
     "data": {
      "text/html": [
       "<pre style=\"word-wrap: normal;white-space: pre;background: #fff0;line-height: 1.1;font-family: &quot;Courier New&quot;,Courier,monospace\">        ┌───────┐┌───┐ ░ ┌─┐\n",
       "   q_0: ┤ RY(0) ├┤ H ├─░─┤M├\n",
       "        └───────┘└───┘ ░ └╥┘\n",
       "meas_0: ══════════════════╩═\n",
       "                            </pre>"
      ],
      "text/plain": [
       "        ┌───────┐┌───┐ ░ ┌─┐\n",
       "   q_0: ┤ RY(0) ├┤ H ├─░─┤M├\n",
       "        └───────┘└───┘ ░ └╥┘\n",
       "meas_0: ══════════════════╩═\n",
       "                            "
      ]
     },
     "execution_count": 29,
     "metadata": {},
     "output_type": "execute_result"
    }
   ],
   "source": [
    "x_meas = measure_x_circuit(Operational_circuit_try)\n",
    "x_meas.draw()"
   ]
  },
  {
   "cell_type": "code",
   "execution_count": 32,
   "metadata": {},
   "outputs": [],
   "source": [
    "def measure_x(given_circuit, num_shots = 10000):\n",
    "    \n",
    "    x_meas = measure_x_circuit(given_circuit)\n",
    "    \n",
    "    result = execute(x_meas, backend = simulator, shots = num_shots).result()\n",
    "    counts = result.get_counts(x_meas)\n",
    "\n",
    "    if '0' not in counts:\n",
    "        counts['0'] = 0\n",
    "    if '1' not in counts:\n",
    "        counts['1'] = 0\n",
    "\n",
    "    total_counts = counts['0'] + counts['1'] \n",
    "    x = counts['0'] - counts['1']\n",
    "    x = x / total_counts\n",
    "    \n",
    "    return x"
   ]
  },
  {
   "cell_type": "code",
   "execution_count": 33,
   "metadata": {},
   "outputs": [
    {
     "name": "stdout",
     "output_type": "stream",
     "text": [
      "<X> = -0.0182\n"
     ]
    }
   ],
   "source": [
    "x = measure_x(Operational_circuit_try)\n",
    "print(\"<X> =\", str(x))"
   ]
  },
  {
   "cell_type": "markdown",
   "metadata": {},
   "source": [
    "# 3. Y"
   ]
  },
  {
   "cell_type": "code",
   "execution_count": 34,
   "metadata": {},
   "outputs": [],
   "source": [
    "def measure_y_circuit(given_circuit):\n",
    "    y_meas = given_circuit.copy()\n",
    "    y_meas.rz(-pi/2,0)\n",
    "    y_meas.h(0)\n",
    "\n",
    "    y_meas.measure_all()\n",
    "\n",
    "    return y_meas"
   ]
  },
  {
   "cell_type": "code",
   "execution_count": 35,
   "metadata": {},
   "outputs": [
    {
     "data": {
      "text/html": [
       "<pre style=\"word-wrap: normal;white-space: pre;background: #fff0;line-height: 1.1;font-family: &quot;Courier New&quot;,Courier,monospace\">        ┌───────┐┌───────────┐┌───┐ ░ ┌─┐\n",
       "   q_0: ┤ RY(0) ├┤ RZ(-pi/2) ├┤ H ├─░─┤M├\n",
       "        └───────┘└───────────┘└───┘ ░ └╥┘\n",
       "meas_0: ═══════════════════════════════╩═\n",
       "                                         </pre>"
      ],
      "text/plain": [
       "        ┌───────┐┌───────────┐┌───┐ ░ ┌─┐\n",
       "   q_0: ┤ RY(0) ├┤ RZ(-pi/2) ├┤ H ├─░─┤M├\n",
       "        └───────┘└───────────┘└───┘ ░ └╥┘\n",
       "meas_0: ═══════════════════════════════╩═\n",
       "                                         "
      ]
     },
     "execution_count": 35,
     "metadata": {},
     "output_type": "execute_result"
    }
   ],
   "source": [
    "y_meas = measure_y_circuit(Operational_circuit_try)\n",
    "y_meas.draw()"
   ]
  },
  {
   "cell_type": "code",
   "execution_count": 36,
   "metadata": {},
   "outputs": [],
   "source": [
    "def measure_y(given_circuit, num_shots = 10000):\n",
    "    \n",
    "    yy_meas = measure_y_circuit(given_circuit)\n",
    "    \n",
    "    result = execute(y_meas, backend = simulator, shots = num_shots).result()\n",
    "    counts = result.get_counts(y_meas)\n",
    "\n",
    "    if '0' not in counts:\n",
    "        counts['00'] = 0\n",
    "    if '1' not in counts:\n",
    "        counts['01'] = 0\n",
    "\n",
    "    total_counts = counts['0'] + counts['1'] \n",
    "    y = counts['0']  - counts['1']\n",
    "    y = y / total_counts\n",
    "    \n",
    "    return y"
   ]
  },
  {
   "cell_type": "code",
   "execution_count": 37,
   "metadata": {},
   "outputs": [
    {
     "name": "stdout",
     "output_type": "stream",
     "text": [
      "<y> = 0.0148\n"
     ]
    }
   ],
   "source": [
    "y = measure_y(Operational_circuit_try)\n",
    "print(\"<y> =\", str(y))"
   ]
  },
  {
   "cell_type": "markdown",
   "metadata": {},
   "source": [
    "# Matrix and Decomposition"
   ]
  },
  {
   "cell_type": "code",
   "execution_count": 345,
   "metadata": {},
   "outputs": [],
   "source": [
    "M= np.matrix('-0.5 0.5  ;0.5 -0.5 ')"
   ]
  },
  {
   "cell_type": "code",
   "execution_count": 346,
   "metadata": {},
   "outputs": [],
   "source": [
    "coeffs, obs_list = qml.utils.decompose_hamiltonian(M)\n",
    "H = qml.Hamiltonian(coeffs, obs_list)"
   ]
  },
  {
   "cell_type": "code",
   "execution_count": 347,
   "metadata": {},
   "outputs": [
    {
     "name": "stdout",
     "output_type": "stream",
     "text": [
      "(-0.5) [I0]\n",
      "+ (0.5) [X0]\n"
     ]
    }
   ],
   "source": [
    "print(H)"
   ]
  },
  {
   "cell_type": "code",
   "execution_count": 348,
   "metadata": {},
   "outputs": [],
   "source": [
    "def coef(H):\n",
    "    coeff = [0,0,0,0]\n",
    "    h = str(H)\n",
    "    for i in range (len(h)):\n",
    "        p = \"\"\n",
    "        if h[i] ==\"(\":\n",
    "            j = i+1 \n",
    "            while h[j]!=\")\" :\n",
    "                p=p+h[j]\n",
    "                j+=1\n",
    "            \n",
    "            if h[j+3] == \"I\":\n",
    "                coeff[0] = float(p)\n",
    "                \n",
    "            if h[j+3] == \"X\":\n",
    "                coeff[1] = float(p)\n",
    "                \n",
    "            if h[j+3] == \"Y\":\n",
    "                coeff[2] = float(p)\n",
    "                \n",
    "            if h[j+3] == \"Z\":\n",
    "                coeff[3] = float(p)\n",
    "    \n",
    "    return(coeff)\n",
    "            \n",
    "            "
   ]
  },
  {
   "cell_type": "markdown",
   "metadata": {},
   "source": [
    "# Cost_Function"
   ]
  },
  {
   "cell_type": "code",
   "execution_count": 349,
   "metadata": {},
   "outputs": [],
   "source": [
    "def eigen_value(params):\n",
    "    num_shots = 10000\n",
    "    z = measure_z(Operational_circuit(params), num_shots = num_shots)\n",
    "    x = measure_x(Operational_circuit(params), num_shots = num_shots)\n",
    "    y = measure_y(Operational_circuit(params), num_shots = num_shots)\n",
    "    coeff =coef(H) \n",
    "    ev = coeff[0]+coeff[1]*x+coeff[2]*y+coeff[3]*z\n",
    "    \n",
    "    return ev"
   ]
  },
  {
   "cell_type": "code",
   "execution_count": 350,
   "metadata": {},
   "outputs": [],
   "source": [
    "params = [0]"
   ]
  },
  {
   "cell_type": "code",
   "execution_count": 351,
   "metadata": {
    "scrolled": true
   },
   "outputs": [
    {
     "name": "stdout",
     "output_type": "stream",
     "text": [
      "The Eigen_Value of the trial state is -0.4881\n"
     ]
    }
   ],
   "source": [
    "ev = eigen_value(params)     #Try energy with params = [0,0,0,0,0,0]\n",
    "print(\"The Eigen_Value of the trial state is\", str(ev))"
   ]
  },
  {
   "cell_type": "markdown",
   "metadata": {},
   "source": [
    "# Finding Lowest Eignevalue"
   ]
  },
  {
   "cell_type": "code",
   "execution_count": 352,
   "metadata": {},
   "outputs": [],
   "source": [
    "from qiskit.aqua.components.optimizers import COBYLA,SLSQP,SPSA\n",
    "\n",
    "optimizer = COBYLA(50,0.001)"
   ]
  },
  {
   "cell_type": "code",
   "execution_count": 353,
   "metadata": {},
   "outputs": [],
   "source": [
    "ret = optimizer.optimize(num_vars=1, objective_function=eigen_value, initial_point=params)"
   ]
  },
  {
   "cell_type": "code",
   "execution_count": 354,
   "metadata": {},
   "outputs": [
    {
     "data": {
      "text/plain": [
       "-1.0"
      ]
     },
     "execution_count": 354,
     "metadata": {},
     "output_type": "execute_result"
    }
   ],
   "source": [
    "eigen_value(ret[0])"
   ]
  },
  {
   "cell_type": "markdown",
   "metadata": {},
   "source": [
    "# Eigen State."
   ]
  },
  {
   "cell_type": "code",
   "execution_count": 355,
   "metadata": {},
   "outputs": [],
   "source": [
    "backend_state = Aer.get_backend('statevector_simulator')"
   ]
  },
  {
   "cell_type": "code",
   "execution_count": 356,
   "metadata": {},
   "outputs": [],
   "source": [
    "\n",
    "result = execute(Operational_circuit(ret[0]),backend_state).result()\n",
    "out_state = result.get_statevector()\n"
   ]
  },
  {
   "cell_type": "code",
   "execution_count": 357,
   "metadata": {},
   "outputs": [
    {
     "name": "stdout",
     "output_type": "stream",
     "text": [
      "[ 0.71003388+0.j -0.70416751+0.j]\n"
     ]
    }
   ],
   "source": [
    "print(out_state)"
   ]
  },
  {
   "cell_type": "markdown",
   "metadata": {},
   "source": [
    "# Check"
   ]
  },
  {
   "cell_type": "code",
   "execution_count": 358,
   "metadata": {},
   "outputs": [
    {
     "data": {
      "text/plain": [
       "<qiskit.circuit.instructionset.InstructionSet at 0x1ee297ba3c8>"
      ]
     },
     "execution_count": 358,
     "metadata": {},
     "output_type": "execute_result"
    }
   ],
   "source": [
    "qc = QuantumCircuit(1)\n",
    "qc.initialize(out_state,0)"
   ]
  },
  {
   "cell_type": "code",
   "execution_count": 359,
   "metadata": {},
   "outputs": [],
   "source": [
    "def eigen_value_state(qc):\n",
    "    num_shots = 100000\n",
    "    z = measure_z(qc, num_shots = num_shots)\n",
    "    x = measure_x(qc, num_shots = num_shots)\n",
    "    y = measure_y(qc, num_shots = num_shots)\n",
    "    coeff =coef(H) \n",
    "    ev = coeff[0]+coeff[1]*x+coeff[2]*y+coeff[3]*z\n",
    "    \n",
    "    return ev"
   ]
  },
  {
   "cell_type": "code",
   "execution_count": 360,
   "metadata": {},
   "outputs": [
    {
     "data": {
      "text/plain": [
       "-0.99997"
      ]
     },
     "execution_count": 360,
     "metadata": {},
     "output_type": "execute_result"
    }
   ],
   "source": [
    " eigen_value_state(qc)"
   ]
  },
  {
   "cell_type": "markdown",
   "metadata": {},
   "source": [
    "# Exponential Matrix "
   ]
  },
  {
   "cell_type": "code",
   "execution_count": 361,
   "metadata": {},
   "outputs": [],
   "source": [
    "from scipy.linalg import expm, sinm, cosm"
   ]
  },
  {
   "cell_type": "code",
   "execution_count": 414,
   "metadata": {},
   "outputs": [
    {
     "data": {
      "text/plain": [
       "array([[0.54030231+0.j        , 0.        +0.84147098j],\n",
       "       [0.        +0.84147098j, 0.54030231+0.j        ]])"
      ]
     },
     "execution_count": 414,
     "metadata": {},
     "output_type": "execute_result"
    }
   ],
   "source": [
    "M= np.matrix('0j 1j  ;1j 0j ')\n",
    "M1= np.matrix('0j -1j  ;-1j 0j ')\n",
    "expm(M)"
   ]
  },
  {
   "cell_type": "code",
   "execution_count": 415,
   "metadata": {},
   "outputs": [],
   "source": [
    "def mult(X,Y):\n",
    "    Z = [0,0,0,0]\n",
    "    Z[0] = round(expm(X)[0][0]*expm(Y)[0][0]+expm(X)[0][1]*expm(Y)[1][0])\n",
    "    Z[1] = round(expm(X)[0][0]*expm(Y)[0][1]+expm(X)[0][1]*expm(Y)[1][1])\n",
    "    Z[2] = round(expm(X)[1][0]*expm(Y)[0][0]+expm(X)[1][1]*expm(Y)[1][0])\n",
    "    Z[3] = round(expm(X)[1][0]*expm(Y)[0][1]+expm(X)[1][1]*expm(Y)[1][1])\n",
    "    return(Z)"
   ]
  },
  {
   "cell_type": "code",
   "execution_count": 416,
   "metadata": {},
   "outputs": [
    {
     "data": {
      "text/plain": [
       "[(1+0j), -0j, 0j, (1+0j)]"
      ]
     },
     "execution_count": 416,
     "metadata": {},
     "output_type": "execute_result"
    }
   ],
   "source": [
    "mult(M,M1)"
   ]
  },
  {
   "cell_type": "code",
   "execution_count": 417,
   "metadata": {},
   "outputs": [
    {
     "data": {
      "text/plain": [
       "array([[0.54030231+0.j        , 0.        -0.84147098j],\n",
       "       [0.        -0.84147098j, 0.54030231+0.j        ]])"
      ]
     },
     "execution_count": 417,
     "metadata": {},
     "output_type": "execute_result"
    }
   ],
   "source": [
    "expm(M1)"
   ]
  },
  {
   "cell_type": "code",
   "execution_count": null,
   "metadata": {},
   "outputs": [],
   "source": []
  }
 ],
 "metadata": {
  "kernelspec": {
   "display_name": "Python 3",
   "language": "python",
   "name": "python3"
  },
  "language_info": {
   "codemirror_mode": {
    "name": "ipython",
    "version": 3
   },
   "file_extension": ".py",
   "mimetype": "text/x-python",
   "name": "python",
   "nbconvert_exporter": "python",
   "pygments_lexer": "ipython3",
   "version": "3.7.1"
  }
 },
 "nbformat": 4,
 "nbformat_minor": 4
}
