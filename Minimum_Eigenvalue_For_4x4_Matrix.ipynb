{
 "cells": [
  {
   "cell_type": "markdown",
   "metadata": {},
   "source": [
    "# Minimum EigenValue For 4x4 Matrix"
   ]
  },
  {
   "cell_type": "code",
   "execution_count": 15,
   "metadata": {},
   "outputs": [],
   "source": [
    "from qiskit import QuantumRegister, ClassicalRegister\n",
    "from qiskit import QuantumCircuit, execute, Aer\n",
    "import pennylane as qml\n",
    "import numpy as np\n",
    "from numpy import pi\n",
    "simulator = Aer.get_backend('qasm_simulator')\n",
    "\n"
   ]
  },
  {
   "cell_type": "markdown",
   "metadata": {},
   "source": [
    "# Matrix and Decomposition"
   ]
  },
  {
   "cell_type": "code",
   "execution_count": 16,
   "metadata": {},
   "outputs": [],
   "source": [
    "M= np.array([[-1. ,  0. ,  0. ,  0. ],\n",
    "       [ 0. ,  1.5,  0.5, -0.5],\n",
    "       [ 0. ,  0.5 ,  2. ,  0.5 ],\n",
    "       [ 0. , -0.5,  0.5,  1.5]])"
   ]
  },
  {
   "cell_type": "code",
   "execution_count": 17,
   "metadata": {},
   "outputs": [],
   "source": [
    "coeffs, obs_list = qml.utils.decompose_hamiltonian(M)\n",
    "H = qml.Hamiltonian(coeffs, obs_list)"
   ]
  },
  {
   "cell_type": "code",
   "execution_count": 18,
   "metadata": {
    "scrolled": false
   },
   "outputs": [
    {
     "name": "stdout",
     "output_type": "stream",
     "text": [
      "(1.0) [I0 I1]\n",
      "+ (0.25) [I0 X1]\n",
      "+ (-0.5) [I0 Z1]\n",
      "+ (-0.25) [X0 I1]\n",
      "+ (0.25) [X0 X1]\n",
      "+ (0.25) [X0 Z1]\n",
      "+ (0.25) [Y0 Y1]\n",
      "+ (-0.75) [Z0 I1]\n",
      "+ (-0.25) [Z0 X1]\n",
      "+ (-0.75) [Z0 Z1]\n"
     ]
    }
   ],
   "source": [
    "print(H)"
   ]
  },
  {
   "cell_type": "code",
   "execution_count": 94,
   "metadata": {},
   "outputs": [],
   "source": [
    "def coef(H):\n",
    "    coeff = [0]*16\n",
    "    h = str(H)\n",
    "    for i in range (len(h)):\n",
    "        p = \"\"\n",
    "        if h[i] ==\"(\":\n",
    "            j = i+1 \n",
    "            while h[j]!=\")\" :\n",
    "                p=p+h[j]\n",
    "                j+=1\n",
    "            \n",
    "            if h[j+3] == \"I\" and h[j+6] == \"I\":\n",
    "                coeff[0] = float(p)\n",
    "                \n",
    "            if h[j+3] == \"Z\" and h[j+6] == \"Z\":\n",
    "                coeff[1] = float(p)\n",
    "                \n",
    "            if h[j+3] == \"X\" and h[j+6] == \"X\":\n",
    "                coeff[2] = float(p)\n",
    "                \n",
    "            if h[j+3] == \"Y\" and h[j+6] == \"Y\":\n",
    "                coeff[3] = float(p)\n",
    "            \n",
    "            if h[j+3] == \"I\" and h[j+6] == \"X\":\n",
    "                coeff[4] = float(p)\n",
    "                \n",
    "            if h[j+3] == \"X\" and h[j+6] == \"I\":\n",
    "                coeff[5] = float(p)\n",
    "                \n",
    "            if h[j+3] == \"I\" and h[j+6] == \"Y\":\n",
    "                coeff[6] = float(p)\n",
    "                \n",
    "            if h[j+3] == \"Y\" and h[j+6] == \"I\":\n",
    "                coeff[7] = float(p)\n",
    "                \n",
    "            if h[j+3] == \"I\" and h[j+6] == \"Z\":\n",
    "                coeff[8] = float(p)\n",
    "                \n",
    "            if h[j+3] == \"Z\" and h[j+6] == \"I\":\n",
    "                coeff[9] = float(p)\n",
    "                \n",
    "            if h[j+3] == \"X\" and h[j+6] == \"Y\":\n",
    "                coeff[10] = float(p)\n",
    "                \n",
    "            if h[j+3] == \"X\" and h[j+6] == \"Y\":\n",
    "                coeff[11] = float(p)\n",
    "                \n",
    "            if h[j+3] == \"x\" and h[j+6] == \"z\":\n",
    "                coeff[12] = float(p)\n",
    "                \n",
    "            if h[j+3] == \"z\" and h[j+6] == \"x\":\n",
    "                coeff[13] = float(p)\n",
    "                \n",
    "            if h[j+3] == \"y\" and h[j+6] == \"z\":\n",
    "                coeff[14] = float(p)\n",
    "                \n",
    "            if h[j+3] == \"z\" and h[j+6] == \"y\":\n",
    "                coeff[15] = float(p)\n",
    "                \n",
    "    return(coeff)\n",
    "            \n",
    "            "
   ]
  },
  {
   "cell_type": "markdown",
   "metadata": {},
   "source": [
    "# Ansatz"
   ]
  },
  {
   "cell_type": "code",
   "execution_count": 95,
   "metadata": {},
   "outputs": [],
   "source": [
    "def Operational_circuit(params):\n",
    "    qc = QuantumCircuit(2)\n",
    "    \n",
    "    #qc.h(range(2))\n",
    "    qc.rx(params[0],0)\n",
    "    qc.rx(params[1],1)\n",
    "    qc.ry(params[2],0)\n",
    "    qc.ry(params[3],1)\n",
    "    qc.cx(0,1)\n",
    "    qc.ry(params[4],0)\n",
    "    qc.ry(params[5],1)\n",
    "    \n",
    "    return qc\n",
    "    "
   ]
  },
  {
   "cell_type": "code",
   "execution_count": 96,
   "metadata": {},
   "outputs": [],
   "source": [
    "Operational_circuit_try = Operational_circuit([1,2,3,4,5,6])"
   ]
  },
  {
   "cell_type": "code",
   "execution_count": 97,
   "metadata": {},
   "outputs": [
    {
     "data": {
      "text/html": [
       "<pre style=\"word-wrap: normal;white-space: pre;background: #fff0;line-height: 1.1;font-family: &quot;Courier New&quot;,Courier,monospace\">     ┌───────┐┌───────┐     ┌───────┐\n",
       "q_0: ┤ RX(1) ├┤ RY(3) ├──■──┤ RY(5) ├\n",
       "     ├───────┤├───────┤┌─┴─┐├───────┤\n",
       "q_1: ┤ RX(2) ├┤ RY(4) ├┤ X ├┤ RY(6) ├\n",
       "     └───────┘└───────┘└───┘└───────┘</pre>"
      ],
      "text/plain": [
       "     ┌───────┐┌───────┐     ┌───────┐\n",
       "q_0: ┤ RX(1) ├┤ RY(3) ├──■──┤ RY(5) ├\n",
       "     ├───────┤├───────┤┌─┴─┐├───────┤\n",
       "q_1: ┤ RX(2) ├┤ RY(4) ├┤ X ├┤ RY(6) ├\n",
       "     └───────┘└───────┘└───┘└───────┘"
      ]
     },
     "execution_count": 97,
     "metadata": {},
     "output_type": "execute_result"
    }
   ],
   "source": [
    "Operational_circuit_try.draw()"
   ]
  },
  {
   "cell_type": "markdown",
   "metadata": {},
   "source": [
    "# Measurments for different components of H"
   ]
  },
  {
   "cell_type": "markdown",
   "metadata": {},
   "source": [
    "# 1. ZZ"
   ]
  },
  {
   "cell_type": "code",
   "execution_count": 98,
   "metadata": {},
   "outputs": [
    {
     "data": {
      "text/html": [
       "<pre style=\"word-wrap: normal;white-space: pre;background: #fff0;line-height: 1.1;font-family: &quot;Courier New&quot;,Courier,monospace\">        ┌───────┐┌───────┐     ┌───────┐ ░ ┌─┐   \n",
       "   q_0: ┤ RX(1) ├┤ RY(3) ├──■──┤ RY(5) ├─░─┤M├───\n",
       "        ├───────┤├───────┤┌─┴─┐├───────┤ ░ └╥┘┌─┐\n",
       "   q_1: ┤ RX(2) ├┤ RY(4) ├┤ X ├┤ RY(6) ├─░──╫─┤M├\n",
       "        └───────┘└───────┘└───┘└───────┘ ░  ║ └╥┘\n",
       "meas_0: ════════════════════════════════════╩══╬═\n",
       "                                               ║ \n",
       "meas_1: ═══════════════════════════════════════╩═\n",
       "                                                 </pre>"
      ],
      "text/plain": [
       "        ┌───────┐┌───────┐     ┌───────┐ ░ ┌─┐   \n",
       "   q_0: ┤ RX(1) ├┤ RY(3) ├──■──┤ RY(5) ├─░─┤M├───\n",
       "        ├───────┤├───────┤┌─┴─┐├───────┤ ░ └╥┘┌─┐\n",
       "   q_1: ┤ RX(2) ├┤ RY(4) ├┤ X ├┤ RY(6) ├─░──╫─┤M├\n",
       "        └───────┘└───────┘└───┘└───────┘ ░  ║ └╥┘\n",
       "meas_0: ════════════════════════════════════╩══╬═\n",
       "                                               ║ \n",
       "meas_1: ═══════════════════════════════════════╩═\n",
       "                                                 "
      ]
     },
     "execution_count": 98,
     "metadata": {},
     "output_type": "execute_result"
    }
   ],
   "source": [
    "def measure_zz_circuit(given_circuit):\n",
    "    zz_meas = given_circuit.copy()\n",
    "    zz_meas.measure_all()\n",
    "    return zz_meas\n",
    "\n",
    "zz_meas = measure_zz_circuit(Operational_circuit_try)\n",
    "zz_meas.draw()"
   ]
  },
  {
   "cell_type": "code",
   "execution_count": 99,
   "metadata": {},
   "outputs": [],
   "source": [
    "def measure_zz(given_circuit, num_shots = 10000):\n",
    "\n",
    "    zz_meas = measure_zz_circuit(given_circuit)\n",
    "    \n",
    "    result = execute(zz_meas, backend = simulator, shots = num_shots).result()\n",
    "    counts = result.get_counts(zz_meas)\n",
    "\n",
    "    if '00' not in counts:\n",
    "        counts['00'] = 0\n",
    "    if '01' not in counts:\n",
    "        counts['01'] = 0\n",
    "    if '10' not in counts:\n",
    "        counts['10'] = 0\n",
    "    if '11' not in counts:\n",
    "        counts['11'] = 0 \n",
    "\n",
    "    total_counts = counts['00'] + counts['11'] + counts['01'] + counts['10']\n",
    "    zz = counts['00'] + counts['11'] - counts['01'] - counts['10']\n",
    "    zz = zz / total_counts\n",
    "    \n",
    "    return zz"
   ]
  },
  {
   "cell_type": "code",
   "execution_count": 100,
   "metadata": {},
   "outputs": [
    {
     "name": "stdout",
     "output_type": "stream",
     "text": [
      "<ZZ> = -0.6212\n"
     ]
    }
   ],
   "source": [
    "zz = measure_zz(Operational_circuit_try)\n",
    "print(\"<ZZ> =\", str(zz))"
   ]
  },
  {
   "cell_type": "markdown",
   "metadata": {},
   "source": [
    "# 2. XX"
   ]
  },
  {
   "cell_type": "code",
   "execution_count": 101,
   "metadata": {},
   "outputs": [],
   "source": [
    "def measure_xx_circuit(given_circuit):\n",
    "    xx_meas = given_circuit.copy()\n",
    "    xx_meas.h(0)\n",
    "    xx_meas.h(1)\n",
    "    xx_meas.measure_all()\n",
    "\n",
    "    return xx_meas"
   ]
  },
  {
   "cell_type": "code",
   "execution_count": 102,
   "metadata": {},
   "outputs": [
    {
     "data": {
      "text/html": [
       "<pre style=\"word-wrap: normal;white-space: pre;background: #fff0;line-height: 1.1;font-family: &quot;Courier New&quot;,Courier,monospace\">        ┌───────┐┌───────┐     ┌───────┐┌───┐ ░ ┌─┐   \n",
       "   q_0: ┤ RX(1) ├┤ RY(3) ├──■──┤ RY(5) ├┤ H ├─░─┤M├───\n",
       "        ├───────┤├───────┤┌─┴─┐├───────┤├───┤ ░ └╥┘┌─┐\n",
       "   q_1: ┤ RX(2) ├┤ RY(4) ├┤ X ├┤ RY(6) ├┤ H ├─░──╫─┤M├\n",
       "        └───────┘└───────┘└───┘└───────┘└───┘ ░  ║ └╥┘\n",
       "meas_0: ═════════════════════════════════════════╩══╬═\n",
       "                                                    ║ \n",
       "meas_1: ════════════════════════════════════════════╩═\n",
       "                                                      </pre>"
      ],
      "text/plain": [
       "        ┌───────┐┌───────┐     ┌───────┐┌───┐ ░ ┌─┐   \n",
       "   q_0: ┤ RX(1) ├┤ RY(3) ├──■──┤ RY(5) ├┤ H ├─░─┤M├───\n",
       "        ├───────┤├───────┤┌─┴─┐├───────┤├───┤ ░ └╥┘┌─┐\n",
       "   q_1: ┤ RX(2) ├┤ RY(4) ├┤ X ├┤ RY(6) ├┤ H ├─░──╫─┤M├\n",
       "        └───────┘└───────┘└───┘└───────┘└───┘ ░  ║ └╥┘\n",
       "meas_0: ═════════════════════════════════════════╩══╬═\n",
       "                                                    ║ \n",
       "meas_1: ════════════════════════════════════════════╩═\n",
       "                                                      "
      ]
     },
     "execution_count": 102,
     "metadata": {},
     "output_type": "execute_result"
    }
   ],
   "source": [
    "xx_meas = measure_xx_circuit(Operational_circuit_try)\n",
    "xx_meas.draw()"
   ]
  },
  {
   "cell_type": "code",
   "execution_count": 103,
   "metadata": {},
   "outputs": [],
   "source": [
    "def measure_xx(given_circuit, num_shots = 10000):\n",
    "    \n",
    "    xx_meas = measure_xx_circuit(given_circuit)\n",
    "    \n",
    "    result = execute(xx_meas, backend = simulator, shots = num_shots).result()\n",
    "    counts = result.get_counts(xx_meas)\n",
    "\n",
    "    if '00' not in counts:\n",
    "        counts['00'] = 0\n",
    "    if '01' not in counts:\n",
    "        counts['01'] = 0\n",
    "    if '10' not in counts:\n",
    "        counts['10'] = 0\n",
    "    if '11' not in counts:\n",
    "        counts['11'] = 0\n",
    "\n",
    "    total_counts = counts['00'] + counts['11'] + counts['01'] + counts['10']\n",
    "    xx = counts['00'] + counts['11'] - counts['01'] - counts['10']\n",
    "    xx = xx / total_counts\n",
    "    \n",
    "    return xx"
   ]
  },
  {
   "cell_type": "code",
   "execution_count": 104,
   "metadata": {},
   "outputs": [
    {
     "name": "stdout",
     "output_type": "stream",
     "text": [
      "<XX> = 0.3066\n"
     ]
    }
   ],
   "source": [
    "xx = measure_xx(Operational_circuit_try)\n",
    "print(\"<XX> =\", str(xx))"
   ]
  },
  {
   "cell_type": "markdown",
   "metadata": {},
   "source": [
    "# 3. YY"
   ]
  },
  {
   "cell_type": "code",
   "execution_count": 105,
   "metadata": {},
   "outputs": [],
   "source": [
    "def measure_yy_circuit(given_circuit):\n",
    "    yy_meas = given_circuit.copy()\n",
    "    yy_meas.rz(-pi/2,0)\n",
    "    yy_meas.rz(-pi/2,1)\n",
    "\n",
    "    yy_meas.h(0)\n",
    "    yy_meas.h(1)\n",
    "    yy_meas.measure_all()\n",
    "\n",
    "    return yy_meas"
   ]
  },
  {
   "cell_type": "code",
   "execution_count": 106,
   "metadata": {},
   "outputs": [
    {
     "data": {
      "text/html": [
       "<pre style=\"word-wrap: normal;white-space: pre;background: #fff0;line-height: 1.1;font-family: &quot;Courier New&quot;,Courier,monospace\">        ┌───────┐┌───────┐     ┌───────┐┌───────────┐┌───┐ ░ ┌─┐   \n",
       "   q_0: ┤ RX(1) ├┤ RY(3) ├──■──┤ RY(5) ├┤ RZ(-pi/2) ├┤ H ├─░─┤M├───\n",
       "        ├───────┤├───────┤┌─┴─┐├───────┤├───────────┤├───┤ ░ └╥┘┌─┐\n",
       "   q_1: ┤ RX(2) ├┤ RY(4) ├┤ X ├┤ RY(6) ├┤ RZ(-pi/2) ├┤ H ├─░──╫─┤M├\n",
       "        └───────┘└───────┘└───┘└───────┘└───────────┘└───┘ ░  ║ └╥┘\n",
       "meas_0: ══════════════════════════════════════════════════════╩══╬═\n",
       "                                                                 ║ \n",
       "meas_1: ═════════════════════════════════════════════════════════╩═\n",
       "                                                                   </pre>"
      ],
      "text/plain": [
       "        ┌───────┐┌───────┐     ┌───────┐┌───────────┐┌───┐ ░ ┌─┐   \n",
       "   q_0: ┤ RX(1) ├┤ RY(3) ├──■──┤ RY(5) ├┤ RZ(-pi/2) ├┤ H ├─░─┤M├───\n",
       "        ├───────┤├───────┤┌─┴─┐├───────┤├───────────┤├───┤ ░ └╥┘┌─┐\n",
       "   q_1: ┤ RX(2) ├┤ RY(4) ├┤ X ├┤ RY(6) ├┤ RZ(-pi/2) ├┤ H ├─░──╫─┤M├\n",
       "        └───────┘└───────┘└───┘└───────┘└───────────┘└───┘ ░  ║ └╥┘\n",
       "meas_0: ══════════════════════════════════════════════════════╩══╬═\n",
       "                                                                 ║ \n",
       "meas_1: ═════════════════════════════════════════════════════════╩═\n",
       "                                                                   "
      ]
     },
     "execution_count": 106,
     "metadata": {},
     "output_type": "execute_result"
    }
   ],
   "source": [
    "yy_meas = measure_yy_circuit(Operational_circuit_try)\n",
    "yy_meas.draw()"
   ]
  },
  {
   "cell_type": "code",
   "execution_count": 107,
   "metadata": {},
   "outputs": [],
   "source": [
    "def measure_yy(given_circuit, num_shots = 10000):\n",
    "    \n",
    "    yy_meas = measure_yy_circuit(given_circuit)\n",
    "    \n",
    "    result = execute(yy_meas, backend = simulator, shots = num_shots).result()\n",
    "    counts = result.get_counts(yy_meas)\n",
    "\n",
    "    if '00' not in counts:\n",
    "        counts['00'] = 0\n",
    "    if '01' not in counts:\n",
    "        counts['01'] = 0\n",
    "    if '10' not in counts:\n",
    "        counts['10'] = 0\n",
    "    if '11' not in counts:\n",
    "        counts['11'] = 0\n",
    "\n",
    "    total_counts = counts['00'] + counts['11'] + counts['01'] + counts['10']\n",
    "    yy = counts['00'] + counts['11'] - counts['01'] - counts['10']\n",
    "    yy = yy / total_counts\n",
    "    \n",
    "    return yy"
   ]
  },
  {
   "cell_type": "code",
   "execution_count": 108,
   "metadata": {},
   "outputs": [
    {
     "name": "stdout",
     "output_type": "stream",
     "text": [
      "<yy> = -0.03\n"
     ]
    }
   ],
   "source": [
    "yy = measure_yy(Operational_circuit_try)\n",
    "print(\"<yy> =\", str(yy))"
   ]
  },
  {
   "cell_type": "markdown",
   "metadata": {},
   "source": [
    "# 4. IX"
   ]
  },
  {
   "cell_type": "code",
   "execution_count": 109,
   "metadata": {},
   "outputs": [],
   "source": [
    "def measure_ix_circuit(given_circuit):\n",
    "    ix_meas = given_circuit.copy()\n",
    "    ix_meas.h(1)\n",
    "    ix_meas.measure_all()\n",
    "\n",
    "    return ix_meas\n",
    "def measure_ix(given_circuit, num_shots = 10000):\n",
    "    \n",
    "    ix_meas = measure_ix_circuit(given_circuit)\n",
    "    \n",
    "    result = execute(ix_meas, backend = simulator, shots = num_shots).result()\n",
    "    counts = result.get_counts(ix_meas)\n",
    "\n",
    "    if '00' not in counts:\n",
    "        counts['00'] = 0\n",
    "    if '01' not in counts:\n",
    "        counts['01'] = 0\n",
    "    if '10' not in counts:\n",
    "        counts['10'] = 0\n",
    "    if '11' not in counts:\n",
    "        counts['11'] = 0\n",
    "\n",
    "    total_counts = counts['00'] + counts['11'] + counts['01'] + counts['10']\n",
    "    ix = counts['00'] - counts['11'] + counts['01'] - counts['10']\n",
    "    ix = ix / total_counts\n",
    "    \n",
    "    return ix"
   ]
  },
  {
   "cell_type": "code",
   "execution_count": 110,
   "metadata": {},
   "outputs": [
    {
     "data": {
      "text/html": [
       "<pre style=\"word-wrap: normal;white-space: pre;background: #fff0;line-height: 1.1;font-family: &quot;Courier New&quot;,Courier,monospace\">        ┌───────┐┌───────┐     ┌───────┐      ░ ┌─┐   \n",
       "   q_0: ┤ RX(1) ├┤ RY(3) ├──■──┤ RY(5) ├──────░─┤M├───\n",
       "        ├───────┤├───────┤┌─┴─┐├───────┤┌───┐ ░ └╥┘┌─┐\n",
       "   q_1: ┤ RX(2) ├┤ RY(4) ├┤ X ├┤ RY(6) ├┤ H ├─░──╫─┤M├\n",
       "        └───────┘└───────┘└───┘└───────┘└───┘ ░  ║ └╥┘\n",
       "meas_0: ═════════════════════════════════════════╩══╬═\n",
       "                                                    ║ \n",
       "meas_1: ════════════════════════════════════════════╩═\n",
       "                                                      </pre>"
      ],
      "text/plain": [
       "        ┌───────┐┌───────┐     ┌───────┐      ░ ┌─┐   \n",
       "   q_0: ┤ RX(1) ├┤ RY(3) ├──■──┤ RY(5) ├──────░─┤M├───\n",
       "        ├───────┤├───────┤┌─┴─┐├───────┤┌───┐ ░ └╥┘┌─┐\n",
       "   q_1: ┤ RX(2) ├┤ RY(4) ├┤ X ├┤ RY(6) ├┤ H ├─░──╫─┤M├\n",
       "        └───────┘└───────┘└───┘└───────┘└───┘ ░  ║ └╥┘\n",
       "meas_0: ═════════════════════════════════════════╩══╬═\n",
       "                                                    ║ \n",
       "meas_1: ════════════════════════════════════════════╩═\n",
       "                                                      "
      ]
     },
     "execution_count": 110,
     "metadata": {},
     "output_type": "execute_result"
    }
   ],
   "source": [
    "ix_meas = measure_ix_circuit(Operational_circuit_try)\n",
    "ix_meas.draw()"
   ]
  },
  {
   "cell_type": "code",
   "execution_count": 111,
   "metadata": {},
   "outputs": [
    {
     "name": "stdout",
     "output_type": "stream",
     "text": [
      "<IX> = 0.3262\n"
     ]
    }
   ],
   "source": [
    "ix = measure_ix(Operational_circuit_try)\n",
    "print(\"<IX> =\", str(ix))"
   ]
  },
  {
   "cell_type": "markdown",
   "metadata": {},
   "source": [
    "# 5. XI"
   ]
  },
  {
   "cell_type": "code",
   "execution_count": 112,
   "metadata": {},
   "outputs": [
    {
     "name": "stdout",
     "output_type": "stream",
     "text": [
      "<XI> = 0.5174\n"
     ]
    }
   ],
   "source": [
    "def measure_xi_circuit(given_circuit):\n",
    "    xi_meas = given_circuit.copy()\n",
    "    xi_meas.h(0)\n",
    "    xi_meas.measure_all()\n",
    "\n",
    "    return xi_meas\n",
    "def measure_xi(given_circuit, num_shots = 10000):\n",
    "    \n",
    "    xi_meas = measure_xi_circuit(given_circuit)\n",
    "    \n",
    "    result = execute(xi_meas, backend = simulator, shots = num_shots).result()\n",
    "    counts = result.get_counts(xi_meas)\n",
    "\n",
    "    if '00' not in counts:\n",
    "        counts['00'] = 0\n",
    "    if '01' not in counts:\n",
    "        counts['01'] = 0\n",
    "    if '10' not in counts:\n",
    "        counts['10'] = 0\n",
    "    if '11' not in counts:\n",
    "        counts['11'] = 0\n",
    "\n",
    "    total_counts = counts['00'] + counts['11'] + counts['01'] + counts['10']\n",
    "    xi = counts['00'] - counts['11'] - counts['01'] + counts['10']\n",
    "    xi = xi / total_counts\n",
    "    \n",
    "    return xi\n",
    "xi = measure_xi(Operational_circuit_try)\n",
    "print(\"<XI> =\", str(xi))"
   ]
  },
  {
   "cell_type": "markdown",
   "metadata": {},
   "source": [
    "# 6. IY"
   ]
  },
  {
   "cell_type": "code",
   "execution_count": 113,
   "metadata": {},
   "outputs": [],
   "source": [
    "def measure_iy_circuit(given_circuit):\n",
    "    iy_meas = given_circuit.copy()\n",
    "    iy_meas.rz(-pi/2,1)\n",
    "    iy_meas.h(1)\n",
    "    iy_meas.measure_all()\n",
    "\n",
    "    return iy_meas\n",
    "def measure_iy(given_circuit, num_shots = 10000):\n",
    "    \n",
    "    iy_meas = measure_iy_circuit(given_circuit)\n",
    "    \n",
    "    result = execute(iy_meas, backend = simulator, shots = num_shots).result()\n",
    "    counts = result.get_counts(iy_meas)\n",
    "\n",
    "    if '00' not in counts:\n",
    "        counts['00'] = 0\n",
    "    if '01' not in counts:\n",
    "        counts['01'] = 0\n",
    "    if '10' not in counts:\n",
    "        counts['10'] = 0\n",
    "    if '11' not in counts:\n",
    "        counts['11'] = 0\n",
    "\n",
    "    total_counts = counts['00'] + counts['11'] + counts['01'] + counts['10']\n",
    "    iy = counts['00'] - counts['11'] + counts['01'] - counts['10']\n",
    "    iy = iy / total_counts\n",
    "    \n",
    "    return iy"
   ]
  },
  {
   "cell_type": "markdown",
   "metadata": {},
   "source": [
    "# 7. YI"
   ]
  },
  {
   "cell_type": "code",
   "execution_count": 114,
   "metadata": {},
   "outputs": [],
   "source": [
    "def measure_yi_circuit(given_circuit):\n",
    "    yi_meas = given_circuit.copy()\n",
    "    yi_meas.rz(-pi/2,0)\n",
    "    yi_meas.h(0)\n",
    "    yi_meas.measure_all()\n",
    "\n",
    "    return yi_meas\n",
    "def measure_yi(given_circuit, num_shots = 10000):\n",
    "    \n",
    "    yi_meas = measure_yi_circuit(given_circuit)\n",
    "    \n",
    "    result = execute(yi_meas, backend = simulator, shots = num_shots).result()\n",
    "    counts = result.get_counts(yi_meas)\n",
    "\n",
    "    if '00' not in counts:\n",
    "        counts['00'] = 0\n",
    "    if '01' not in counts:\n",
    "        counts['01'] = 0\n",
    "    if '10' not in counts:\n",
    "        counts['10'] = 0\n",
    "    if '11' not in counts:\n",
    "        counts['11'] = 0\n",
    "\n",
    "    total_counts = counts['00'] + counts['11'] + counts['01'] + counts['10']\n",
    "    yi = counts['00'] - counts['11'] - counts['01'] + counts['10']\n",
    "    yi = yi / total_counts\n",
    "    \n",
    "    return yi"
   ]
  },
  {
   "cell_type": "markdown",
   "metadata": {},
   "source": [
    "# 8. IZ"
   ]
  },
  {
   "cell_type": "code",
   "execution_count": 115,
   "metadata": {},
   "outputs": [],
   "source": [
    "def measure_iz(given_circuit, num_shots = 10000):\n",
    "\n",
    "    zz_meas = measure_zz_circuit(given_circuit)\n",
    "    \n",
    "    result = execute(zz_meas, backend = simulator, shots = num_shots).result()\n",
    "    counts = result.get_counts(zz_meas)\n",
    "\n",
    "    if '00' not in counts:\n",
    "        counts['00'] = 0\n",
    "    if '01' not in counts:\n",
    "        counts['01'] = 0\n",
    "    if '10' not in counts:\n",
    "        counts['10'] = 0\n",
    "    if '11' not in counts:\n",
    "        counts['11'] = 0 \n",
    "\n",
    "    total_counts = counts['00'] + counts['11'] + counts['01'] + counts['10']\n",
    "    zz = counts['00'] - counts['11']+ counts['01'] - counts['10']\n",
    "    zz = zz / total_counts\n",
    "    \n",
    "    return zz"
   ]
  },
  {
   "cell_type": "markdown",
   "metadata": {},
   "source": [
    "# 9. ZI"
   ]
  },
  {
   "cell_type": "code",
   "execution_count": 116,
   "metadata": {},
   "outputs": [],
   "source": [
    "def measure_zi(given_circuit, num_shots = 10000):\n",
    "\n",
    "    zz_meas = measure_zz_circuit(given_circuit)\n",
    "    \n",
    "    result = execute(zz_meas, backend = simulator, shots = num_shots).result()\n",
    "    counts = result.get_counts(zz_meas)\n",
    "\n",
    "    if '00' not in counts:\n",
    "        counts['00'] = 0\n",
    "    if '01' not in counts:\n",
    "        counts['01'] = 0\n",
    "    if '10' not in counts:\n",
    "        counts['10'] = 0\n",
    "    if '11' not in counts:\n",
    "        counts['11'] = 0 \n",
    "\n",
    "    total_counts = counts['00'] + counts['11'] + counts['01'] + counts['10']\n",
    "    zz = counts['00'] - counts['11']- counts['01'] + counts['10']\n",
    "    zz = zz / total_counts\n",
    "    \n",
    "    return zz"
   ]
  },
  {
   "cell_type": "markdown",
   "metadata": {},
   "source": [
    "# 10. XY"
   ]
  },
  {
   "cell_type": "code",
   "execution_count": 117,
   "metadata": {},
   "outputs": [],
   "source": [
    "def measure_xy_circuit(given_circuit):\n",
    "    xy_meas = given_circuit.copy()\n",
    "    xy_meas.rz(-pi/2,1)\n",
    "    xy_meas.h(1)\n",
    "    xy_meas.h(0)\n",
    "    xy_meas.measure_all()\n",
    "\n",
    "    return xy_meas\n",
    "\n",
    "def measure_xy(given_circuit, num_shots = 10000):\n",
    "\n",
    "    zz_meas = measure_xy_circuit(given_circuit)\n",
    "    \n",
    "    result = execute(zz_meas, backend = simulator, shots = num_shots).result()\n",
    "    counts = result.get_counts(zz_meas)\n",
    "\n",
    "    if '00' not in counts:\n",
    "        counts['00'] = 0\n",
    "    if '01' not in counts:\n",
    "        counts['01'] = 0\n",
    "    if '10' not in counts:\n",
    "        counts['10'] = 0\n",
    "    if '11' not in counts:\n",
    "        counts['11'] = 0 \n",
    "\n",
    "    total_counts = counts['00'] + counts['11'] + counts['01'] + counts['10']\n",
    "    zz = counts['00'] + counts['11'] - counts['01'] - counts['10']\n",
    "    zz = zz / total_counts\n",
    "    \n",
    "    return zz"
   ]
  },
  {
   "cell_type": "markdown",
   "metadata": {},
   "source": [
    "# 11. YX"
   ]
  },
  {
   "cell_type": "code",
   "execution_count": 118,
   "metadata": {},
   "outputs": [],
   "source": [
    "def measure_yx_circuit(given_circuit):\n",
    "    xy_meas = given_circuit.copy()\n",
    "    xy_meas.rz(-pi/2,0)\n",
    "    xy_meas.h(0)\n",
    "    xy_meas.h(1)\n",
    "    xy_meas.measure_all()\n",
    "\n",
    "    return xy_meas\n",
    "\n",
    "def measure_yx(given_circuit, num_shots = 10000):\n",
    "\n",
    "    zz_meas = measure_yx_circuit(given_circuit)\n",
    "    \n",
    "    result = execute(zz_meas, backend = simulator, shots = num_shots).result()\n",
    "    counts = result.get_counts(zz_meas)\n",
    "\n",
    "    if '00' not in counts:\n",
    "        counts['00'] = 0\n",
    "    if '01' not in counts:\n",
    "        counts['01'] = 0\n",
    "    if '10' not in counts:\n",
    "        counts['10'] = 0\n",
    "    if '11' not in counts:\n",
    "        counts['11'] = 0 \n",
    "\n",
    "    total_counts = counts['00'] + counts['11'] + counts['01'] + counts['10']\n",
    "    zz = counts['00'] + counts['11'] - counts['01'] - counts['10']\n",
    "    zz = zz / total_counts\n",
    "    \n",
    "    return zz"
   ]
  },
  {
   "cell_type": "markdown",
   "metadata": {},
   "source": [
    "# 12. XZ"
   ]
  },
  {
   "cell_type": "code",
   "execution_count": 119,
   "metadata": {},
   "outputs": [],
   "source": [
    "def measure_xz_circuit(given_circuit):\n",
    "    xy_meas = given_circuit.copy()\n",
    "    xy_meas.h(0)\n",
    "    xy_meas.measure_all()\n",
    "\n",
    "    return xy_meas\n",
    "\n",
    "def measure_xz(given_circuit, num_shots = 10000):\n",
    "\n",
    "    zz_meas = measure_xz_circuit(given_circuit)\n",
    "    \n",
    "    result = execute(zz_meas, backend = simulator, shots = num_shots).result()\n",
    "    counts = result.get_counts(zz_meas)\n",
    "\n",
    "    if '00' not in counts:\n",
    "        counts['00'] = 0\n",
    "    if '01' not in counts:\n",
    "        counts['01'] = 0\n",
    "    if '10' not in counts:\n",
    "        counts['10'] = 0\n",
    "    if '11' not in counts:\n",
    "        counts['11'] = 0 \n",
    "\n",
    "    total_counts = counts['00'] + counts['11'] + counts['01'] + counts['10']\n",
    "    zz = counts['00'] + counts['11'] - counts['01'] - counts['10']\n",
    "    zz = zz / total_counts\n",
    "    \n",
    "    return zz"
   ]
  },
  {
   "cell_type": "markdown",
   "metadata": {},
   "source": [
    "# 13. ZX"
   ]
  },
  {
   "cell_type": "code",
   "execution_count": 120,
   "metadata": {},
   "outputs": [],
   "source": [
    "def measure_zx_circuit(given_circuit):\n",
    "    xy_meas = given_circuit.copy()\n",
    "    xy_meas.h(1)\n",
    "    xy_meas.measure_all()\n",
    "\n",
    "    return xy_meas\n",
    "\n",
    "def measure_zx(given_circuit, num_shots = 10000):\n",
    "\n",
    "    zz_meas = measure_zx_circuit(given_circuit)\n",
    "    \n",
    "    result = execute(zz_meas, backend = simulator, shots = num_shots).result()\n",
    "    counts = result.get_counts(zz_meas)\n",
    "\n",
    "    if '00' not in counts:\n",
    "        counts['00'] = 0\n",
    "    if '01' not in counts:\n",
    "        counts['01'] = 0\n",
    "    if '10' not in counts:\n",
    "        counts['10'] = 0\n",
    "    if '11' not in counts:\n",
    "        counts['11'] = 0 \n",
    "\n",
    "    total_counts = counts['00'] + counts['11'] + counts['01'] + counts['10']\n",
    "    zz = counts['00'] + counts['11'] - counts['01'] - counts['10']\n",
    "    zz = zz / total_counts\n",
    "    \n",
    "    return zz"
   ]
  },
  {
   "cell_type": "markdown",
   "metadata": {},
   "source": [
    "# 14. YZ"
   ]
  },
  {
   "cell_type": "code",
   "execution_count": 121,
   "metadata": {},
   "outputs": [],
   "source": [
    "def measure_yz_circuit(given_circuit):\n",
    "    xy_meas = given_circuit.copy()\n",
    "    xy_meas.rz(-pi/2,0)\n",
    "    xy_meas.h(0)\n",
    "    xy_meas.measure_all()\n",
    "\n",
    "    return xy_meas\n",
    "\n",
    "def measure_yz(given_circuit, num_shots = 10000):\n",
    "\n",
    "    zz_meas = measure_yz_circuit(given_circuit)\n",
    "    \n",
    "    result = execute(zz_meas, backend = simulator, shots = num_shots).result()\n",
    "    counts = result.get_counts(zz_meas)\n",
    "\n",
    "    if '00' not in counts:\n",
    "        counts['00'] = 0\n",
    "    if '01' not in counts:\n",
    "        counts['01'] = 0\n",
    "    if '10' not in counts:\n",
    "        counts['10'] = 0\n",
    "    if '11' not in counts:\n",
    "        counts['11'] = 0 \n",
    "\n",
    "    total_counts = counts['00'] + counts['11'] + counts['01'] + counts['10']\n",
    "    zz = counts['00'] + counts['11'] - counts['01'] - counts['10']\n",
    "    zz = zz / total_counts\n",
    "    \n",
    "    return zz"
   ]
  },
  {
   "cell_type": "markdown",
   "metadata": {},
   "source": [
    "# 15. ZY"
   ]
  },
  {
   "cell_type": "code",
   "execution_count": 122,
   "metadata": {},
   "outputs": [],
   "source": [
    "def measure_zy_circuit(given_circuit):\n",
    "    xy_meas = given_circuit.copy()\n",
    "    xy_meas.rz(-pi/2,1)\n",
    "    xy_meas.h(1)\n",
    "    xy_meas.measure_all()\n",
    "\n",
    "    return xy_meas\n",
    "\n",
    "def measure_zy(given_circuit, num_shots = 10000):\n",
    "\n",
    "    zz_meas = measure_zy_circuit(given_circuit)\n",
    "    \n",
    "    result = execute(zz_meas, backend = simulator, shots = num_shots).result()\n",
    "    counts = result.get_counts(zz_meas)\n",
    "\n",
    "    if '00' not in counts:\n",
    "        counts['00'] = 0\n",
    "    if '01' not in counts:\n",
    "        counts['01'] = 0\n",
    "    if '10' not in counts:\n",
    "        counts['10'] = 0\n",
    "    if '11' not in counts:\n",
    "        counts['11'] = 0 \n",
    "\n",
    "    total_counts = counts['00'] + counts['11'] + counts['01'] + counts['10']\n",
    "    zz = counts['00'] + counts['11'] - counts['01'] - counts['10']\n",
    "    zz = zz / total_counts\n",
    "    \n",
    "    return zz"
   ]
  },
  {
   "cell_type": "markdown",
   "metadata": {},
   "source": [
    "# Cost_Function"
   ]
  },
  {
   "cell_type": "code",
   "execution_count": 133,
   "metadata": {},
   "outputs": [],
   "source": [
    "def eigen_value(params):\n",
    "    num_shots = 100000\n",
    "    zz = measure_zz(Operational_circuit(params), num_shots = num_shots)\n",
    "    xx = measure_xx(Operational_circuit(params), num_shots = num_shots)\n",
    "    yy = measure_yy(Operational_circuit(params), num_shots = num_shots)\n",
    "    ix = measure_ix(Operational_circuit(params), num_shots = num_shots)\n",
    "    xi = measure_xi(Operational_circuit(params), num_shots = num_shots)\n",
    "    iy = measure_iy(Operational_circuit(params), num_shots = num_shots)\n",
    "    yi = measure_yi(Operational_circuit(params), num_shots = num_shots)\n",
    "    iz = measure_iz(Operational_circuit(params), num_shots = num_shots)\n",
    "    zi = measure_zi(Operational_circuit(params), num_shots = num_shots)\n",
    "    xy = measure_xy(Operational_circuit(params), num_shots = num_shots)\n",
    "    yx = measure_yx(Operational_circuit(params), num_shots = num_shots)\n",
    "    xz = measure_xz(Operational_circuit(params), num_shots = num_shots)\n",
    "    zx = measure_zx(Operational_circuit(params), num_shots = num_shots)\n",
    "    yz = measure_yz(Operational_circuit(params), num_shots = num_shots)\n",
    "    zy = measure_zy(Operational_circuit(params), num_shots = num_shots)\n",
    "    \n",
    "    coeff = coef(H)\n",
    "    \n",
    "    ev = (coeff[0]*1 + coeff[1]*zz + coeff[2]*xx+coeff[3]*yy+coeff[4]*ix+coeff[5]*xi+coeff[6]*iy+coeff[7]*yi+coeff[8]*iz+\n",
    "         coeff[9]*zi+coeff[10]*xy+coeff[11]*yx+coeff[12]*xz+coeff[13]*zx+coeff[14]*yz+coeff[15]*zy)\n",
    "    \n",
    "    return ev"
   ]
  },
  {
   "cell_type": "code",
   "execution_count": 134,
   "metadata": {},
   "outputs": [],
   "source": [
    "params = [0,0,0,0,0,0]"
   ]
  },
  {
   "cell_type": "code",
   "execution_count": 135,
   "metadata": {
    "scrolled": true
   },
   "outputs": [
    {
     "name": "stdout",
     "output_type": "stream",
     "text": [
      "The Eigen_Value of the trial state is -0.9989049999999999\n"
     ]
    }
   ],
   "source": [
    "ev = eigen_value(params)     #Try energy with params = [0,0,0,0,0,0]\n",
    "print(\"The Eigen_Value of the trial state is\", str(ev))"
   ]
  },
  {
   "cell_type": "markdown",
   "metadata": {},
   "source": [
    "# Finding Lowest Eignevalue"
   ]
  },
  {
   "cell_type": "code",
   "execution_count": 136,
   "metadata": {},
   "outputs": [],
   "source": [
    "from qiskit.aqua.components.optimizers import COBYLA,SLSQP,SPSA\n",
    "\n",
    "optimizer = COBYLA(50,0.001)"
   ]
  },
  {
   "cell_type": "code",
   "execution_count": 137,
   "metadata": {},
   "outputs": [],
   "source": [
    "ret = optimizer.optimize(num_vars=6, objective_function=eigen_value, initial_point=params)"
   ]
  },
  {
   "cell_type": "code",
   "execution_count": 138,
   "metadata": {},
   "outputs": [
    {
     "data": {
      "text/plain": [
       "-1.046875"
      ]
     },
     "execution_count": 138,
     "metadata": {},
     "output_type": "execute_result"
    }
   ],
   "source": [
    "eigen_value(ret[0])"
   ]
  },
  {
   "cell_type": "code",
   "execution_count": 139,
   "metadata": {},
   "outputs": [
    {
     "data": {
      "text/plain": [
       "array([-6.67246802e-02, -4.79907340e-02, -5.59187975e-02, -2.14918315e-04,\n",
       "        2.61880395e-01, -2.52326013e-01])"
      ]
     },
     "execution_count": 139,
     "metadata": {},
     "output_type": "execute_result"
    }
   ],
   "source": [
    "ret[0]"
   ]
  },
  {
   "cell_type": "markdown",
   "metadata": {},
   "source": []
  },
  {
   "cell_type": "code",
   "execution_count": null,
   "metadata": {},
   "outputs": [],
   "source": [
    "backend_state = Aer.get_backend('statevector_simulator')\n",
    "result = execute(Operational_circuit(ret[0]),backend_state).result()\n",
    "out_state = result.get_statevector()\n",
    "out_state"
   ]
  },
  {
   "cell_type": "code",
   "execution_count": null,
   "metadata": {},
   "outputs": [],
   "source": []
  },
  {
   "cell_type": "code",
   "execution_count": null,
   "metadata": {},
   "outputs": [],
   "source": []
  },
  {
   "cell_type": "code",
   "execution_count": null,
   "metadata": {},
   "outputs": [],
   "source": []
  }
 ],
 "metadata": {
  "kernelspec": {
   "display_name": "Python 3",
   "language": "python",
   "name": "python3"
  },
  "language_info": {
   "codemirror_mode": {
    "name": "ipython",
    "version": 3
   },
   "file_extension": ".py",
   "mimetype": "text/x-python",
   "name": "python",
   "nbconvert_exporter": "python",
   "pygments_lexer": "ipython3",
   "version": "3.7.1"
  }
 },
 "nbformat": 4,
 "nbformat_minor": 4
}
