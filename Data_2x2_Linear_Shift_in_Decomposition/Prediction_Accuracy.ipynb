{
 "cells": [
  {
   "cell_type": "markdown",
   "metadata": {},
   "source": [
    "# 1. 0I+3X+5Y+7Z"
   ]
  },
  {
   "cell_type": "code",
   "execution_count": 109,
   "metadata": {},
   "outputs": [],
   "source": [
    "from math import *\n",
    "import numpy as np\n",
    "import scipy.linalg as la\n",
    "import random \n",
    "import cmath \n",
    "import math"
   ]
  },
  {
   "cell_type": "code",
   "execution_count": 22,
   "metadata": {},
   "outputs": [],
   "source": [
    "from qiskit import QuantumRegister, ClassicalRegister\n",
    "from qiskit import QuantumCircuit, execute, Aer\n",
    "import pennylane as qml\n",
    "import numpy as np\n",
    "from numpy import pi\n",
    "simulator = Aer.get_backend('qasm_simulator')\n",
    "\n",
    "from scipy.linalg import expm, sinm, cosm"
   ]
  },
  {
   "cell_type": "code",
   "execution_count": 60,
   "metadata": {},
   "outputs": [],
   "source": [
    "def y_point_1(x):\n",
    "    y_temp = []\n",
    "    a1 =       24.26 \n",
    "    a2 =      -1.085  \n",
    "    b1 =       37.21  \n",
    "    c1 =       7.283  \n",
    "    c2 =     0.01759 \n",
    "    d1 =        0.62  \n",
    "    d2 =      0.7687  \n",
    "    e =      0.8706  \n",
    "    for i in x:\n",
    "        temp = a1/(b1+c1*exp(-d1*i))+a2/(1+c2*exp(-d2*i))+e\n",
    "        y_temp.append(temp)\n",
    "    return(y_temp)"
   ]
  },
  {
   "cell_type": "code",
   "execution_count": 61,
   "metadata": {},
   "outputs": [],
   "source": [
    "def theta_point_1(x):\n",
    "    z_temp = []\n",
    "    a1 =      -2.661  \n",
    "    a2 =       4.206  \n",
    "    c1 =    0.004604  \n",
    "    c2 =    0.005635  \n",
    "    d1 =       1.033  \n",
    "    d2 =       1.307  \n",
    "    e =      0.7446  \n",
    "    for i in x:\n",
    "        temp = a1/(1+c1*exp(-d1*i))+a2/(1+c2*exp(-d2*i))+e\n",
    "        z_temp.append(temp)\n",
    "    return(z_temp)"
   ]
  },
  {
   "cell_type": "code",
   "execution_count": null,
   "metadata": {},
   "outputs": [],
   "source": []
  },
  {
   "cell_type": "code",
   "execution_count": 62,
   "metadata": {},
   "outputs": [],
   "source": [
    "def measure_z_circuit(given_circuit):\n",
    "    z_meas = QuantumCircuit(1,1)\n",
    "    z_meas.append(given_circuit,[0])\n",
    "    z_meas.measure(0,0)\n",
    "    return z_meas\n",
    "\n",
    "def measure_z(given_circuit, num_shots = 10000):\n",
    "\n",
    "    z_meas = measure_z_circuit(given_circuit)\n",
    "    \n",
    "    result = execute(z_meas, backend = simulator, shots = num_shots).result()\n",
    "    counts = result.get_counts(z_meas)\n",
    "\n",
    "    if '0' not in counts:\n",
    "        counts['0'] = 0\n",
    "    if '1' not in counts:\n",
    "        counts['1'] = 0\n",
    "\n",
    "    total_counts = counts['0'] + counts['1']\n",
    "    z = counts['0'] - counts['1']\n",
    "    z = z / total_counts\n",
    "    \n",
    "    return z\n",
    "\n",
    "def measure_x_circuit(given_circuit):\n",
    "    \n",
    "    x_meas = QuantumCircuit(1,1)\n",
    "    x_meas.append(given_circuit,[0])\n",
    "    x_meas.h(0)\n",
    "    x_meas.measure(0,0)\n",
    "\n",
    "    return x_meas\n",
    "\n",
    "def measure_x(given_circuit, num_shots = 10000):\n",
    "    \n",
    "    x_meas = measure_x_circuit(given_circuit)\n",
    "    \n",
    "    result = execute(x_meas, backend = simulator, shots = num_shots).result()\n",
    "    counts = result.get_counts(x_meas)\n",
    "\n",
    "    if '0' not in counts:\n",
    "        counts['0'] = 0\n",
    "    if '1' not in counts:\n",
    "        counts['1'] = 0\n",
    "\n",
    "    total_counts = counts['0'] + counts['1'] \n",
    "    x = counts['0'] - counts['1']\n",
    "    x = x / total_counts\n",
    "    \n",
    "    return x\n",
    "\n",
    "def measure_y_circuit(given_circuit):\n",
    "    \n",
    "    y_meas = QuantumCircuit(1,1)\n",
    "    y_meas.append(given_circuit,[0])\n",
    "    y_meas.rz(-pi/2,0)\n",
    "    y_meas.h(0)\n",
    "\n",
    "    y_meas.measure(0,0)\n",
    "\n",
    "    return y_meas\n",
    "\n",
    "def measure_y(given_circuit, num_shots = 10000):\n",
    "    \n",
    "    y_meas = measure_y_circuit(given_circuit)\n",
    "    \n",
    "    result = execute(y_meas, backend = simulator, shots = num_shots).result()\n",
    "    counts = result.get_counts(y_meas)\n",
    "\n",
    "    if '0' not in counts:\n",
    "        counts['0'] = 0\n",
    "    if '1' not in counts:\n",
    "        counts['1'] = 0\n",
    "\n",
    "    total_counts = counts['0'] + counts['1'] \n",
    "    y = counts['0']  - counts['1']\n",
    "    y = y / total_counts\n",
    "    \n",
    "    return y"
   ]
  },
  {
   "cell_type": "code",
   "execution_count": 151,
   "metadata": {},
   "outputs": [],
   "source": [
    "X = np.matrix('0,1;1,0')\n",
    "Y = np.matrix('0,-1j;1j,0')\n",
    "Z = np.matrix('1,0;0,-1')\n",
    "I = np.matrix('1,0;0,1')\n",
    "e = 3\n",
    "a=1+e\n",
    "b = 2.3+e\n",
    "c = 6.2+e\n",
    "d = 8.8+e\n",
    "M = a*I+b*X+c*Y+d*Z"
   ]
  },
  {
   "cell_type": "code",
   "execution_count": 172,
   "metadata": {},
   "outputs": [],
   "source": [
    "def mat(n):\n",
    "    M_temp = n*I+(3+n)*X+(n+5)*Y+(n+7)*Z\n",
    "    return(M_temp)"
   ]
  },
  {
   "cell_type": "code",
   "execution_count": 153,
   "metadata": {},
   "outputs": [],
   "source": [
    "coeffs, obs_list = qml.utils.decompose_hamiltonian(M)\n",
    "H = qml.Hamiltonian(coeffs, obs_list)"
   ]
  },
  {
   "cell_type": "code",
   "execution_count": 66,
   "metadata": {},
   "outputs": [],
   "source": [
    "def coef(H):\n",
    "    coeff = [0,0,0,0]\n",
    "    h = str(H)\n",
    "    for i in range (len(h)):\n",
    "        p = \"\"\n",
    "        if h[i] ==\"(\":\n",
    "            j = i+1 \n",
    "            while h[j]!=\")\" :\n",
    "                p=p+h[j]\n",
    "                j+=1\n",
    "            \n",
    "            if h[j+3] == \"I\":\n",
    "                coeff[0] = float(p)\n",
    "                \n",
    "            if h[j+3] == \"X\":\n",
    "                coeff[1] = float(p)\n",
    "                \n",
    "            if h[j+3] == \"Y\":\n",
    "                coeff[2] = float(p)\n",
    "                \n",
    "            if h[j+3] == \"Z\":\n",
    "                coeff[3] = float(p)\n",
    "    \n",
    "    return(coeff)"
   ]
  },
  {
   "cell_type": "code",
   "execution_count": 149,
   "metadata": {},
   "outputs": [],
   "source": [
    "def eigen_value_check(qc,H):\n",
    "    num_shots = 100000\n",
    "    z = measure_z(qc, num_shots = num_shots)\n",
    "    x = measure_x(qc, num_shots = num_shots)\n",
    "    y = measure_y(qc, num_shots = num_shots)\n",
    "    coeff =coef(H) \n",
    "    ev = coeff[0]+coeff[1]*x+coeff[2]*y+coeff[3]*z\n",
    "    \n",
    "    return ev"
   ]
  },
  {
   "cell_type": "code",
   "execution_count": 68,
   "metadata": {},
   "outputs": [
    {
     "data": {
      "text/plain": [
       "<qiskit.circuit.instructionset.InstructionSet at 0x1b8d1a1dc50>"
      ]
     },
     "execution_count": 68,
     "metadata": {},
     "output_type": "execute_result"
    }
   ],
   "source": [
    "qc_a = QuantumCircuit(1)\n",
    "qc_a.initialize([ 0.32296885+0.j,-0.33861069-((1-0.33861069**2-0.32296885**2)**0.5)*1.j],[0])"
   ]
  },
  {
   "cell_type": "code",
   "execution_count": 154,
   "metadata": {},
   "outputs": [
    {
     "data": {
      "text/plain": [
       "-11.788444"
      ]
     },
     "execution_count": 154,
     "metadata": {},
     "output_type": "execute_result"
    }
   ],
   "source": [
    "eigen_value_check(qc_a,H)"
   ]
  },
  {
   "cell_type": "code",
   "execution_count": 70,
   "metadata": {},
   "outputs": [],
   "source": [
    "results = la.eig(M)"
   ]
  },
  {
   "cell_type": "code",
   "execution_count": 71,
   "metadata": {},
   "outputs": [
    {
     "data": {
      "text/plain": [
       "array([ 19.87356293-1.13964669e-16j, -11.87356293-7.74213751e-16j])"
      ]
     },
     "execution_count": 71,
     "metadata": {},
     "output_type": "execute_result"
    }
   ],
   "source": [
    "results[0]"
   ]
  },
  {
   "cell_type": "code",
   "execution_count": 72,
   "metadata": {},
   "outputs": [
    {
     "data": {
      "text/plain": [
       "-11.873562927080991"
      ]
     },
     "execution_count": 72,
     "metadata": {},
     "output_type": "execute_result"
    }
   ],
   "source": [
    "min(results[0].real)"
   ]
  },
  {
   "cell_type": "code",
   "execution_count": 73,
   "metadata": {},
   "outputs": [],
   "source": [
    "def Rand(start, end, num): \n",
    "    res = [] \n",
    "\n",
    "    for j in range(num): \n",
    "        res.append(random.randint(start, end)) \n",
    "\n",
    "    return res \n",
    "\n"
   ]
  },
  {
   "cell_type": "code",
   "execution_count": 145,
   "metadata": {},
   "outputs": [],
   "source": [
    "num = 100\n",
    "start = -500\n",
    "end = 500\n",
    "x = Rand(start, end, num)"
   ]
  },
  {
   "cell_type": "code",
   "execution_count": 146,
   "metadata": {},
   "outputs": [],
   "source": [
    "def state(a,b):\n",
    "    temp = (1-a**2)**0.5\n",
    "    return([a,temp*cos(b)+temp*sin(b)*1j])\n",
    "    "
   ]
  },
  {
   "cell_type": "code",
   "execution_count": 147,
   "metadata": {},
   "outputs": [],
   "source": [
    "y = y_point_1(x)\n",
    "t = theta_point_1(x)"
   ]
  },
  {
   "cell_type": "code",
   "execution_count": 183,
   "metadata": {},
   "outputs": [],
   "source": [
    "data_list_1 = [0]*6\n",
    "error_list_1 = []\n",
    "exact_1 = []\n",
    "predicted_1 = []\n",
    "for i in range(len(x)):\n",
    "    M = mat(x[i])\n",
    "    results = la.eig(M)\n",
    "    eigenval = min(results[0].real)\n",
    "    \n",
    "    \n",
    "    \n",
    "    qc= QuantumCircuit(1)\n",
    "    qc.initialize(state(y[i],t[i]),[0])\n",
    "    coeffs, obs_list = qml.utils.decompose_hamiltonian(M)\n",
    "    H = qml.Hamiltonian(coeffs, obs_list)\n",
    "    \n",
    "    eigenval_predict = eigen_value_check(qc,H)\n",
    "    \n",
    "    \n",
    "    error = (eigenval - eigenval_predict)/(eigenval)\n",
    "    \n",
    "    if error <0.05:\n",
    "        data_list_1[0]+=1\n",
    "    if 0.1>error :\n",
    "        data_list_1[1]+=1\n",
    "    if 0.15>error:\n",
    "        data_list_1[2]+=1\n",
    "    if 0.2>error :\n",
    "        data_list_1[3]+=1\n",
    "    if 0.25>error:\n",
    "        data_list_1[4]+=1\n",
    "    error_list_1.append(error)\n",
    "    data_list_1[5]+=1\n",
    "    \n",
    "    exact_1.append(eigenval)\n",
    "    predicted_1.append(eigenval_predict)\n",
    "    "
   ]
  },
  {
   "cell_type": "code",
   "execution_count": 187,
   "metadata": {},
   "outputs": [
    {
     "name": "stdout",
     "output_type": "stream",
     "text": [
      "Total Test Points 100\n",
      "Prediction With error less then 5% :-  48\n",
      "Prediction With error less then 10% :-  48\n",
      "Prediction With error less then 15% :-  49\n",
      "Prediction With error less then 20% :-  49\n",
      "Prediction With error less then 25% :-  49\n"
     ]
    }
   ],
   "source": [
    "print(\"Total Test Points\", data_list_1[5])\n",
    "print(\"Prediction With error less then 5% :- \", data_list_1[0])\n",
    "print(\"Prediction With error less then 10% :- \", data_list_1[1])\n",
    "print(\"Prediction With error less then 15% :- \", data_list_1[2])\n",
    "print(\"Prediction With error less then 20% :- \", data_list_1[3])\n",
    "print(\"Prediction With error less then 25% :- \", data_list_1[4])"
   ]
  },
  {
   "cell_type": "code",
   "execution_count": 199,
   "metadata": {},
   "outputs": [
    {
     "name": "stdout",
     "output_type": "stream",
     "text": [
      "0 .          exact       --         predicted\n",
      "1 .  -324.7930739183425   --   186.93220000000002\n",
      "2 .  -127.53640519351822   --   61.1888\n",
      "3 .  -64.01612483854166   --   -59.10564000000001\n",
      "4 .  -1176.0279286239718   --   -1174.8332\n",
      "5 .  -1072.2312473986829   --   -1069.16794\n",
      "6 .  -845.5359854194942   --   -845.2963199999999\n",
      "7 .  -1225.1960533092158   --   -1224.1403\n",
      "8 .  -272.8621104538813   --   153.75285999999997\n",
      "9 .  -169.09268456400508   --   89.80212000000002\n",
      "10 .  -211.45372164108812   --   113.6063\n",
      "11 .  -50.28089345364566   --   -42.62512\n",
      "12 .  -221.68492799337903   --   122.24818000000002\n",
      "13 .  -1230.6592222825407   --   -1230.0961200000002\n",
      "14 .  -395.10876186371786   --   -394.79438000000005\n",
      "15 .  -97.75652599039209   --   43.69171999999999\n",
      "16 .  -334.3031513381969   --   193.276\n",
      "17 .  -68.97457353175726   --   25.024700000000003\n",
      "18 .  -42.201532544552755   --   7.1480999999999995\n",
      "19 .  -687.1485588800226   --   -686.95432\n",
      "20 .  -212.91520957672185   --   115.89774000000003\n",
      "21 .  -329.91383485452366   --   186.74957999999998\n",
      "22 .  -837.3428539991667   --   -835.35544\n",
      "23 .  -383.3220719986256   --   219.42709999999994\n",
      "24 .  -348.2031786656601   --   200.1572\n",
      "25 .  -118.8058276309939   --   56.82494000000001\n",
      "26 .  -676.2265571604951   --   -676.08732\n",
      "27 .  -143.56217619986495   --   71.4961\n",
      "28 .  -73.9052841744919   --   -69.94666000000001\n",
      "29 .  -91.88527957525153   --   -89.1013\n",
      "30 .  -1290.7546095313   --   -1287.17868\n",
      "31 .  -487.8674201721294   --   -487.43489999999997\n",
      "32 .  -269.93697145159837   --   154.04729999999995\n",
      "33 .  -102.10403344427024   --   46.71129999999998\n",
      "34 .  -145.02006621629926   --   73.87167999999998\n",
      "35 .  -271.39953208537855   --   153.74853999999993\n",
      "36 .  -1061.3055269691915   --   -1059.1652\n",
      "37 .  -371.6153421281829   --   213.96963999999997\n",
      "38 .  -73.97307413460682   --   28.902699999999996\n",
      "39 .  -1293.4862398334308   --   -1291.044\n",
      "40 .  -153.77023000898626   --   79.48278000000003\n",
      "41 .  -345.27679391017546   --   197.18234000000007\n",
      "42 .  -369.42037547256757   --   217.07045999999997\n",
      "43 .  -577.9394314527478   --   -576.3816800000001\n",
      "44 .  -163.25429142671095   --   83.71308\n",
      "45 .  -220.8293444833124   --   -220.07555999999997\n",
      "46 .  -234.41178988718536   --   -233.65376\n",
      "47 .  -293.3399111234063   --   164.72294\n",
      "48 .  -523.3466871999772   --   -521.7584\n",
      "49 .  -493.32540550043234   --   -492.13196\n",
      "50 .  -386.9805043692204   --   226.01530000000002\n",
      "51 .  -149.3945700880996   --   75.3063\n",
      "52 .  -397.2243022815215   --   227.89020000000005\n",
      "53 .  -1003.946397701435   --   -1003.80018\n",
      "54 .  -257.50596813826814   --   141.22663999999997\n",
      "55 .  -79.71151658791999   --   31.516519999999986\n",
      "56 .  -313.33125740249545   --   -312.76456\n",
      "57 .  -220.9540687790427   --   120.41881999999998\n",
      "58 .  -870.1157283397704   --   -866.8987\n",
      "59 .  -52.433583445741235   --   -45.538599999999995\n",
      "60 .  -588.8590885966526   --   -587.93504\n",
      "61 .  -591.5890537406209   --   -591.20458\n",
      "62 .  -984.8270555385093   --   -983.5957599999999\n",
      "63 .  -602.5091091997604   --   -603.1820600000001\n",
      "64 .  -269.2056978822776   --   148.55037999999996\n",
      "65 .  -317.4779148496439   --   181.41529999999997\n",
      "66 .  -308.70008009319474   --   177.41809999999998\n",
      "67 .  -34.545048698602535   --   -7.736500000000001\n",
      "68 .  -1312.6077016455547   --   -1310.1188000000002\n",
      "69 .  -267.04429758773335   --   -266.19116\n",
      "70 .  -187.34571488874147   --   98.98648\n",
      "71 .  -594.3190386497806   --   -592.3947599999999\n",
      "72 .  -259.69957070248444   --   145.98040000000003\n",
      "73 .  -240.69002273202787   --   130.10270000000003\n",
      "74 .  -1167.8333142770025   --   -1164.83372\n",
      "75 .  -1173.2963880834047   --   -1174.41572\n",
      "76 .  -747.2228899567824   --   -747.1916\n",
      "77 .  -155.95845888359332   --   79.54690000000002\n",
      "78 .  -248.73204421990815   --   139.00896\n",
      "79 .  -361.37229432610036   --   206.5432\n",
      "80 .  -142.38513714795747   --   -140.95514\n",
      "81 .  -75.40539719216763   --   29.038399999999996\n",
      "82 .  -1028.5286878821275   --   -1025.5396\n",
      "83 .  -102.37830449729012   --   -99.84034\n",
      "84 .  -351.1295954288595   --   200.78238000000005\n",
      "85 .  -1192.417221724484   --   -1188.98\n",
      "86 .  -291.87711352311726   --   166.25510000000006\n",
      "87 .  -881.0402178999268   --   -877.65616\n",
      "88 .  -668.0351926716942   --   -667.0817000000001\n",
      "89 .  -43.47071299343465   --   8.21416\n",
      "90 .  -834.6118236671182   --   -834.6704000000001\n",
      "91 .  -207.25805586321457   --   -205.95622\n",
      "92 .  -359.6610255675903   --   -358.7442\n",
      "93 .  -1099.5457679834367   --   -1097.6177400000001\n",
      "94 .  -367.95707264645847   --   212.44943999999998\n",
      "95 .  -315.28341857116345   --   180.72346\n",
      "96 .  -842.8049349422784   --   -841.4408000000001\n",
      "97 .  -264.81815345783457   --   148.95494\n",
      "98 .  -65.42120452636225   --   22.485940000000006\n",
      "99 .  -47.398776746969816   --   11.267920000000004\n",
      "100 .  -1186.9541146386862   --   -1188.55668\n"
     ]
    }
   ],
   "source": [
    "print(0,\". \",\"        exact\",\"      --      \",\"  predicted\")\n",
    "for i in range(len(x)):\n",
    "    print(i+1,\". \",exact[i],\"  --  \",predicted[i])"
   ]
  },
  {
   "cell_type": "markdown",
   "metadata": {},
   "source": [
    "# 1. 0I+5X+30Y+20Z"
   ]
  },
  {
   "cell_type": "code",
   "execution_count": 171,
   "metadata": {},
   "outputs": [],
   "source": [
    "def mat_2(n):\n",
    "    M_temp = n*I+(5+n)*X+(n+30)*Y+(n+20)*Z\n",
    "    return(M_temp)"
   ]
  },
  {
   "cell_type": "code",
   "execution_count": 166,
   "metadata": {},
   "outputs": [],
   "source": [
    "def y_point_2(x):\n",
    "    y_temp = []\n",
    "    a1 =     0.00185  \n",
    "    b1 =   -0.004296  \n",
    "    c1 =  -0.0003929  \n",
    "    d1 =      0.1289 \n",
    "    e =      0.8807 \n",
    "    for i in x:\n",
    "        temp = a1/(b1+c1*exp(-d1*i))+e\n",
    "        y_temp.append(temp)\n",
    "    return(y_temp)"
   ]
  },
  {
   "cell_type": "code",
   "execution_count": 169,
   "metadata": {},
   "outputs": [],
   "source": [
    "def theta_point_2(x):\n",
    "    z_temp = []\n",
    "    a =      27.72 \n",
    "    a2 =       -26.19\n",
    "    b =    0.1275\n",
    "    b2 =    0.1151\n",
    "    c =       0.09268\n",
    "    c2 =       0.09086\n",
    "    e =      0.6415\n",
    "    for i in x:\n",
    "        temp = a/(1+b*exp(-c*i))+a2/(1+b2*exp(-c2*i))+d\n",
    "        z_temp.append(temp)\n",
    "    return(z_temp)"
   ]
  },
  {
   "cell_type": "code",
   "execution_count": 170,
   "metadata": {},
   "outputs": [],
   "source": [
    "y2 = y_point_2(x)\n",
    "t2 = theta_point_2(x)"
   ]
  },
  {
   "cell_type": "code",
   "execution_count": 184,
   "metadata": {},
   "outputs": [],
   "source": [
    "data_list_2 = [0]*6\n",
    "error_list_2 = []\n",
    "exact_2 = []\n",
    "predicted_2 = []\n",
    "for i in range(len(x)):\n",
    "    M = mat_2(x[i])\n",
    "    results = la.eig(M)\n",
    "    eigenval = min(results[0].real)\n",
    "    \n",
    "    \n",
    "    \n",
    "    qc= QuantumCircuit(1)\n",
    "    qc.initialize(state(y[i],t[i]),[0])\n",
    "    coeffs, obs_list = qml.utils.decompose_hamiltonian(M)\n",
    "    H = qml.Hamiltonian(coeffs, obs_list)\n",
    "    \n",
    "    eigenval_predict = eigen_value_check(qc,H)\n",
    "    \n",
    "    \n",
    "    error = (eigenval - eigenval_predict)/(eigenval)\n",
    "    \n",
    "    if error <0.05:\n",
    "        data_list_2[0]+=1\n",
    "    if 0.1>error :\n",
    "        data_list_2[1]+=1\n",
    "    if 0.15>error:\n",
    "        data_list_2[2]+=1\n",
    "    if 0.2>error :\n",
    "        data_list_2[3]+=1\n",
    "    if 0.25>error:\n",
    "        data_list_2[4]+=1\n",
    "    error_list.append(error)\n",
    "    data_list_2[5]+=1\n",
    "    \n",
    "    exact_2.append(eigenval)\n",
    "    predicted_2.append(eigenval_predict)\n",
    "    "
   ]
  },
  {
   "cell_type": "code",
   "execution_count": 186,
   "metadata": {},
   "outputs": [
    {
     "name": "stdout",
     "output_type": "stream",
     "text": [
      "Total Test Points 100\n",
      "Prediction With error less then 5% :-  44\n",
      "Prediction With error less then 10% :-  46\n",
      "Prediction With error less then 15% :-  48\n",
      "Prediction With error less then 20% :-  48\n",
      "Prediction With error less then 25% :-  48\n"
     ]
    }
   ],
   "source": [
    "print(\"Total Test Points\", data_list_1[5])\n",
    "print(\"Prediction With error less then 5% :- \", data_list_2[0])\n",
    "print(\"Prediction With error less then 10% :- \", data_list_2[1])\n",
    "print(\"Prediction With error less then 15% :- \", data_list_2[2])\n",
    "print(\"Prediction With error less then 20% :- \", data_list_2[3])\n",
    "print(\"Prediction With error less then 25% :- \", data_list_2[4])"
   ]
  },
  {
   "cell_type": "code",
   "execution_count": 201,
   "metadata": {},
   "outputs": [
    {
     "name": "stdout",
     "output_type": "stream",
     "text": [
      "0 .        exact       --         predicted\n",
      "1 .  -324.7930739183425   --   186.93220000000002\n",
      "2 .  -127.53640519351822   --   61.1888\n",
      "3 .  -64.01612483854166   --   -59.10564000000001\n",
      "4 .  -1176.0279286239718   --   -1174.8332\n",
      "5 .  -1072.2312473986829   --   -1069.16794\n",
      "6 .  -845.5359854194942   --   -845.2963199999999\n",
      "7 .  -1225.1960533092158   --   -1224.1403\n",
      "8 .  -272.8621104538813   --   153.75285999999997\n",
      "9 .  -169.09268456400508   --   89.80212000000002\n",
      "10 .  -211.45372164108812   --   113.6063\n",
      "11 .  -50.28089345364566   --   -42.62512\n",
      "12 .  -221.68492799337903   --   122.24818000000002\n",
      "13 .  -1230.6592222825407   --   -1230.0961200000002\n",
      "14 .  -395.10876186371786   --   -394.79438000000005\n",
      "15 .  -97.75652599039209   --   43.69171999999999\n",
      "16 .  -334.3031513381969   --   193.276\n",
      "17 .  -68.97457353175726   --   25.024700000000003\n",
      "18 .  -42.201532544552755   --   7.1480999999999995\n",
      "19 .  -687.1485588800226   --   -686.95432\n",
      "20 .  -212.91520957672185   --   115.89774000000003\n",
      "21 .  -329.91383485452366   --   186.74957999999998\n",
      "22 .  -837.3428539991667   --   -835.35544\n",
      "23 .  -383.3220719986256   --   219.42709999999994\n",
      "24 .  -348.2031786656601   --   200.1572\n",
      "25 .  -118.8058276309939   --   56.82494000000001\n",
      "26 .  -676.2265571604951   --   -676.08732\n",
      "27 .  -143.56217619986495   --   71.4961\n",
      "28 .  -73.9052841744919   --   -69.94666000000001\n",
      "29 .  -91.88527957525153   --   -89.1013\n",
      "30 .  -1290.7546095313   --   -1287.17868\n",
      "31 .  -487.8674201721294   --   -487.43489999999997\n",
      "32 .  -269.93697145159837   --   154.04729999999995\n",
      "33 .  -102.10403344427024   --   46.71129999999998\n",
      "34 .  -145.02006621629926   --   73.87167999999998\n",
      "35 .  -271.39953208537855   --   153.74853999999993\n",
      "36 .  -1061.3055269691915   --   -1059.1652\n",
      "37 .  -371.6153421281829   --   213.96963999999997\n",
      "38 .  -73.97307413460682   --   28.902699999999996\n",
      "39 .  -1293.4862398334308   --   -1291.044\n",
      "40 .  -153.77023000898626   --   79.48278000000003\n",
      "41 .  -345.27679391017546   --   197.18234000000007\n",
      "42 .  -369.42037547256757   --   217.07045999999997\n",
      "43 .  -577.9394314527478   --   -576.3816800000001\n",
      "44 .  -163.25429142671095   --   83.71308\n",
      "45 .  -220.8293444833124   --   -220.07555999999997\n",
      "46 .  -234.41178988718536   --   -233.65376\n",
      "47 .  -293.3399111234063   --   164.72294\n",
      "48 .  -523.3466871999772   --   -521.7584\n",
      "49 .  -493.32540550043234   --   -492.13196\n",
      "50 .  -386.9805043692204   --   226.01530000000002\n",
      "51 .  -149.3945700880996   --   75.3063\n",
      "52 .  -397.2243022815215   --   227.89020000000005\n",
      "53 .  -1003.946397701435   --   -1003.80018\n",
      "54 .  -257.50596813826814   --   141.22663999999997\n",
      "55 .  -79.71151658791999   --   31.516519999999986\n",
      "56 .  -313.33125740249545   --   -312.76456\n",
      "57 .  -220.9540687790427   --   120.41881999999998\n",
      "58 .  -870.1157283397704   --   -866.8987\n",
      "59 .  -52.433583445741235   --   -45.538599999999995\n",
      "60 .  -588.8590885966526   --   -587.93504\n",
      "61 .  -591.5890537406209   --   -591.20458\n",
      "62 .  -984.8270555385093   --   -983.5957599999999\n",
      "63 .  -602.5091091997604   --   -603.1820600000001\n",
      "64 .  -269.2056978822776   --   148.55037999999996\n",
      "65 .  -317.4779148496439   --   181.41529999999997\n",
      "66 .  -308.70008009319474   --   177.41809999999998\n",
      "67 .  -34.545048698602535   --   -7.736500000000001\n",
      "68 .  -1312.6077016455547   --   -1310.1188000000002\n",
      "69 .  -267.04429758773335   --   -266.19116\n",
      "70 .  -187.34571488874147   --   98.98648\n",
      "71 .  -594.3190386497806   --   -592.3947599999999\n",
      "72 .  -259.69957070248444   --   145.98040000000003\n",
      "73 .  -240.69002273202787   --   130.10270000000003\n",
      "74 .  -1167.8333142770025   --   -1164.83372\n",
      "75 .  -1173.2963880834047   --   -1174.41572\n",
      "76 .  -747.2228899567824   --   -747.1916\n",
      "77 .  -155.95845888359332   --   79.54690000000002\n",
      "78 .  -248.73204421990815   --   139.00896\n",
      "79 .  -361.37229432610036   --   206.5432\n",
      "80 .  -142.38513714795747   --   -140.95514\n",
      "81 .  -75.40539719216763   --   29.038399999999996\n",
      "82 .  -1028.5286878821275   --   -1025.5396\n",
      "83 .  -102.37830449729012   --   -99.84034\n",
      "84 .  -351.1295954288595   --   200.78238000000005\n",
      "85 .  -1192.417221724484   --   -1188.98\n",
      "86 .  -291.87711352311726   --   166.25510000000006\n",
      "87 .  -881.0402178999268   --   -877.65616\n",
      "88 .  -668.0351926716942   --   -667.0817000000001\n",
      "89 .  -43.47071299343465   --   8.21416\n",
      "90 .  -834.6118236671182   --   -834.6704000000001\n",
      "91 .  -207.25805586321457   --   -205.95622\n",
      "92 .  -359.6610255675903   --   -358.7442\n",
      "93 .  -1099.5457679834367   --   -1097.6177400000001\n",
      "94 .  -367.95707264645847   --   212.44943999999998\n",
      "95 .  -315.28341857116345   --   180.72346\n",
      "96 .  -842.8049349422784   --   -841.4408000000001\n",
      "97 .  -264.81815345783457   --   148.95494\n",
      "98 .  -65.42120452636225   --   22.485940000000006\n",
      "99 .  -47.398776746969816   --   11.267920000000004\n",
      "100 .  -1186.9541146386862   --   -1188.55668\n"
     ]
    }
   ],
   "source": [
    "print(0,\". \",\"      exact\",\"      --      \",\"  predicted\")\n",
    "for i in range(len(x)):\n",
    "    print(i+1,\". \",exact[i],\"  --  \",predicted[i])"
   ]
  },
  {
   "cell_type": "code",
   "execution_count": null,
   "metadata": {},
   "outputs": [],
   "source": []
  }
 ],
 "metadata": {
  "kernelspec": {
   "display_name": "Python 3",
   "language": "python",
   "name": "python3"
  },
  "language_info": {
   "codemirror_mode": {
    "name": "ipython",
    "version": 3
   },
   "file_extension": ".py",
   "mimetype": "text/x-python",
   "name": "python",
   "nbconvert_exporter": "python",
   "pygments_lexer": "ipython3",
   "version": "3.7.1"
  }
 },
 "nbformat": 4,
 "nbformat_minor": 4
}
