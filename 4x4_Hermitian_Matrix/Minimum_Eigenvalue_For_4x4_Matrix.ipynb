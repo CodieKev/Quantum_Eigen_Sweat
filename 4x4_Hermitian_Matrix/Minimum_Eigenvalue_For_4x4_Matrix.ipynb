{
 "cells": [
  {
   "cell_type": "markdown",
   "metadata": {},
   "source": [
    "# Minimum EigenValue For 4x4 Matrix"
   ]
  },
  {
   "cell_type": "code",
   "execution_count": 141,
   "metadata": {},
   "outputs": [],
   "source": [
    "from qiskit import QuantumRegister, ClassicalRegister\n",
    "from qiskit import QuantumCircuit, execute, Aer\n",
    "import pennylane as qml\n",
    "import numpy as np\n",
    "from numpy import pi\n",
    "simulator = Aer.get_backend('qasm_simulator')\n",
    "from scipy.linalg import expm, sinm, cosm\n",
    "\n"
   ]
  },
  {
   "cell_type": "markdown",
   "metadata": {},
   "source": [
    "# Matrix and Decomposition"
   ]
  },
  {
   "cell_type": "code",
   "execution_count": 1336,
   "metadata": {},
   "outputs": [],
   "source": [
    "M= np.array(\n",
    "[[3+4.7,  3.,  6.,  2.],\n",
    "       [ 3.,  1+4.7,  -4.,  3.],\n",
    "       [ 6.,  -4.,  5+4.7,  -2.],\n",
    "       [ 2.,3.,  -2.,  8+4.7]])"
   ]
  },
  {
   "cell_type": "code",
   "execution_count": 1337,
   "metadata": {},
   "outputs": [
    {
     "data": {
      "text/plain": [
       "array([[ 7.7,  3. ,  6. ,  2. ],\n",
       "       [ 3. ,  5.7, -4. ,  3. ],\n",
       "       [ 6. , -4. ,  9.7, -2. ],\n",
       "       [ 2. ,  3. , -2. , 12.7]])"
      ]
     },
     "execution_count": 1337,
     "metadata": {},
     "output_type": "execute_result"
    }
   ],
   "source": [
    "M"
   ]
  },
  {
   "cell_type": "code",
   "execution_count": 1338,
   "metadata": {},
   "outputs": [],
   "source": [
    "#M= np.matrix('1 0 0 0 ;0 0 -1 0;0 -1 0 0;0 0 0 1')"
   ]
  },
  {
   "cell_type": "code",
   "execution_count": 1339,
   "metadata": {},
   "outputs": [],
   "source": [
    "coeffs, obs_list = qml.utils.decompose_hamiltonian(M)\n",
    "H = qml.Hamiltonian(coeffs, obs_list)"
   ]
  },
  {
   "cell_type": "code",
   "execution_count": 1340,
   "metadata": {
    "scrolled": true
   },
   "outputs": [
    {
     "name": "stdout",
     "output_type": "stream",
     "text": [
      "(8.95) [I0 I1]\n",
      "+ (0.5) [I0 X1]\n",
      "+ (-0.25) [I0 Z1]\n",
      "+ (4.5) [X0 I1]\n",
      "+ (-1.0) [X0 X1]\n",
      "+ (1.5) [X0 Z1]\n",
      "+ (-3.0) [Y0 Y1]\n",
      "+ (-2.2499999999999996) [Z0 I1]\n",
      "+ (2.5) [Z0 X1]\n",
      "+ (1.25) [Z0 Z1]\n"
     ]
    }
   ],
   "source": [
    "print(H)"
   ]
  },
  {
   "cell_type": "code",
   "execution_count": 1341,
   "metadata": {},
   "outputs": [
    {
     "data": {
      "text/plain": [
       "[8.95,\n",
       " 1.25,\n",
       " -1.0,\n",
       " -3.0,\n",
       " 0.5,\n",
       " 4.5,\n",
       " 0,\n",
       " 0,\n",
       " -0.25,\n",
       " -2.2499999999999996,\n",
       " 0,\n",
       " 0,\n",
       " 1.5,\n",
       " 2.5,\n",
       " 0,\n",
       " 0]"
      ]
     },
     "execution_count": 1341,
     "metadata": {},
     "output_type": "execute_result"
    }
   ],
   "source": [
    "coef(H)"
   ]
  },
  {
   "cell_type": "code",
   "execution_count": 1342,
   "metadata": {},
   "outputs": [],
   "source": [
    "def coef(H):\n",
    "    coeff = [0]*16\n",
    "    h = str(H)\n",
    "    for i in range (len(h)):\n",
    "        p = \"\"\n",
    "        if h[i] ==\"(\":\n",
    "            j = i+1 \n",
    "            while h[j]!=\")\" :\n",
    "                p=p+h[j]\n",
    "                j+=1\n",
    "            \n",
    "            if h[j+3] == \"I\" and h[j+6] == \"I\":\n",
    "                coeff[0] = float(p)\n",
    "                \n",
    "            if h[j+3] == \"Z\" and h[j+6] == \"Z\":\n",
    "                coeff[1] = float(p)\n",
    "                \n",
    "            if h[j+3] == \"X\" and h[j+6] == \"X\":\n",
    "                coeff[2] = float(p)\n",
    "                \n",
    "            if h[j+3] == \"Y\" and h[j+6] == \"Y\":\n",
    "                coeff[3] = float(p)\n",
    "            \n",
    "            if h[j+3] == \"I\" and h[j+6] == \"X\":\n",
    "                coeff[4] = float(p)\n",
    "                \n",
    "            if h[j+3] == \"X\" and h[j+6] == \"I\":\n",
    "                coeff[5] = float(p)\n",
    "                \n",
    "            if h[j+3] == \"I\" and h[j+6] == \"Y\":\n",
    "                coeff[6] = float(p)\n",
    "                \n",
    "            if h[j+3] == \"Y\" and h[j+6] == \"I\":\n",
    "                coeff[7] = float(p)\n",
    "                \n",
    "            if h[j+3] == \"I\" and h[j+6] == \"Z\":\n",
    "                coeff[8] = float(p)\n",
    "                \n",
    "            if h[j+3] == \"Z\" and h[j+6] == \"I\":\n",
    "                coeff[9] = float(p)\n",
    "                \n",
    "            if h[j+3] == \"X\" and h[j+6] == \"Y\":\n",
    "                coeff[10] = float(p)\n",
    "                \n",
    "            if h[j+3] == \"X\" and h[j+6] == \"Y\":\n",
    "                coeff[11] = float(p)\n",
    "                \n",
    "            if h[j+3] == \"X\" and h[j+6] == \"Z\":\n",
    "                coeff[12] = float(p)\n",
    "                \n",
    "            if h[j+3] == \"Z\" and h[j+6] == \"X\":\n",
    "                coeff[13] = float(p)\n",
    "                \n",
    "            if h[j+3] == \"Y\" and h[j+6] == \"Z\":\n",
    "                coeff[14] = float(p)\n",
    "                \n",
    "            if h[j+3] == \"Z\" and h[j+6] == \"Y\":\n",
    "                coeff[15] = float(p)\n",
    "                \n",
    "    return(coeff)\n",
    "            \n",
    "            "
   ]
  },
  {
   "cell_type": "markdown",
   "metadata": {},
   "source": [
    "# Ansatz"
   ]
  },
  {
   "cell_type": "code",
   "execution_count": 1343,
   "metadata": {},
   "outputs": [],
   "source": [
    "def Operational_circuit(params):\n",
    "    qc = QuantumCircuit(2)\n",
    "    \n",
    "    #qc.h(range(2))\n",
    "    qc.rx(params[0],0)\n",
    "    qc.rx(params[1],1)\n",
    "    qc.ry(params[2],0)\n",
    "    qc.ry(params[3],1)\n",
    "    qc.crx(params[8],0,1)\n",
    "    qc.ry(params[4],0)\n",
    "    qc.ry(params[5],1)\n",
    "    qc.rx(params[6],0)\n",
    "    qc.rx(params[7],1)\n",
    "    \n",
    "    return qc\n",
    "    "
   ]
  },
  {
   "cell_type": "code",
   "execution_count": 1344,
   "metadata": {},
   "outputs": [],
   "source": [
    "Operational_circuit_try = Operational_circuit([1,2,3,4,5,6,7,8,9])"
   ]
  },
  {
   "cell_type": "code",
   "execution_count": 1345,
   "metadata": {},
   "outputs": [
    {
     "data": {
      "text/html": [
       "<pre style=\"word-wrap: normal;white-space: pre;background: #fff0;line-height: 1.1;font-family: &quot;Courier New&quot;,Courier,monospace\">     ┌───────┐┌───────┐         ┌───────┐┌───────┐\n",
       "q_0: ┤ RX(1) ├┤ RY(3) ├────■────┤ RY(5) ├┤ RX(7) ├\n",
       "     ├───────┤├───────┤┌───┴───┐├───────┤├───────┤\n",
       "q_1: ┤ RX(2) ├┤ RY(4) ├┤ RX(9) ├┤ RY(6) ├┤ RX(8) ├\n",
       "     └───────┘└───────┘└───────┘└───────┘└───────┘</pre>"
      ],
      "text/plain": [
       "     ┌───────┐┌───────┐         ┌───────┐┌───────┐\n",
       "q_0: ┤ RX(1) ├┤ RY(3) ├────■────┤ RY(5) ├┤ RX(7) ├\n",
       "     ├───────┤├───────┤┌───┴───┐├───────┤├───────┤\n",
       "q_1: ┤ RX(2) ├┤ RY(4) ├┤ RX(9) ├┤ RY(6) ├┤ RX(8) ├\n",
       "     └───────┘└───────┘└───────┘└───────┘└───────┘"
      ]
     },
     "execution_count": 1345,
     "metadata": {},
     "output_type": "execute_result"
    }
   ],
   "source": [
    "Operational_circuit_try.draw()"
   ]
  },
  {
   "cell_type": "markdown",
   "metadata": {},
   "source": [
    "# Measurments for different components of H"
   ]
  },
  {
   "cell_type": "markdown",
   "metadata": {},
   "source": [
    "# 1. ZZ"
   ]
  },
  {
   "cell_type": "code",
   "execution_count": 1346,
   "metadata": {},
   "outputs": [
    {
     "data": {
      "text/html": [
       "<pre style=\"word-wrap: normal;white-space: pre;background: #fff0;line-height: 1.1;font-family: &quot;Courier New&quot;,Courier,monospace\">        ┌───────┐┌───────┐         ┌───────┐┌───────┐ ░ ┌─┐   \n",
       "   q_0: ┤ RX(1) ├┤ RY(3) ├────■────┤ RY(5) ├┤ RX(7) ├─░─┤M├───\n",
       "        ├───────┤├───────┤┌───┴───┐├───────┤├───────┤ ░ └╥┘┌─┐\n",
       "   q_1: ┤ RX(2) ├┤ RY(4) ├┤ RX(9) ├┤ RY(6) ├┤ RX(8) ├─░──╫─┤M├\n",
       "        └───────┘└───────┘└───────┘└───────┘└───────┘ ░  ║ └╥┘\n",
       "meas_0: ═════════════════════════════════════════════════╩══╬═\n",
       "                                                            ║ \n",
       "meas_1: ════════════════════════════════════════════════════╩═\n",
       "                                                              </pre>"
      ],
      "text/plain": [
       "        ┌───────┐┌───────┐         ┌───────┐┌───────┐ ░ ┌─┐   \n",
       "   q_0: ┤ RX(1) ├┤ RY(3) ├────■────┤ RY(5) ├┤ RX(7) ├─░─┤M├───\n",
       "        ├───────┤├───────┤┌───┴───┐├───────┤├───────┤ ░ └╥┘┌─┐\n",
       "   q_1: ┤ RX(2) ├┤ RY(4) ├┤ RX(9) ├┤ RY(6) ├┤ RX(8) ├─░──╫─┤M├\n",
       "        └───────┘└───────┘└───────┘└───────┘└───────┘ ░  ║ └╥┘\n",
       "meas_0: ═════════════════════════════════════════════════╩══╬═\n",
       "                                                            ║ \n",
       "meas_1: ════════════════════════════════════════════════════╩═\n",
       "                                                              "
      ]
     },
     "execution_count": 1346,
     "metadata": {},
     "output_type": "execute_result"
    }
   ],
   "source": [
    "def measure_zz_circuit(given_circuit):\n",
    "    zz_meas = given_circuit.copy()\n",
    "    zz_meas.measure_all()\n",
    "    return zz_meas\n",
    "\n",
    "zz_meas = measure_zz_circuit(Operational_circuit_try)\n",
    "zz_meas.draw()"
   ]
  },
  {
   "cell_type": "code",
   "execution_count": 1347,
   "metadata": {},
   "outputs": [],
   "source": [
    "def measure_zz(given_circuit, num_shots = 10000):\n",
    "\n",
    "    zz_meas = measure_zz_circuit(given_circuit)\n",
    "    \n",
    "    result = execute(zz_meas, backend = simulator, shots = num_shots).result()\n",
    "    counts = result.get_counts(zz_meas)\n",
    "\n",
    "    if '00' not in counts:\n",
    "        counts['00'] = 0\n",
    "    if '01' not in counts:\n",
    "        counts['01'] = 0\n",
    "    if '10' not in counts:\n",
    "        counts['10'] = 0\n",
    "    if '11' not in counts:\n",
    "        counts['11'] = 0 \n",
    "\n",
    "    total_counts = counts['00'] + counts['11'] + counts['01'] + counts['10']\n",
    "    zz = counts['00'] + counts['11'] - counts['01'] - counts['10']\n",
    "    zz = zz / total_counts\n",
    "    \n",
    "    return zz"
   ]
  },
  {
   "cell_type": "code",
   "execution_count": 1348,
   "metadata": {},
   "outputs": [
    {
     "name": "stdout",
     "output_type": "stream",
     "text": [
      "<ZZ> = -0.365\n"
     ]
    }
   ],
   "source": [
    "zz = measure_zz(Operational_circuit_try)\n",
    "print(\"<ZZ> =\", str(zz))"
   ]
  },
  {
   "cell_type": "markdown",
   "metadata": {},
   "source": [
    "# 2. XX"
   ]
  },
  {
   "cell_type": "code",
   "execution_count": 1349,
   "metadata": {},
   "outputs": [],
   "source": [
    "def measure_xx_circuit(given_circuit):\n",
    "    xx_meas = given_circuit.copy()\n",
    "    xx_meas.h(0)\n",
    "    xx_meas.h(1)\n",
    "    xx_meas.measure_all()\n",
    "\n",
    "    return xx_meas"
   ]
  },
  {
   "cell_type": "code",
   "execution_count": 1350,
   "metadata": {},
   "outputs": [
    {
     "data": {
      "text/html": [
       "<pre style=\"word-wrap: normal;white-space: pre;background: #fff0;line-height: 1.1;font-family: &quot;Courier New&quot;,Courier,monospace\">        ┌───────┐┌───────┐         ┌───────┐┌───────┐┌───┐ ░ ┌─┐   \n",
       "   q_0: ┤ RX(1) ├┤ RY(3) ├────■────┤ RY(5) ├┤ RX(7) ├┤ H ├─░─┤M├───\n",
       "        ├───────┤├───────┤┌───┴───┐├───────┤├───────┤├───┤ ░ └╥┘┌─┐\n",
       "   q_1: ┤ RX(2) ├┤ RY(4) ├┤ RX(9) ├┤ RY(6) ├┤ RX(8) ├┤ H ├─░──╫─┤M├\n",
       "        └───────┘└───────┘└───────┘└───────┘└───────┘└───┘ ░  ║ └╥┘\n",
       "meas_0: ══════════════════════════════════════════════════════╩══╬═\n",
       "                                                                 ║ \n",
       "meas_1: ═════════════════════════════════════════════════════════╩═\n",
       "                                                                   </pre>"
      ],
      "text/plain": [
       "        ┌───────┐┌───────┐         ┌───────┐┌───────┐┌───┐ ░ ┌─┐   \n",
       "   q_0: ┤ RX(1) ├┤ RY(3) ├────■────┤ RY(5) ├┤ RX(7) ├┤ H ├─░─┤M├───\n",
       "        ├───────┤├───────┤┌───┴───┐├───────┤├───────┤├───┤ ░ └╥┘┌─┐\n",
       "   q_1: ┤ RX(2) ├┤ RY(4) ├┤ RX(9) ├┤ RY(6) ├┤ RX(8) ├┤ H ├─░──╫─┤M├\n",
       "        └───────┘└───────┘└───────┘└───────┘└───────┘└───┘ ░  ║ └╥┘\n",
       "meas_0: ══════════════════════════════════════════════════════╩══╬═\n",
       "                                                                 ║ \n",
       "meas_1: ═════════════════════════════════════════════════════════╩═\n",
       "                                                                   "
      ]
     },
     "execution_count": 1350,
     "metadata": {},
     "output_type": "execute_result"
    }
   ],
   "source": [
    "xx_meas = measure_xx_circuit(Operational_circuit_try)\n",
    "xx_meas.draw()"
   ]
  },
  {
   "cell_type": "code",
   "execution_count": 1351,
   "metadata": {},
   "outputs": [],
   "source": [
    "def measure_xx(given_circuit, num_shots = 10000):\n",
    "    \n",
    "    xx_meas = measure_xx_circuit(given_circuit)\n",
    "    \n",
    "    result = execute(xx_meas, backend = simulator, shots = num_shots).result()\n",
    "    counts = result.get_counts(xx_meas)\n",
    "\n",
    "    if '00' not in counts:\n",
    "        counts['00'] = 0\n",
    "    if '01' not in counts:\n",
    "        counts['01'] = 0\n",
    "    if '10' not in counts:\n",
    "        counts['10'] = 0\n",
    "    if '11' not in counts:\n",
    "        counts['11'] = 0\n",
    "\n",
    "    total_counts = counts['00'] + counts['11'] + counts['01'] + counts['10']\n",
    "    xx = counts['00'] + counts['11'] - counts['01'] - counts['10']\n",
    "    xx = xx / total_counts\n",
    "    \n",
    "    return xx"
   ]
  },
  {
   "cell_type": "code",
   "execution_count": 1352,
   "metadata": {},
   "outputs": [
    {
     "name": "stdout",
     "output_type": "stream",
     "text": [
      "<XX> = 0.5234\n"
     ]
    }
   ],
   "source": [
    "xx = measure_xx(Operational_circuit_try)\n",
    "print(\"<XX> =\", str(xx))"
   ]
  },
  {
   "cell_type": "markdown",
   "metadata": {},
   "source": [
    "# 3. YY"
   ]
  },
  {
   "cell_type": "code",
   "execution_count": 1353,
   "metadata": {},
   "outputs": [],
   "source": [
    "def measure_yy_circuit(given_circuit):\n",
    "    yy_meas = given_circuit.copy()\n",
    "    yy_meas.rz(-pi/2,0)\n",
    "    yy_meas.rz(-pi/2,1)\n",
    "\n",
    "    yy_meas.h(0)\n",
    "    yy_meas.h(1)\n",
    "    yy_meas.measure_all()\n",
    "\n",
    "    return yy_meas"
   ]
  },
  {
   "cell_type": "code",
   "execution_count": 1354,
   "metadata": {},
   "outputs": [
    {
     "data": {
      "text/html": [
       "<pre style=\"word-wrap: normal;white-space: pre;background: #fff0;line-height: 1.1;font-family: &quot;Courier New&quot;,Courier,monospace\">        ┌───────┐┌───────┐         ┌───────┐┌───────┐┌───────────┐┌───┐ ░ ┌─┐»\n",
       "   q_0: ┤ RX(1) ├┤ RY(3) ├────■────┤ RY(5) ├┤ RX(7) ├┤ RZ(-pi/2) ├┤ H ├─░─┤M├»\n",
       "        ├───────┤├───────┤┌───┴───┐├───────┤├───────┤├───────────┤├───┤ ░ └╥┘»\n",
       "   q_1: ┤ RX(2) ├┤ RY(4) ├┤ RX(9) ├┤ RY(6) ├┤ RX(8) ├┤ RZ(-pi/2) ├┤ H ├─░──╫─»\n",
       "        └───────┘└───────┘└───────┘└───────┘└───────┘└───────────┘└───┘ ░  ║ »\n",
       "meas_0: ═══════════════════════════════════════════════════════════════════╩═»\n",
       "                                                                             »\n",
       "meas_1: ═════════════════════════════════════════════════════════════════════»\n",
       "                                                                             »\n",
       "«           \n",
       "«   q_0: ───\n",
       "«        ┌─┐\n",
       "«   q_1: ┤M├\n",
       "«        └╥┘\n",
       "«meas_0: ═╬═\n",
       "«         ║ \n",
       "«meas_1: ═╩═\n",
       "«           </pre>"
      ],
      "text/plain": [
       "        ┌───────┐┌───────┐         ┌───────┐┌───────┐┌───────────┐┌───┐ ░ ┌─┐»\n",
       "   q_0: ┤ RX(1) ├┤ RY(3) ├────■────┤ RY(5) ├┤ RX(7) ├┤ RZ(-pi/2) ├┤ H ├─░─┤M├»\n",
       "        ├───────┤├───────┤┌───┴───┐├───────┤├───────┤├───────────┤├───┤ ░ └╥┘»\n",
       "   q_1: ┤ RX(2) ├┤ RY(4) ├┤ RX(9) ├┤ RY(6) ├┤ RX(8) ├┤ RZ(-pi/2) ├┤ H ├─░──╫─»\n",
       "        └───────┘└───────┘└───────┘└───────┘└───────┘└───────────┘└───┘ ░  ║ »\n",
       "meas_0: ═══════════════════════════════════════════════════════════════════╩═»\n",
       "                                                                             »\n",
       "meas_1: ═════════════════════════════════════════════════════════════════════»\n",
       "                                                                             »\n",
       "«           \n",
       "«   q_0: ───\n",
       "«        ┌─┐\n",
       "«   q_1: ┤M├\n",
       "«        └╥┘\n",
       "«meas_0: ═╬═\n",
       "«         ║ \n",
       "«meas_1: ═╩═\n",
       "«           "
      ]
     },
     "execution_count": 1354,
     "metadata": {},
     "output_type": "execute_result"
    }
   ],
   "source": [
    "yy_meas = measure_yy_circuit(Operational_circuit_try)\n",
    "yy_meas.draw()"
   ]
  },
  {
   "cell_type": "code",
   "execution_count": 1355,
   "metadata": {},
   "outputs": [],
   "source": [
    "def measure_yy(given_circuit, num_shots = 10000):\n",
    "    \n",
    "    yy_meas = measure_yy_circuit(given_circuit)\n",
    "    \n",
    "    result = execute(yy_meas, backend = simulator, shots = num_shots).result()\n",
    "    counts = result.get_counts(yy_meas)\n",
    "\n",
    "    if '00' not in counts:\n",
    "        counts['00'] = 0\n",
    "    if '01' not in counts:\n",
    "        counts['01'] = 0\n",
    "    if '10' not in counts:\n",
    "        counts['10'] = 0\n",
    "    if '11' not in counts:\n",
    "        counts['11'] = 0\n",
    "\n",
    "    total_counts = counts['00'] + counts['11'] + counts['01'] + counts['10']\n",
    "    yy = counts['00'] + counts['11'] - counts['01'] - counts['10']\n",
    "    yy = yy / total_counts\n",
    "    \n",
    "    return yy"
   ]
  },
  {
   "cell_type": "code",
   "execution_count": 1356,
   "metadata": {},
   "outputs": [
    {
     "name": "stdout",
     "output_type": "stream",
     "text": [
      "<yy> = 0.769\n"
     ]
    }
   ],
   "source": [
    "yy = measure_yy(Operational_circuit_try)\n",
    "print(\"<yy> =\", str(yy))"
   ]
  },
  {
   "cell_type": "markdown",
   "metadata": {},
   "source": [
    "# 4. IX"
   ]
  },
  {
   "cell_type": "code",
   "execution_count": 1357,
   "metadata": {},
   "outputs": [],
   "source": [
    "def measure_ix_circuit(given_circuit):\n",
    "    ix_meas = given_circuit.copy()\n",
    "    ix_meas.h(1)\n",
    "    ix_meas.measure_all()\n",
    "\n",
    "    return ix_meas\n",
    "def measure_ix(given_circuit, num_shots = 10000):\n",
    "    \n",
    "    ix_meas = measure_ix_circuit(given_circuit)\n",
    "    \n",
    "    result = execute(ix_meas, backend = simulator, shots = num_shots).result()\n",
    "    counts = result.get_counts(ix_meas)\n",
    "\n",
    "    if '00' not in counts:\n",
    "        counts['00'] = 0\n",
    "    if '01' not in counts:\n",
    "        counts['01'] = 0\n",
    "    if '10' not in counts:\n",
    "        counts['10'] = 0\n",
    "    if '11' not in counts:\n",
    "        counts['11'] = 0\n",
    "\n",
    "    total_counts = counts['00'] + counts['11'] + counts['01'] + counts['10']\n",
    "    ix = counts['00'] - counts['11'] + counts['01'] - counts['10']\n",
    "    ix = ix / total_counts\n",
    "    \n",
    "    return ix"
   ]
  },
  {
   "cell_type": "code",
   "execution_count": 1358,
   "metadata": {},
   "outputs": [
    {
     "data": {
      "text/html": [
       "<pre style=\"word-wrap: normal;white-space: pre;background: #fff0;line-height: 1.1;font-family: &quot;Courier New&quot;,Courier,monospace\">        ┌───────┐┌───────┐         ┌───────┐┌───────┐      ░ ┌─┐   \n",
       "   q_0: ┤ RX(1) ├┤ RY(3) ├────■────┤ RY(5) ├┤ RX(7) ├──────░─┤M├───\n",
       "        ├───────┤├───────┤┌───┴───┐├───────┤├───────┤┌───┐ ░ └╥┘┌─┐\n",
       "   q_1: ┤ RX(2) ├┤ RY(4) ├┤ RX(9) ├┤ RY(6) ├┤ RX(8) ├┤ H ├─░──╫─┤M├\n",
       "        └───────┘└───────┘└───────┘└───────┘└───────┘└───┘ ░  ║ └╥┘\n",
       "meas_0: ══════════════════════════════════════════════════════╩══╬═\n",
       "                                                                 ║ \n",
       "meas_1: ═════════════════════════════════════════════════════════╩═\n",
       "                                                                   </pre>"
      ],
      "text/plain": [
       "        ┌───────┐┌───────┐         ┌───────┐┌───────┐      ░ ┌─┐   \n",
       "   q_0: ┤ RX(1) ├┤ RY(3) ├────■────┤ RY(5) ├┤ RX(7) ├──────░─┤M├───\n",
       "        ├───────┤├───────┤┌───┴───┐├───────┤├───────┤┌───┐ ░ └╥┘┌─┐\n",
       "   q_1: ┤ RX(2) ├┤ RY(4) ├┤ RX(9) ├┤ RY(6) ├┤ RX(8) ├┤ H ├─░──╫─┤M├\n",
       "        └───────┘└───────┘└───────┘└───────┘└───────┘└───┘ ░  ║ └╥┘\n",
       "meas_0: ══════════════════════════════════════════════════════╩══╬═\n",
       "                                                                 ║ \n",
       "meas_1: ═════════════════════════════════════════════════════════╩═\n",
       "                                                                   "
      ]
     },
     "execution_count": 1358,
     "metadata": {},
     "output_type": "execute_result"
    }
   ],
   "source": [
    "ix_meas = measure_ix_circuit(Operational_circuit_try)\n",
    "ix_meas.draw()"
   ]
  },
  {
   "cell_type": "code",
   "execution_count": 1359,
   "metadata": {},
   "outputs": [
    {
     "name": "stdout",
     "output_type": "stream",
     "text": [
      "<IX> = 0.4182\n"
     ]
    }
   ],
   "source": [
    "ix = measure_ix(Operational_circuit_try)\n",
    "print(\"<IX> =\", str(ix))"
   ]
  },
  {
   "cell_type": "markdown",
   "metadata": {},
   "source": [
    "# 5. XI"
   ]
  },
  {
   "cell_type": "code",
   "execution_count": 1360,
   "metadata": {
    "scrolled": true
   },
   "outputs": [
    {
     "name": "stdout",
     "output_type": "stream",
     "text": [
      "<XI> = 0.5816\n"
     ]
    }
   ],
   "source": [
    "def measure_xi_circuit(given_circuit):\n",
    "    xi_meas = given_circuit.copy()\n",
    "    xi_meas.h(0)\n",
    "    xi_meas.measure_all()\n",
    "\n",
    "    return xi_meas\n",
    "def measure_xi(given_circuit, num_shots = 10000):\n",
    "    xi_meas = measure_xi_circuit(given_circuit)\n",
    "    \n",
    "    result = execute(xi_meas, backend = simulator, shots = num_shots).result()\n",
    "    counts = result.get_counts(xi_meas)\n",
    "\n",
    "    if '00' not in counts:\n",
    "        counts['00'] = 0\n",
    "    if '01' not in counts:\n",
    "        counts['01'] = 0\n",
    "    if '10' not in counts:\n",
    "        counts['10'] = 0\n",
    "    if '11' not in counts:\n",
    "        counts['11'] = 0\n",
    "\n",
    "    total_counts = counts['00'] + counts['11'] + counts['01'] + counts['10']\n",
    "    xi = counts['00'] - counts['11'] - counts['01'] + counts['10']\n",
    "    xi = xi / total_counts\n",
    "    \n",
    "    return xi\n",
    "xi = measure_xi(Operational_circuit_try)\n",
    "print(\"<XI> =\", str(xi))"
   ]
  },
  {
   "cell_type": "code",
   "execution_count": 1361,
   "metadata": {},
   "outputs": [
    {
     "data": {
      "text/html": [
       "<pre style=\"word-wrap: normal;white-space: pre;background: #fff0;line-height: 1.1;font-family: &quot;Courier New&quot;,Courier,monospace\">        ┌───────┐┌───────┐         ┌───────┐┌───────┐┌───┐ ░ ┌─┐   \n",
       "   q_0: ┤ RX(1) ├┤ RY(3) ├────■────┤ RY(5) ├┤ RX(7) ├┤ H ├─░─┤M├───\n",
       "        ├───────┤├───────┤┌───┴───┐├───────┤├───────┤└───┘ ░ └╥┘┌─┐\n",
       "   q_1: ┤ RX(2) ├┤ RY(4) ├┤ RX(9) ├┤ RY(6) ├┤ RX(8) ├──────░──╫─┤M├\n",
       "        └───────┘└───────┘└───────┘└───────┘└───────┘      ░  ║ └╥┘\n",
       "meas_0: ══════════════════════════════════════════════════════╩══╬═\n",
       "                                                                 ║ \n",
       "meas_1: ═════════════════════════════════════════════════════════╩═\n",
       "                                                                   </pre>"
      ],
      "text/plain": [
       "        ┌───────┐┌───────┐         ┌───────┐┌───────┐┌───┐ ░ ┌─┐   \n",
       "   q_0: ┤ RX(1) ├┤ RY(3) ├────■────┤ RY(5) ├┤ RX(7) ├┤ H ├─░─┤M├───\n",
       "        ├───────┤├───────┤┌───┴───┐├───────┤├───────┤└───┘ ░ └╥┘┌─┐\n",
       "   q_1: ┤ RX(2) ├┤ RY(4) ├┤ RX(9) ├┤ RY(6) ├┤ RX(8) ├──────░──╫─┤M├\n",
       "        └───────┘└───────┘└───────┘└───────┘└───────┘      ░  ║ └╥┘\n",
       "meas_0: ══════════════════════════════════════════════════════╩══╬═\n",
       "                                                                 ║ \n",
       "meas_1: ═════════════════════════════════════════════════════════╩═\n",
       "                                                                   "
      ]
     },
     "execution_count": 1361,
     "metadata": {},
     "output_type": "execute_result"
    }
   ],
   "source": [
    "A = measure_xi_circuit(Operational_circuit_try)\n",
    "A.draw()"
   ]
  },
  {
   "cell_type": "markdown",
   "metadata": {},
   "source": [
    "# 6. IY"
   ]
  },
  {
   "cell_type": "code",
   "execution_count": 1362,
   "metadata": {},
   "outputs": [
    {
     "name": "stdout",
     "output_type": "stream",
     "text": [
      "<IY> = 0.253\n"
     ]
    }
   ],
   "source": [
    "def measure_iy_circuit(given_circuit):\n",
    "    iy_meas = given_circuit.copy()\n",
    "    iy_meas.rz(-pi/2,1)\n",
    "    iy_meas.h(1)\n",
    "    iy_meas.measure_all()\n",
    "\n",
    "    return iy_meas\n",
    "def measure_iy(given_circuit, num_shots = 10000):\n",
    "    \n",
    "    iy_meas = measure_iy_circuit(given_circuit)\n",
    "    \n",
    "    result = execute(iy_meas, backend = simulator, shots = num_shots).result()\n",
    "    counts = result.get_counts(iy_meas)\n",
    "\n",
    "    if '00' not in counts:\n",
    "        counts['00'] = 0\n",
    "    if '01' not in counts:\n",
    "        counts['01'] = 0\n",
    "    if '10' not in counts:\n",
    "        counts['10'] = 0\n",
    "    if '11' not in counts:\n",
    "        counts['11'] = 0\n",
    "\n",
    "    total_counts = counts['00'] + counts['11'] + counts['01'] + counts['10']\n",
    "    iy = counts['00'] - counts['11'] + counts['01'] - counts['10']\n",
    "    iy = iy / total_counts\n",
    "    \n",
    "    return iy\n",
    "iy = measure_iy(Operational_circuit_try)\n",
    "print(\"<IY> =\", str(iy))"
   ]
  },
  {
   "cell_type": "code",
   "execution_count": 1363,
   "metadata": {},
   "outputs": [
    {
     "data": {
      "text/html": [
       "<pre style=\"word-wrap: normal;white-space: pre;background: #fff0;line-height: 1.1;font-family: &quot;Courier New&quot;,Courier,monospace\">        ┌───────┐┌───────┐         ┌───────┐┌───────┐                   ░ ┌─┐»\n",
       "   q_0: ┤ RX(1) ├┤ RY(3) ├────■────┤ RY(5) ├┤ RX(7) ├───────────────────░─┤M├»\n",
       "        ├───────┤├───────┤┌───┴───┐├───────┤├───────┤┌───────────┐┌───┐ ░ └╥┘»\n",
       "   q_1: ┤ RX(2) ├┤ RY(4) ├┤ RX(9) ├┤ RY(6) ├┤ RX(8) ├┤ RZ(-pi/2) ├┤ H ├─░──╫─»\n",
       "        └───────┘└───────┘└───────┘└───────┘└───────┘└───────────┘└───┘ ░  ║ »\n",
       "meas_0: ═══════════════════════════════════════════════════════════════════╩═»\n",
       "                                                                             »\n",
       "meas_1: ═════════════════════════════════════════════════════════════════════»\n",
       "                                                                             »\n",
       "«           \n",
       "«   q_0: ───\n",
       "«        ┌─┐\n",
       "«   q_1: ┤M├\n",
       "«        └╥┘\n",
       "«meas_0: ═╬═\n",
       "«         ║ \n",
       "«meas_1: ═╩═\n",
       "«           </pre>"
      ],
      "text/plain": [
       "        ┌───────┐┌───────┐         ┌───────┐┌───────┐                   ░ ┌─┐»\n",
       "   q_0: ┤ RX(1) ├┤ RY(3) ├────■────┤ RY(5) ├┤ RX(7) ├───────────────────░─┤M├»\n",
       "        ├───────┤├───────┤┌───┴───┐├───────┤├───────┤┌───────────┐┌───┐ ░ └╥┘»\n",
       "   q_1: ┤ RX(2) ├┤ RY(4) ├┤ RX(9) ├┤ RY(6) ├┤ RX(8) ├┤ RZ(-pi/2) ├┤ H ├─░──╫─»\n",
       "        └───────┘└───────┘└───────┘└───────┘└───────┘└───────────┘└───┘ ░  ║ »\n",
       "meas_0: ═══════════════════════════════════════════════════════════════════╩═»\n",
       "                                                                             »\n",
       "meas_1: ═════════════════════════════════════════════════════════════════════»\n",
       "                                                                             »\n",
       "«           \n",
       "«   q_0: ───\n",
       "«        ┌─┐\n",
       "«   q_1: ┤M├\n",
       "«        └╥┘\n",
       "«meas_0: ═╬═\n",
       "«         ║ \n",
       "«meas_1: ═╩═\n",
       "«           "
      ]
     },
     "execution_count": 1363,
     "metadata": {},
     "output_type": "execute_result"
    }
   ],
   "source": [
    "A = measure_iy_circuit(Operational_circuit_try)\n",
    "A.draw()"
   ]
  },
  {
   "cell_type": "markdown",
   "metadata": {},
   "source": [
    "# 7. YI"
   ]
  },
  {
   "cell_type": "code",
   "execution_count": 1364,
   "metadata": {},
   "outputs": [
    {
     "name": "stdout",
     "output_type": "stream",
     "text": [
      "<YI> = 0.0968\n"
     ]
    }
   ],
   "source": [
    "def measure_yi_circuit(given_circuit):\n",
    "    yi_meas = given_circuit.copy()\n",
    "    yi_meas.rz(-pi/2,0)\n",
    "    yi_meas.h(0)\n",
    "    yi_meas.measure_all()\n",
    "\n",
    "    return yi_meas\n",
    "def measure_yi(given_circuit, num_shots = 10000):\n",
    "    \n",
    "    yi_meas = measure_yi_circuit(given_circuit)\n",
    "    \n",
    "    result = execute(yi_meas, backend = simulator, shots = num_shots).result()\n",
    "    counts = result.get_counts(yi_meas)\n",
    "\n",
    "    if '00' not in counts:\n",
    "        counts['00'] = 0\n",
    "    if '01' not in counts:\n",
    "        counts['01'] = 0\n",
    "    if '10' not in counts:\n",
    "        counts['10'] = 0\n",
    "    if '11' not in counts:\n",
    "        counts['11'] = 0\n",
    "\n",
    "    total_counts = counts['00'] + counts['11'] + counts['01'] + counts['10']\n",
    "    yi = counts['00'] - counts['11'] - counts['01'] + counts['10']\n",
    "    yi = yi / total_counts\n",
    "    \n",
    "    return yi\n",
    "\n",
    "yi = measure_yi(Operational_circuit_try)\n",
    "print(\"<YI> =\", str(yi))"
   ]
  },
  {
   "cell_type": "code",
   "execution_count": 1365,
   "metadata": {},
   "outputs": [
    {
     "data": {
      "text/html": [
       "<pre style=\"word-wrap: normal;white-space: pre;background: #fff0;line-height: 1.1;font-family: &quot;Courier New&quot;,Courier,monospace\">        ┌───────┐┌───────┐         ┌───────┐┌───────┐┌───────────┐┌───┐ ░ ┌─┐»\n",
       "   q_0: ┤ RX(1) ├┤ RY(3) ├────■────┤ RY(5) ├┤ RX(7) ├┤ RZ(-pi/2) ├┤ H ├─░─┤M├»\n",
       "        ├───────┤├───────┤┌───┴───┐├───────┤├───────┤└───────────┘└───┘ ░ └╥┘»\n",
       "   q_1: ┤ RX(2) ├┤ RY(4) ├┤ RX(9) ├┤ RY(6) ├┤ RX(8) ├───────────────────░──╫─»\n",
       "        └───────┘└───────┘└───────┘└───────┘└───────┘                   ░  ║ »\n",
       "meas_0: ═══════════════════════════════════════════════════════════════════╩═»\n",
       "                                                                             »\n",
       "meas_1: ═════════════════════════════════════════════════════════════════════»\n",
       "                                                                             »\n",
       "«           \n",
       "«   q_0: ───\n",
       "«        ┌─┐\n",
       "«   q_1: ┤M├\n",
       "«        └╥┘\n",
       "«meas_0: ═╬═\n",
       "«         ║ \n",
       "«meas_1: ═╩═\n",
       "«           </pre>"
      ],
      "text/plain": [
       "        ┌───────┐┌───────┐         ┌───────┐┌───────┐┌───────────┐┌───┐ ░ ┌─┐»\n",
       "   q_0: ┤ RX(1) ├┤ RY(3) ├────■────┤ RY(5) ├┤ RX(7) ├┤ RZ(-pi/2) ├┤ H ├─░─┤M├»\n",
       "        ├───────┤├───────┤┌───┴───┐├───────┤├───────┤└───────────┘└───┘ ░ └╥┘»\n",
       "   q_1: ┤ RX(2) ├┤ RY(4) ├┤ RX(9) ├┤ RY(6) ├┤ RX(8) ├───────────────────░──╫─»\n",
       "        └───────┘└───────┘└───────┘└───────┘└───────┘                   ░  ║ »\n",
       "meas_0: ═══════════════════════════════════════════════════════════════════╩═»\n",
       "                                                                             »\n",
       "meas_1: ═════════════════════════════════════════════════════════════════════»\n",
       "                                                                             »\n",
       "«           \n",
       "«   q_0: ───\n",
       "«        ┌─┐\n",
       "«   q_1: ┤M├\n",
       "«        └╥┘\n",
       "«meas_0: ═╬═\n",
       "«         ║ \n",
       "«meas_1: ═╩═\n",
       "«           "
      ]
     },
     "execution_count": 1365,
     "metadata": {},
     "output_type": "execute_result"
    }
   ],
   "source": [
    "A = measure_yi_circuit(Operational_circuit_try)\n",
    "A.draw()"
   ]
  },
  {
   "cell_type": "markdown",
   "metadata": {},
   "source": [
    "# 8. IZ"
   ]
  },
  {
   "cell_type": "code",
   "execution_count": 1366,
   "metadata": {},
   "outputs": [
    {
     "name": "stdout",
     "output_type": "stream",
     "text": [
      "<IZ> = 0.394\n"
     ]
    }
   ],
   "source": [
    "def measure_iz(given_circuit, num_shots = 10000):\n",
    "\n",
    "    zz_meas = measure_zz_circuit(given_circuit)\n",
    "    \n",
    "    result = execute(zz_meas, backend = simulator, shots = num_shots).result()\n",
    "    counts = result.get_counts(zz_meas)\n",
    "\n",
    "    if '00' not in counts:\n",
    "        counts['00'] = 0\n",
    "    if '01' not in counts:\n",
    "        counts['01'] = 0\n",
    "    if '10' not in counts:\n",
    "        counts['10'] = 0\n",
    "    if '11' not in counts:\n",
    "        counts['11'] = 0 \n",
    "\n",
    "    total_counts = counts['00'] + counts['11'] + counts['01'] + counts['10']\n",
    "    zz = counts['00'] - counts['11']+ counts['01'] - counts['10']\n",
    "    zz = zz / total_counts\n",
    "    \n",
    "    return zz\n",
    "\n",
    "iz = measure_iz(Operational_circuit_try)\n",
    "print(\"<IZ> =\", str(iz))"
   ]
  },
  {
   "cell_type": "markdown",
   "metadata": {},
   "source": [
    "# 9. ZI"
   ]
  },
  {
   "cell_type": "code",
   "execution_count": 1367,
   "metadata": {},
   "outputs": [
    {
     "name": "stdout",
     "output_type": "stream",
     "text": [
      "<ZI> = 0.1822\n"
     ]
    }
   ],
   "source": [
    "def measure_zi(given_circuit, num_shots = 10000):\n",
    "\n",
    "    zz_meas = measure_zz_circuit(given_circuit)\n",
    "    \n",
    "    result = execute(zz_meas, backend = simulator, shots = num_shots).result()\n",
    "    counts = result.get_counts(zz_meas)\n",
    "\n",
    "    if '00' not in counts:\n",
    "        counts['00'] = 0\n",
    "    if '01' not in counts:\n",
    "        counts['01'] = 0\n",
    "    if '10' not in counts:\n",
    "        counts['10'] = 0\n",
    "    if '11' not in counts:\n",
    "        counts['11'] = 0 \n",
    "\n",
    "    total_counts = counts['00'] + counts['11'] + counts['01'] + counts['10']\n",
    "    zz = counts['00'] - counts['11']- counts['01'] + counts['10']\n",
    "    zz = zz / total_counts\n",
    "    \n",
    "    return zz\n",
    "\n",
    "zi = measure_zi(Operational_circuit_try)\n",
    "print(\"<ZI> =\", str(zi))"
   ]
  },
  {
   "cell_type": "markdown",
   "metadata": {},
   "source": [
    "# 10. XY"
   ]
  },
  {
   "cell_type": "code",
   "execution_count": 1368,
   "metadata": {},
   "outputs": [
    {
     "name": "stdout",
     "output_type": "stream",
     "text": [
      "<XY> = 0.2604\n"
     ]
    }
   ],
   "source": [
    "def measure_xy_circuit(given_circuit):\n",
    "    xy_meas = given_circuit.copy()\n",
    "    xy_meas.rz(-pi/2,1)\n",
    "    xy_meas.h(1)\n",
    "    xy_meas.h(0)\n",
    "    xy_meas.measure_all()\n",
    "\n",
    "    return xy_meas\n",
    "\n",
    "def measure_xy(given_circuit, num_shots = 10000):\n",
    "\n",
    "    zz_meas = measure_xy_circuit(given_circuit)\n",
    "    \n",
    "    result = execute(zz_meas, backend = simulator, shots = num_shots).result()\n",
    "    counts = result.get_counts(zz_meas)\n",
    "\n",
    "    if '00' not in counts:\n",
    "        counts['00'] = 0\n",
    "    if '01' not in counts:\n",
    "        counts['01'] = 0\n",
    "    if '10' not in counts:\n",
    "        counts['10'] = 0\n",
    "    if '11' not in counts:\n",
    "        counts['11'] = 0 \n",
    "\n",
    "    total_counts = counts['00'] + counts['11'] + counts['01'] + counts['10']\n",
    "    zz = counts['00'] + counts['11'] - counts['01'] - counts['10']\n",
    "    zz = zz / total_counts\n",
    "    \n",
    "    return zz\n",
    "\n",
    "xy = measure_xy(Operational_circuit_try)\n",
    "print(\"<XY> =\", str(xy))"
   ]
  },
  {
   "cell_type": "code",
   "execution_count": 1369,
   "metadata": {},
   "outputs": [
    {
     "data": {
      "text/html": [
       "<pre style=\"word-wrap: normal;white-space: pre;background: #fff0;line-height: 1.1;font-family: &quot;Courier New&quot;,Courier,monospace\">        ┌───────┐┌───────┐         ┌───────┐┌───────┐    ┌───┐          ░ ┌─┐»\n",
       "   q_0: ┤ RX(1) ├┤ RY(3) ├────■────┤ RY(5) ├┤ RX(7) ├────┤ H ├──────────░─┤M├»\n",
       "        ├───────┤├───────┤┌───┴───┐├───────┤├───────┤┌───┴───┴───┐┌───┐ ░ └╥┘»\n",
       "   q_1: ┤ RX(2) ├┤ RY(4) ├┤ RX(9) ├┤ RY(6) ├┤ RX(8) ├┤ RZ(-pi/2) ├┤ H ├─░──╫─»\n",
       "        └───────┘└───────┘└───────┘└───────┘└───────┘└───────────┘└───┘ ░  ║ »\n",
       "meas_0: ═══════════════════════════════════════════════════════════════════╩═»\n",
       "                                                                             »\n",
       "meas_1: ═════════════════════════════════════════════════════════════════════»\n",
       "                                                                             »\n",
       "«           \n",
       "«   q_0: ───\n",
       "«        ┌─┐\n",
       "«   q_1: ┤M├\n",
       "«        └╥┘\n",
       "«meas_0: ═╬═\n",
       "«         ║ \n",
       "«meas_1: ═╩═\n",
       "«           </pre>"
      ],
      "text/plain": [
       "        ┌───────┐┌───────┐         ┌───────┐┌───────┐    ┌───┐          ░ ┌─┐»\n",
       "   q_0: ┤ RX(1) ├┤ RY(3) ├────■────┤ RY(5) ├┤ RX(7) ├────┤ H ├──────────░─┤M├»\n",
       "        ├───────┤├───────┤┌───┴───┐├───────┤├───────┤┌───┴───┴───┐┌───┐ ░ └╥┘»\n",
       "   q_1: ┤ RX(2) ├┤ RY(4) ├┤ RX(9) ├┤ RY(6) ├┤ RX(8) ├┤ RZ(-pi/2) ├┤ H ├─░──╫─»\n",
       "        └───────┘└───────┘└───────┘└───────┘└───────┘└───────────┘└───┘ ░  ║ »\n",
       "meas_0: ═══════════════════════════════════════════════════════════════════╩═»\n",
       "                                                                             »\n",
       "meas_1: ═════════════════════════════════════════════════════════════════════»\n",
       "                                                                             »\n",
       "«           \n",
       "«   q_0: ───\n",
       "«        ┌─┐\n",
       "«   q_1: ┤M├\n",
       "«        └╥┘\n",
       "«meas_0: ═╬═\n",
       "«         ║ \n",
       "«meas_1: ═╩═\n",
       "«           "
      ]
     },
     "execution_count": 1369,
     "metadata": {},
     "output_type": "execute_result"
    }
   ],
   "source": [
    "A = measure_xy_circuit(Operational_circuit_try)\n",
    "A.draw()"
   ]
  },
  {
   "cell_type": "markdown",
   "metadata": {},
   "source": [
    "# 11. YX"
   ]
  },
  {
   "cell_type": "code",
   "execution_count": 1370,
   "metadata": {},
   "outputs": [
    {
     "name": "stdout",
     "output_type": "stream",
     "text": [
      "<YX> = -0.1896\n"
     ]
    }
   ],
   "source": [
    "def measure_yx_circuit(given_circuit):\n",
    "    xy_meas = given_circuit.copy()\n",
    "    xy_meas.rz(-pi/2,0)\n",
    "    xy_meas.h(0)\n",
    "    xy_meas.h(1)\n",
    "    xy_meas.measure_all()\n",
    "\n",
    "    return xy_meas\n",
    "\n",
    "def measure_yx(given_circuit, num_shots = 10000):\n",
    "\n",
    "    zz_meas = measure_yx_circuit(given_circuit)\n",
    "    \n",
    "    result = execute(zz_meas, backend = simulator, shots = num_shots).result()\n",
    "    counts = result.get_counts(zz_meas)\n",
    "\n",
    "    if '00' not in counts:\n",
    "        counts['00'] = 0\n",
    "    if '01' not in counts:\n",
    "        counts['01'] = 0\n",
    "    if '10' not in counts:\n",
    "        counts['10'] = 0\n",
    "    if '11' not in counts:\n",
    "        counts['11'] = 0 \n",
    "\n",
    "    total_counts = counts['00'] + counts['11'] + counts['01'] + counts['10']\n",
    "    zz = counts['00'] + counts['11'] - counts['01'] - counts['10']\n",
    "    zz = zz / total_counts\n",
    "    \n",
    "    return zz\n",
    "\n",
    "yx = measure_yx(Operational_circuit_try)\n",
    "print(\"<YX> =\", str(yx))"
   ]
  },
  {
   "cell_type": "code",
   "execution_count": 1371,
   "metadata": {},
   "outputs": [
    {
     "data": {
      "text/html": [
       "<pre style=\"word-wrap: normal;white-space: pre;background: #fff0;line-height: 1.1;font-family: &quot;Courier New&quot;,Courier,monospace\">        ┌───────┐┌───────┐         ┌───────┐┌───────┐┌───────────┐┌───┐ ░ ┌─┐»\n",
       "   q_0: ┤ RX(1) ├┤ RY(3) ├────■────┤ RY(5) ├┤ RX(7) ├┤ RZ(-pi/2) ├┤ H ├─░─┤M├»\n",
       "        ├───────┤├───────┤┌───┴───┐├───────┤├───────┤└───┬───┬───┘└───┘ ░ └╥┘»\n",
       "   q_1: ┤ RX(2) ├┤ RY(4) ├┤ RX(9) ├┤ RY(6) ├┤ RX(8) ├────┤ H ├──────────░──╫─»\n",
       "        └───────┘└───────┘└───────┘└───────┘└───────┘    └───┘          ░  ║ »\n",
       "meas_0: ═══════════════════════════════════════════════════════════════════╩═»\n",
       "                                                                             »\n",
       "meas_1: ═════════════════════════════════════════════════════════════════════»\n",
       "                                                                             »\n",
       "«           \n",
       "«   q_0: ───\n",
       "«        ┌─┐\n",
       "«   q_1: ┤M├\n",
       "«        └╥┘\n",
       "«meas_0: ═╬═\n",
       "«         ║ \n",
       "«meas_1: ═╩═\n",
       "«           </pre>"
      ],
      "text/plain": [
       "        ┌───────┐┌───────┐         ┌───────┐┌───────┐┌───────────┐┌───┐ ░ ┌─┐»\n",
       "   q_0: ┤ RX(1) ├┤ RY(3) ├────■────┤ RY(5) ├┤ RX(7) ├┤ RZ(-pi/2) ├┤ H ├─░─┤M├»\n",
       "        ├───────┤├───────┤┌───┴───┐├───────┤├───────┤└───┬───┬───┘└───┘ ░ └╥┘»\n",
       "   q_1: ┤ RX(2) ├┤ RY(4) ├┤ RX(9) ├┤ RY(6) ├┤ RX(8) ├────┤ H ├──────────░──╫─»\n",
       "        └───────┘└───────┘└───────┘└───────┘└───────┘    └───┘          ░  ║ »\n",
       "meas_0: ═══════════════════════════════════════════════════════════════════╩═»\n",
       "                                                                             »\n",
       "meas_1: ═════════════════════════════════════════════════════════════════════»\n",
       "                                                                             »\n",
       "«           \n",
       "«   q_0: ───\n",
       "«        ┌─┐\n",
       "«   q_1: ┤M├\n",
       "«        └╥┘\n",
       "«meas_0: ═╬═\n",
       "«         ║ \n",
       "«meas_1: ═╩═\n",
       "«           "
      ]
     },
     "execution_count": 1371,
     "metadata": {},
     "output_type": "execute_result"
    }
   ],
   "source": [
    "A = measure_yx_circuit(Operational_circuit_try)\n",
    "A.draw()"
   ]
  },
  {
   "cell_type": "markdown",
   "metadata": {},
   "source": [
    "# 12. XZ"
   ]
  },
  {
   "cell_type": "code",
   "execution_count": 1372,
   "metadata": {},
   "outputs": [
    {
     "name": "stdout",
     "output_type": "stream",
     "text": [
      "<XZ> = 0.778\n"
     ]
    }
   ],
   "source": [
    "def measure_xz_circuit(given_circuit):\n",
    "    xy_meas = given_circuit.copy()\n",
    "    xy_meas.h(0)\n",
    "    xy_meas.measure_all()\n",
    "\n",
    "    return xy_meas\n",
    "\n",
    "def measure_xz(given_circuit, num_shots = 10000):\n",
    "\n",
    "    zz_meas = measure_xz_circuit(given_circuit)\n",
    "    \n",
    "    result = execute(zz_meas, backend = simulator, shots = num_shots).result()\n",
    "    counts = result.get_counts(zz_meas)\n",
    "\n",
    "    if '00' not in counts:\n",
    "        counts['00'] = 0\n",
    "    if '01' not in counts:\n",
    "        counts['01'] = 0\n",
    "    if '10' not in counts:\n",
    "        counts['10'] = 0\n",
    "    if '11' not in counts:\n",
    "        counts['11'] = 0 \n",
    "\n",
    "    total_counts = counts['00'] + counts['11'] + counts['01'] + counts['10']\n",
    "    zz = counts['00'] + counts['11'] - counts['01'] - counts['10']\n",
    "    zz = zz / total_counts\n",
    "    \n",
    "    return zz\n",
    "\n",
    "xz = measure_xz(Operational_circuit_try)\n",
    "print(\"<XZ> =\", str(xz))"
   ]
  },
  {
   "cell_type": "code",
   "execution_count": 1373,
   "metadata": {},
   "outputs": [
    {
     "data": {
      "text/html": [
       "<pre style=\"word-wrap: normal;white-space: pre;background: #fff0;line-height: 1.1;font-family: &quot;Courier New&quot;,Courier,monospace\">        ┌───────┐┌───────┐         ┌───────┐┌───────┐┌───┐ ░ ┌─┐   \n",
       "   q_0: ┤ RX(1) ├┤ RY(3) ├────■────┤ RY(5) ├┤ RX(7) ├┤ H ├─░─┤M├───\n",
       "        ├───────┤├───────┤┌───┴───┐├───────┤├───────┤└───┘ ░ └╥┘┌─┐\n",
       "   q_1: ┤ RX(2) ├┤ RY(4) ├┤ RX(9) ├┤ RY(6) ├┤ RX(8) ├──────░──╫─┤M├\n",
       "        └───────┘└───────┘└───────┘└───────┘└───────┘      ░  ║ └╥┘\n",
       "meas_0: ══════════════════════════════════════════════════════╩══╬═\n",
       "                                                                 ║ \n",
       "meas_1: ═════════════════════════════════════════════════════════╩═\n",
       "                                                                   </pre>"
      ],
      "text/plain": [
       "        ┌───────┐┌───────┐         ┌───────┐┌───────┐┌───┐ ░ ┌─┐   \n",
       "   q_0: ┤ RX(1) ├┤ RY(3) ├────■────┤ RY(5) ├┤ RX(7) ├┤ H ├─░─┤M├───\n",
       "        ├───────┤├───────┤┌───┴───┐├───────┤├───────┤└───┘ ░ └╥┘┌─┐\n",
       "   q_1: ┤ RX(2) ├┤ RY(4) ├┤ RX(9) ├┤ RY(6) ├┤ RX(8) ├──────░──╫─┤M├\n",
       "        └───────┘└───────┘└───────┘└───────┘└───────┘      ░  ║ └╥┘\n",
       "meas_0: ══════════════════════════════════════════════════════╩══╬═\n",
       "                                                                 ║ \n",
       "meas_1: ═════════════════════════════════════════════════════════╩═\n",
       "                                                                   "
      ]
     },
     "execution_count": 1373,
     "metadata": {},
     "output_type": "execute_result"
    }
   ],
   "source": [
    "A = measure_xz_circuit(Operational_circuit_try)\n",
    "A.draw()"
   ]
  },
  {
   "cell_type": "markdown",
   "metadata": {},
   "source": [
    "# 13. ZX"
   ]
  },
  {
   "cell_type": "code",
   "execution_count": 1374,
   "metadata": {},
   "outputs": [
    {
     "name": "stdout",
     "output_type": "stream",
     "text": [
      "<ZX> = 0.6958\n"
     ]
    }
   ],
   "source": [
    "def measure_zx_circuit(given_circuit):\n",
    "    xy_meas = given_circuit.copy()\n",
    "    xy_meas.h(1)\n",
    "    xy_meas.measure_all()\n",
    "\n",
    "    return xy_meas\n",
    "\n",
    "def measure_zx(given_circuit, num_shots = 10000):\n",
    "\n",
    "    zz_meas = measure_zx_circuit(given_circuit)\n",
    "    \n",
    "    result = execute(zz_meas, backend = simulator, shots = num_shots).result()\n",
    "    counts = result.get_counts(zz_meas)\n",
    "\n",
    "    if '00' not in counts:\n",
    "        counts['00'] = 0\n",
    "    if '01' not in counts:\n",
    "        counts['01'] = 0\n",
    "    if '10' not in counts:\n",
    "        counts['10'] = 0\n",
    "    if '11' not in counts:\n",
    "        counts['11'] = 0 \n",
    "\n",
    "    total_counts = counts['00'] + counts['11'] + counts['01'] + counts['10']\n",
    "    zz = counts['00'] + counts['11'] - counts['01'] - counts['10']\n",
    "    zz = zz / total_counts\n",
    "    \n",
    "    return zz\n",
    "\n",
    "zx = measure_zx(Operational_circuit_try)\n",
    "print(\"<ZX> =\", str(zx))"
   ]
  },
  {
   "cell_type": "code",
   "execution_count": 1375,
   "metadata": {},
   "outputs": [
    {
     "data": {
      "text/html": [
       "<pre style=\"word-wrap: normal;white-space: pre;background: #fff0;line-height: 1.1;font-family: &quot;Courier New&quot;,Courier,monospace\">        ┌───────┐┌───────┐         ┌───────┐┌───────┐      ░ ┌─┐   \n",
       "   q_0: ┤ RX(1) ├┤ RY(3) ├────■────┤ RY(5) ├┤ RX(7) ├──────░─┤M├───\n",
       "        ├───────┤├───────┤┌───┴───┐├───────┤├───────┤┌───┐ ░ └╥┘┌─┐\n",
       "   q_1: ┤ RX(2) ├┤ RY(4) ├┤ RX(9) ├┤ RY(6) ├┤ RX(8) ├┤ H ├─░──╫─┤M├\n",
       "        └───────┘└───────┘└───────┘└───────┘└───────┘└───┘ ░  ║ └╥┘\n",
       "meas_0: ══════════════════════════════════════════════════════╩══╬═\n",
       "                                                                 ║ \n",
       "meas_1: ═════════════════════════════════════════════════════════╩═\n",
       "                                                                   </pre>"
      ],
      "text/plain": [
       "        ┌───────┐┌───────┐         ┌───────┐┌───────┐      ░ ┌─┐   \n",
       "   q_0: ┤ RX(1) ├┤ RY(3) ├────■────┤ RY(5) ├┤ RX(7) ├──────░─┤M├───\n",
       "        ├───────┤├───────┤┌───┴───┐├───────┤├───────┤┌───┐ ░ └╥┘┌─┐\n",
       "   q_1: ┤ RX(2) ├┤ RY(4) ├┤ RX(9) ├┤ RY(6) ├┤ RX(8) ├┤ H ├─░──╫─┤M├\n",
       "        └───────┘└───────┘└───────┘└───────┘└───────┘└───┘ ░  ║ └╥┘\n",
       "meas_0: ══════════════════════════════════════════════════════╩══╬═\n",
       "                                                                 ║ \n",
       "meas_1: ═════════════════════════════════════════════════════════╩═\n",
       "                                                                   "
      ]
     },
     "execution_count": 1375,
     "metadata": {},
     "output_type": "execute_result"
    }
   ],
   "source": [
    "A = measure_zx_circuit(Operational_circuit_try)\n",
    "A.draw()"
   ]
  },
  {
   "cell_type": "markdown",
   "metadata": {},
   "source": [
    "# 14. YZ"
   ]
  },
  {
   "cell_type": "code",
   "execution_count": 1376,
   "metadata": {},
   "outputs": [
    {
     "name": "stdout",
     "output_type": "stream",
     "text": [
      "<YZ> = -0.0566\n"
     ]
    }
   ],
   "source": [
    "def measure_yz_circuit(given_circuit):\n",
    "    xy_meas = given_circuit.copy()\n",
    "    xy_meas.rz(-pi/2,0)\n",
    "    xy_meas.h(0)\n",
    "    xy_meas.measure_all()\n",
    "\n",
    "    return xy_meas\n",
    "\n",
    "def measure_yz(given_circuit, num_shots = 10000):\n",
    "\n",
    "    zz_meas = measure_yz_circuit(given_circuit)\n",
    "    \n",
    "    result = execute(zz_meas, backend = simulator, shots = num_shots).result()\n",
    "    counts = result.get_counts(zz_meas)\n",
    "\n",
    "    if '00' not in counts:\n",
    "        counts['00'] = 0\n",
    "    if '01' not in counts:\n",
    "        counts['01'] = 0\n",
    "    if '10' not in counts:\n",
    "        counts['10'] = 0\n",
    "    if '11' not in counts:\n",
    "        counts['11'] = 0 \n",
    "\n",
    "    total_counts = counts['00'] + counts['11'] + counts['01'] + counts['10']\n",
    "    zz = counts['00'] + counts['11'] - counts['01'] - counts['10']\n",
    "    zz = zz / total_counts\n",
    "    \n",
    "    return zz\n",
    "\n",
    "yz = measure_yz(Operational_circuit_try)\n",
    "print(\"<YZ> =\", str(yz))"
   ]
  },
  {
   "cell_type": "code",
   "execution_count": 1377,
   "metadata": {},
   "outputs": [
    {
     "data": {
      "text/html": [
       "<pre style=\"word-wrap: normal;white-space: pre;background: #fff0;line-height: 1.1;font-family: &quot;Courier New&quot;,Courier,monospace\">        ┌───────┐┌───────┐         ┌───────┐┌───────┐┌───────────┐┌───┐ ░ ┌─┐»\n",
       "   q_0: ┤ RX(1) ├┤ RY(3) ├────■────┤ RY(5) ├┤ RX(7) ├┤ RZ(-pi/2) ├┤ H ├─░─┤M├»\n",
       "        ├───────┤├───────┤┌───┴───┐├───────┤├───────┤└───────────┘└───┘ ░ └╥┘»\n",
       "   q_1: ┤ RX(2) ├┤ RY(4) ├┤ RX(9) ├┤ RY(6) ├┤ RX(8) ├───────────────────░──╫─»\n",
       "        └───────┘└───────┘└───────┘└───────┘└───────┘                   ░  ║ »\n",
       "meas_0: ═══════════════════════════════════════════════════════════════════╩═»\n",
       "                                                                             »\n",
       "meas_1: ═════════════════════════════════════════════════════════════════════»\n",
       "                                                                             »\n",
       "«           \n",
       "«   q_0: ───\n",
       "«        ┌─┐\n",
       "«   q_1: ┤M├\n",
       "«        └╥┘\n",
       "«meas_0: ═╬═\n",
       "«         ║ \n",
       "«meas_1: ═╩═\n",
       "«           </pre>"
      ],
      "text/plain": [
       "        ┌───────┐┌───────┐         ┌───────┐┌───────┐┌───────────┐┌───┐ ░ ┌─┐»\n",
       "   q_0: ┤ RX(1) ├┤ RY(3) ├────■────┤ RY(5) ├┤ RX(7) ├┤ RZ(-pi/2) ├┤ H ├─░─┤M├»\n",
       "        ├───────┤├───────┤┌───┴───┐├───────┤├───────┤└───────────┘└───┘ ░ └╥┘»\n",
       "   q_1: ┤ RX(2) ├┤ RY(4) ├┤ RX(9) ├┤ RY(6) ├┤ RX(8) ├───────────────────░──╫─»\n",
       "        └───────┘└───────┘└───────┘└───────┘└───────┘                   ░  ║ »\n",
       "meas_0: ═══════════════════════════════════════════════════════════════════╩═»\n",
       "                                                                             »\n",
       "meas_1: ═════════════════════════════════════════════════════════════════════»\n",
       "                                                                             »\n",
       "«           \n",
       "«   q_0: ───\n",
       "«        ┌─┐\n",
       "«   q_1: ┤M├\n",
       "«        └╥┘\n",
       "«meas_0: ═╬═\n",
       "«         ║ \n",
       "«meas_1: ═╩═\n",
       "«           "
      ]
     },
     "execution_count": 1377,
     "metadata": {},
     "output_type": "execute_result"
    }
   ],
   "source": [
    "A = measure_yz_circuit(Operational_circuit_try)\n",
    "A.draw()"
   ]
  },
  {
   "cell_type": "markdown",
   "metadata": {},
   "source": [
    "# 15. ZY"
   ]
  },
  {
   "cell_type": "code",
   "execution_count": 1378,
   "metadata": {},
   "outputs": [
    {
     "name": "stdout",
     "output_type": "stream",
     "text": [
      "<ZY> = 0.1616\n"
     ]
    }
   ],
   "source": [
    "def measure_zy_circuit(given_circuit):\n",
    "    xy_meas = given_circuit.copy()\n",
    "    xy_meas.rz(-pi/2,1)\n",
    "    xy_meas.h(1)\n",
    "    xy_meas.measure_all()\n",
    "\n",
    "    return xy_meas\n",
    "\n",
    "def measure_zy(given_circuit, num_shots = 10000):\n",
    "\n",
    "    zz_meas = measure_zy_circuit(given_circuit)\n",
    "    \n",
    "    result = execute(zz_meas, backend = simulator, shots = num_shots).result()\n",
    "    counts = result.get_counts(zz_meas)\n",
    "\n",
    "    if '00' not in counts:\n",
    "        counts['00'] = 0\n",
    "    if '01' not in counts:\n",
    "        counts['01'] = 0\n",
    "    if '10' not in counts:\n",
    "        counts['10'] = 0\n",
    "    if '11' not in counts:\n",
    "        counts['11'] = 0 \n",
    "\n",
    "    total_counts = counts['00'] + counts['11'] + counts['01'] + counts['10']\n",
    "    zz = counts['00'] + counts['11'] - counts['01'] - counts['10']\n",
    "    zz = zz / total_counts\n",
    "    \n",
    "    return zz\n",
    "\n",
    "zy = measure_zy(Operational_circuit_try)\n",
    "print(\"<ZY> =\", str(zy))"
   ]
  },
  {
   "cell_type": "code",
   "execution_count": 1379,
   "metadata": {},
   "outputs": [
    {
     "data": {
      "text/html": [
       "<pre style=\"word-wrap: normal;white-space: pre;background: #fff0;line-height: 1.1;font-family: &quot;Courier New&quot;,Courier,monospace\">        ┌───────┐┌───────┐         ┌───────┐┌───────┐                   ░ ┌─┐»\n",
       "   q_0: ┤ RX(1) ├┤ RY(3) ├────■────┤ RY(5) ├┤ RX(7) ├───────────────────░─┤M├»\n",
       "        ├───────┤├───────┤┌───┴───┐├───────┤├───────┤┌───────────┐┌───┐ ░ └╥┘»\n",
       "   q_1: ┤ RX(2) ├┤ RY(4) ├┤ RX(9) ├┤ RY(6) ├┤ RX(8) ├┤ RZ(-pi/2) ├┤ H ├─░──╫─»\n",
       "        └───────┘└───────┘└───────┘└───────┘└───────┘└───────────┘└───┘ ░  ║ »\n",
       "meas_0: ═══════════════════════════════════════════════════════════════════╩═»\n",
       "                                                                             »\n",
       "meas_1: ═════════════════════════════════════════════════════════════════════»\n",
       "                                                                             »\n",
       "«           \n",
       "«   q_0: ───\n",
       "«        ┌─┐\n",
       "«   q_1: ┤M├\n",
       "«        └╥┘\n",
       "«meas_0: ═╬═\n",
       "«         ║ \n",
       "«meas_1: ═╩═\n",
       "«           </pre>"
      ],
      "text/plain": [
       "        ┌───────┐┌───────┐         ┌───────┐┌───────┐                   ░ ┌─┐»\n",
       "   q_0: ┤ RX(1) ├┤ RY(3) ├────■────┤ RY(5) ├┤ RX(7) ├───────────────────░─┤M├»\n",
       "        ├───────┤├───────┤┌───┴───┐├───────┤├───────┤┌───────────┐┌───┐ ░ └╥┘»\n",
       "   q_1: ┤ RX(2) ├┤ RY(4) ├┤ RX(9) ├┤ RY(6) ├┤ RX(8) ├┤ RZ(-pi/2) ├┤ H ├─░──╫─»\n",
       "        └───────┘└───────┘└───────┘└───────┘└───────┘└───────────┘└───┘ ░  ║ »\n",
       "meas_0: ═══════════════════════════════════════════════════════════════════╩═»\n",
       "                                                                             »\n",
       "meas_1: ═════════════════════════════════════════════════════════════════════»\n",
       "                                                                             »\n",
       "«           \n",
       "«   q_0: ───\n",
       "«        ┌─┐\n",
       "«   q_1: ┤M├\n",
       "«        └╥┘\n",
       "«meas_0: ═╬═\n",
       "«         ║ \n",
       "«meas_1: ═╩═\n",
       "«           "
      ]
     },
     "execution_count": 1379,
     "metadata": {},
     "output_type": "execute_result"
    }
   ],
   "source": [
    "A = measure_zy_circuit(Operational_circuit_try)\n",
    "A.draw()"
   ]
  },
  {
   "cell_type": "markdown",
   "metadata": {},
   "source": [
    "# Cost_Function"
   ]
  },
  {
   "cell_type": "code",
   "execution_count": 1380,
   "metadata": {},
   "outputs": [],
   "source": [
    "def eigen_value(params):\n",
    "    num_shots = 100000\n",
    "    zz = measure_zz(Operational_circuit(params), num_shots = num_shots)\n",
    "    xx = measure_xx(Operational_circuit(params), num_shots = num_shots)\n",
    "    yy = measure_yy(Operational_circuit(params), num_shots = num_shots)\n",
    "    ix = measure_ix(Operational_circuit(params), num_shots = num_shots)\n",
    "    xi = measure_xi(Operational_circuit(params), num_shots = num_shots)\n",
    "    iy = measure_iy(Operational_circuit(params), num_shots = num_shots)\n",
    "    yi = measure_yi(Operational_circuit(params), num_shots = num_shots)\n",
    "    iz = measure_iz(Operational_circuit(params), num_shots = num_shots)\n",
    "    zi = measure_zi(Operational_circuit(params), num_shots = num_shots)\n",
    "    xy = measure_xy(Operational_circuit(params), num_shots = num_shots)\n",
    "    yx = measure_yx(Operational_circuit(params), num_shots = num_shots)\n",
    "    xz = measure_xz(Operational_circuit(params), num_shots = num_shots)\n",
    "    zx = measure_zx(Operational_circuit(params), num_shots = num_shots)\n",
    "    yz = measure_yz(Operational_circuit(params), num_shots = num_shots)\n",
    "    zy = measure_zy(Operational_circuit(params), num_shots = num_shots)\n",
    "    \n",
    "    coeff = coef(H)\n",
    "    \n",
    "    ev = (coeff[0]*1 + coeff[1]*zz + coeff[2]*xx+coeff[3]*yy+coeff[4]*ix+coeff[5]*xi+coeff[6]*iy+coeff[7]*yi+coeff[8]*iz+\n",
    "         coeff[9]*zi+coeff[10]*xy+coeff[11]*yx+coeff[12]*xz+coeff[13]*zx+coeff[14]*yz+coeff[15]*zy)\n",
    "    \n",
    "    return ev"
   ]
  },
  {
   "cell_type": "code",
   "execution_count": 1381,
   "metadata": {},
   "outputs": [],
   "source": [
    "params = [0,0,0,0,0,0,0,0,0]"
   ]
  },
  {
   "cell_type": "code",
   "execution_count": 1382,
   "metadata": {
    "scrolled": true
   },
   "outputs": [
    {
     "name": "stdout",
     "output_type": "stream",
     "text": [
      "The Eigen_Value of the trial state is 7.7028\n"
     ]
    }
   ],
   "source": [
    "ev = eigen_value(params)     #Try energy with params = [0,0,0,0,0,0]\n",
    "print(\"The Eigen_Value of the trial state is\", str(ev))"
   ]
  },
  {
   "cell_type": "markdown",
   "metadata": {},
   "source": [
    "# Finding Lowest Eignevalue"
   ]
  },
  {
   "cell_type": "code",
   "execution_count": 1391,
   "metadata": {},
   "outputs": [],
   "source": [
    "from qiskit.aqua.components.optimizers import COBYLA,SLSQP,SPSA\n",
    "\n",
    "optimizer = COBYLA(500,0.0001)"
   ]
  },
  {
   "cell_type": "code",
   "execution_count": 1396,
   "metadata": {},
   "outputs": [],
   "source": [
    "ret = optimizer.optimize(num_vars=9, objective_function=eigen_value, initial_point=params)"
   ]
  },
  {
   "cell_type": "code",
   "execution_count": 1397,
   "metadata": {},
   "outputs": [
    {
     "data": {
      "text/plain": [
       "-0.7898299999999991"
      ]
     },
     "execution_count": 1397,
     "metadata": {},
     "output_type": "execute_result"
    }
   ],
   "source": [
    "eigen_value(ret[0])"
   ]
  },
  {
   "cell_type": "code",
   "execution_count": 1398,
   "metadata": {},
   "outputs": [
    {
     "data": {
      "text/plain": [
       "-0.8030750000000011"
      ]
     },
     "execution_count": 1398,
     "metadata": {},
     "output_type": "execute_result"
    }
   ],
   "source": [
    "ret[1]"
   ]
  },
  {
   "cell_type": "code",
   "execution_count": 1395,
   "metadata": {},
   "outputs": [
    {
     "data": {
      "text/plain": [
       "(array([-0.3730913 ,  0.02831593, -1.22687865, -0.7829731 , -0.67909078,\n",
       "        -0.36289414,  2.25296634,  0.39263271, -0.24677961]),\n",
       " 1.0331100000000006,\n",
       " 107)"
      ]
     },
     "execution_count": 1395,
     "metadata": {},
     "output_type": "execute_result"
    }
   ],
   "source": [
    "ret"
   ]
  },
  {
   "cell_type": "markdown",
   "metadata": {},
   "source": [
    "# Eigen State"
   ]
  },
  {
   "cell_type": "code",
   "execution_count": 1388,
   "metadata": {
    "scrolled": true
   },
   "outputs": [
    {
     "data": {
      "text/plain": [
       "array([ 0.62094323+0.17464273j, -0.31620105-0.16439903j,\n",
       "       -0.53948589-0.3173202j ,  0.22629065+0.1182146j ])"
      ]
     },
     "execution_count": 1388,
     "metadata": {},
     "output_type": "execute_result"
    }
   ],
   "source": [
    "backend_state = Aer.get_backend('statevector_simulator')\n",
    "result = execute(Operational_circuit(ret[0]),backend_state).result()\n",
    "out_state = result.get_statevector()\n",
    "out_state"
   ]
  },
  {
   "cell_type": "markdown",
   "metadata": {},
   "source": [
    "# Initial State"
   ]
  },
  {
   "cell_type": "code",
   "execution_count": 1389,
   "metadata": {},
   "outputs": [
    {
     "data": {
      "text/plain": [
       "array([[ 0.20668776+0.18431628j,  0.10986512+0.47478549j,\n",
       "        -0.45106743+0.57681665j, -0.23245343+0.30919607j],\n",
       "       [ 0.10986512+0.47478549j,  0.48077738-0.17170243j,\n",
       "         0.22467159-0.18721584j, -0.6415596 -0.06894908j],\n",
       "       [-0.45106743+0.57681665j,  0.22467159-0.18721584j,\n",
       "        -0.21053493-0.05681853j,  0.47631644+0.3222778j ],\n",
       "       [-0.23245343+0.30919607j, -0.6415596 -0.06894908j,\n",
       "         0.47631644+0.3222778j , -0.22519064+0.22925826j]])"
      ]
     },
     "execution_count": 1389,
     "metadata": {},
     "output_type": "execute_result"
    }
   ],
   "source": [
    "expm(1j*M)"
   ]
  },
  {
   "cell_type": "code",
   "execution_count": 1390,
   "metadata": {},
   "outputs": [
    {
     "data": {
      "text/plain": [
       "array([-0.18348399+0.77255724j,  0.08687724+0.02345906j,\n",
       "        0.01969284+0.32753004j, -0.31144361+0.39589152j])"
      ]
     },
     "execution_count": 1390,
     "metadata": {},
     "output_type": "execute_result"
    }
   ],
   "source": [
    "had = [0.5+0.j, 0.5+0.j, 0.5+0.j, 0.5+0.j]\n",
    "np.dot(expm(1j*M),had)"
   ]
  },
  {
   "cell_type": "code",
   "execution_count": null,
   "metadata": {},
   "outputs": [],
   "source": []
  },
  {
   "cell_type": "code",
   "execution_count": null,
   "metadata": {},
   "outputs": [],
   "source": []
  },
  {
   "cell_type": "code",
   "execution_count": null,
   "metadata": {},
   "outputs": [],
   "source": []
  },
  {
   "cell_type": "code",
   "execution_count": null,
   "metadata": {},
   "outputs": [],
   "source": []
  },
  {
   "cell_type": "code",
   "execution_count": null,
   "metadata": {},
   "outputs": [],
   "source": []
  }
 ],
 "metadata": {
  "kernelspec": {
   "display_name": "Python 3",
   "language": "python",
   "name": "python3"
  },
  "language_info": {
   "codemirror_mode": {
    "name": "ipython",
    "version": 3
   },
   "file_extension": ".py",
   "mimetype": "text/x-python",
   "name": "python",
   "nbconvert_exporter": "python",
   "pygments_lexer": "ipython3",
   "version": "3.7.1"
  }
 },
 "nbformat": 4,
 "nbformat_minor": 4
}
